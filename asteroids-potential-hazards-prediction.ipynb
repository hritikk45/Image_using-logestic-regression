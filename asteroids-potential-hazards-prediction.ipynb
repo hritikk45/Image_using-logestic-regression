{
 "cells": [
  {
   "cell_type": "markdown",
   "id": "copyrighted-bride",
   "metadata": {
    "id": "2KFa4TYoFJw-",
    "papermill": {
     "duration": 0.08018,
     "end_time": "2021-06-30T14:49:52.573453",
     "exception": false,
     "start_time": "2021-06-30T14:49:52.493273",
     "status": "completed"
    },
    "tags": []
   },
   "source": [
    "# Asteroids Potential Hazards Prediction \n",
    "\n",
    "This notebook is a work flow for various Python-based machine learning model for predicting if the Asteriod protential Hazards or not?\n",
    "\n",
    "I am an Amateur astronomer, amateur Astrophotographer, and one of a member of Singapore Sidewalk astronomy(https://www.facebook.com/SingaporeSidewalkAstronomy).\n",
    "\n",
    "My background is in computer science. and i m a practitioner of Machine learning."
   ]
  },
  {
   "cell_type": "markdown",
   "id": "configured-punch",
   "metadata": {
    "id": "JCUaYaB-FtV6",
    "papermill": {
     "duration": 0.077703,
     "end_time": "2021-06-30T14:49:52.729891",
     "exception": false,
     "start_time": "2021-06-30T14:49:52.652188",
     "status": "completed"
    },
    "tags": []
   },
   "source": [
    "Going to take the following approach:\n",
    "\n",
    "1. Problem definition\n",
    "2. Data\n",
    "3. Evaluation\n",
    "4. Features\n",
    "5. Modelling\n",
    "6. Model Evaluation"
   ]
  },
  {
   "cell_type": "markdown",
   "id": "damaged-climb",
   "metadata": {
    "id": "eQUwyLwWFvQJ",
    "papermill": {
     "duration": 0.075009,
     "end_time": "2021-06-30T14:49:52.880786",
     "exception": false,
     "start_time": "2021-06-30T14:49:52.805777",
     "status": "completed"
    },
    "tags": []
   },
   "source": [
    "# 1. Problem Definition\n",
    "\n",
    "How we can use various python based Machine Learning Model to and the given parameters to predict if the Asteroids Protential Hazard or not?"
   ]
  },
  {
   "cell_type": "markdown",
   "id": "following-verse",
   "metadata": {
    "id": "NcaBmCP_F8QT",
    "papermill": {
     "duration": 0.07659,
     "end_time": "2021-06-30T14:49:53.033595",
     "exception": false,
     "start_time": "2021-06-30T14:49:52.957005",
     "status": "completed"
    },
    "tags": []
   },
   "source": [
    "# 2. Data\n",
    "\n",
    "Data from: https://www.kaggle.com/sakhawat18/asteroid-dataset\n",
    "\n"
   ]
  },
  {
   "cell_type": "markdown",
   "id": "animated-triple",
   "metadata": {
    "id": "wusw-rZNGBPZ",
    "papermill": {
     "duration": 0.094633,
     "end_time": "2021-06-30T14:49:53.214469",
     "exception": false,
     "start_time": "2021-06-30T14:49:53.119836",
     "status": "completed"
    },
    "tags": []
   },
   "source": [
    "# 3. Evaluation\n",
    "\n",
    "## Task Details\n",
    "\n",
    "Asteroid Dataset contains different Physical Parameters and measurements. First Task is to predict whether an Asteroid is potential hazards or not.\n",
    "\n",
    "## Expected Submission\n",
    "\n",
    "Submit a notebook that implements the full life-cycle of data preparation, model creation and evaluation. Feel free to use this dataset plus any other datasets you have available. Since this is not a formal competition, you're not submitting a single submission file, but rather your whole approach to building a model.\n",
    "With this model, you should produce a table in the following format\n",
    "\n",
    "## Evaluation\n",
    "\n",
    "This is not a formal competition, so we won't measure the results strictly against a given validation set using a strict metric. We will check the following points at the submitted Notebooks\n",
    "\n",
    "    * Accuracy\n",
    "    * Data Preparation\n",
    "    * Proper Documentation\n",
    "    * We’re looking for genuine approaches to building models on a real problem that can serve as learning examples for our Astronomy Community.\n"
   ]
  },
  {
   "cell_type": "markdown",
   "id": "narrow-preliminary",
   "metadata": {
    "id": "a-J3nsI7HYIP",
    "papermill": {
     "duration": 0.074621,
     "end_time": "2021-06-30T14:49:53.364093",
     "exception": false,
     "start_time": "2021-06-30T14:49:53.289472",
     "status": "completed"
    },
    "tags": []
   },
   "source": [
    "# 4. Features\n",
    "\n",
    "\n",
    "    1. SPK-ID: Object primary SPK-ID\n",
    "    2. Object ID: Object internal database ID\n",
    "    3. Object fullname: Object full name/designation\n",
    "    4. pdes: Object primary designation\n",
    "    5. name: Object IAU name\n",
    "    6. NEO: Near-Earth Object (NEO) flag\n",
    "    8. H: Absolute magnitude parameter\n",
    "    9. Diameter: object diameter (from equivalent sphere) km Unit\n",
    "    10. Albedo: Geometric albedo\n",
    "    11. Diameter_sigma: 1-sigma uncertainty in object diameter km Unit\n",
    "    12. Orbit_id: Orbit solution ID\n",
    "    13. Epoch: Epoch of osculation in modified Julian day form\n",
    "    14. Equinox: Equinox of reference frame\n",
    "    15. e: Eccentricity\n",
    "    16. a: Semi-major axis au Unit\n",
    "    17. q: perihelion distance au Unit\n",
    "    18. i: inclination; angle with respect to x-y ecliptic plane\n",
    "    19. tp: Time of perihelion passage TDB Unit\n",
    "    20. moid_ld: Earth Minimum Orbit Intersection Distance au Unit\n",
    "\n",
    "## Outputs / Labels\n",
    "    7. PHA: Potentially Hazardous Asteroid (PHA) flag\n"
   ]
  },
  {
   "cell_type": "markdown",
   "id": "welcome-scratch",
   "metadata": {
    "id": "h27l2_q_H9WV",
    "papermill": {
     "duration": 0.074915,
     "end_time": "2021-06-30T14:49:53.513952",
     "exception": false,
     "start_time": "2021-06-30T14:49:53.439037",
     "status": "completed"
    },
    "tags": []
   },
   "source": [
    "## Standard Imports"
   ]
  },
  {
   "cell_type": "code",
   "execution_count": 1,
   "id": "structural-farming",
   "metadata": {
    "execution": {
     "iopub.execute_input": "2021-06-30T14:49:53.678758Z",
     "iopub.status.busy": "2021-06-30T14:49:53.677964Z",
     "iopub.status.idle": "2021-06-30T14:49:54.604342Z",
     "shell.execute_reply": "2021-06-30T14:49:54.601252Z",
     "shell.execute_reply.started": "2021-06-28T00:44:11.352545Z"
    },
    "executionInfo": {
     "elapsed": 1309,
     "status": "ok",
     "timestamp": 1624839265699,
     "user": {
      "displayName": "Dave Ng",
      "photoUrl": "https://lh3.googleusercontent.com/a-/AOh14GgonRm27MsGqoj6VBdYHSPgZwrgEH99_VpwU7OMzQ=s64",
      "userId": "11648937927449049695"
     },
     "user_tz": -480
    },
    "id": "sMvs0nTlIRJu",
    "papermill": {
     "duration": 1.014861,
     "end_time": "2021-06-30T14:49:54.604585",
     "exception": false,
     "start_time": "2021-06-30T14:49:53.589724",
     "status": "completed"
    },
    "tags": []
   },
   "outputs": [],
   "source": [
    "import pandas as pd\n",
    "import numpy as np\n",
    "import matplotlib.pyplot as plt\n",
    "import seaborn as sns"
   ]
  },
  {
   "cell_type": "code",
   "execution_count": 2,
   "id": "electrical-marker",
   "metadata": {
    "execution": {
     "iopub.execute_input": "2021-06-30T14:49:54.761461Z",
     "iopub.status.busy": "2021-06-30T14:49:54.760706Z",
     "iopub.status.idle": "2021-06-30T14:49:54.772061Z",
     "shell.execute_reply": "2021-06-30T14:49:54.772632Z",
     "shell.execute_reply.started": "2021-06-28T00:44:11.362643Z"
    },
    "papermill": {
     "duration": 0.092764,
     "end_time": "2021-06-30T14:49:54.772837",
     "exception": false,
     "start_time": "2021-06-30T14:49:54.680073",
     "status": "completed"
    },
    "tags": []
   },
   "outputs": [
    {
     "name": "stdout",
     "output_type": "stream",
     "text": [
      "/kaggle/input/asteroid-dataset/dataset.csv\n"
     ]
    }
   ],
   "source": [
    "import os\n",
    "for dirname, _, filenames in os.walk('/kaggle/input'):\n",
    "    for filename in filenames:\n",
    "        print(os.path.join(dirname, filename))"
   ]
  },
  {
   "cell_type": "code",
   "execution_count": 3,
   "id": "crude-education",
   "metadata": {
    "execution": {
     "iopub.execute_input": "2021-06-30T14:49:54.931177Z",
     "iopub.status.busy": "2021-06-30T14:49:54.930432Z",
     "iopub.status.idle": "2021-06-30T14:50:18.939571Z",
     "shell.execute_reply": "2021-06-30T14:50:18.938820Z",
     "shell.execute_reply.started": "2021-06-28T00:44:11.375652Z"
    },
    "executionInfo": {
     "elapsed": 11476,
     "status": "ok",
     "timestamp": 1624839277172,
     "user": {
      "displayName": "Dave Ng",
      "photoUrl": "https://lh3.googleusercontent.com/a-/AOh14GgonRm27MsGqoj6VBdYHSPgZwrgEH99_VpwU7OMzQ=s64",
      "userId": "11648937927449049695"
     },
     "user_tz": -480
    },
    "id": "NWvJ68HQIS9I",
    "outputId": "116abb00-9f64-4615-8c4a-31faeed8a41c",
    "papermill": {
     "duration": 24.090232,
     "end_time": "2021-06-30T14:50:18.939733",
     "exception": false,
     "start_time": "2021-06-30T14:49:54.849501",
     "status": "completed"
    },
    "tags": []
   },
   "outputs": [
    {
     "data": {
      "text/html": [
       "<div>\n",
       "<style scoped>\n",
       "    .dataframe tbody tr th:only-of-type {\n",
       "        vertical-align: middle;\n",
       "    }\n",
       "\n",
       "    .dataframe tbody tr th {\n",
       "        vertical-align: top;\n",
       "    }\n",
       "\n",
       "    .dataframe thead th {\n",
       "        text-align: right;\n",
       "    }\n",
       "</style>\n",
       "<table border=\"1\" class=\"dataframe\">\n",
       "  <thead>\n",
       "    <tr style=\"text-align: right;\">\n",
       "      <th></th>\n",
       "      <th>id</th>\n",
       "      <th>spkid</th>\n",
       "      <th>full_name</th>\n",
       "      <th>pdes</th>\n",
       "      <th>name</th>\n",
       "      <th>prefix</th>\n",
       "      <th>neo</th>\n",
       "      <th>pha</th>\n",
       "      <th>H</th>\n",
       "      <th>diameter</th>\n",
       "      <th>...</th>\n",
       "      <th>sigma_i</th>\n",
       "      <th>sigma_om</th>\n",
       "      <th>sigma_w</th>\n",
       "      <th>sigma_ma</th>\n",
       "      <th>sigma_ad</th>\n",
       "      <th>sigma_n</th>\n",
       "      <th>sigma_tp</th>\n",
       "      <th>sigma_per</th>\n",
       "      <th>class</th>\n",
       "      <th>rms</th>\n",
       "    </tr>\n",
       "  </thead>\n",
       "  <tbody>\n",
       "    <tr>\n",
       "      <th>0</th>\n",
       "      <td>a0000001</td>\n",
       "      <td>2000001</td>\n",
       "      <td>1 Ceres</td>\n",
       "      <td>1</td>\n",
       "      <td>Ceres</td>\n",
       "      <td>NaN</td>\n",
       "      <td>N</td>\n",
       "      <td>N</td>\n",
       "      <td>3.40</td>\n",
       "      <td>939.400</td>\n",
       "      <td>...</td>\n",
       "      <td>4.608900e-09</td>\n",
       "      <td>6.168800e-08</td>\n",
       "      <td>6.624800e-08</td>\n",
       "      <td>7.820700e-09</td>\n",
       "      <td>1.111300e-11</td>\n",
       "      <td>1.196500e-12</td>\n",
       "      <td>3.782900e-08</td>\n",
       "      <td>9.415900e-09</td>\n",
       "      <td>MBA</td>\n",
       "      <td>0.43301</td>\n",
       "    </tr>\n",
       "    <tr>\n",
       "      <th>1</th>\n",
       "      <td>a0000002</td>\n",
       "      <td>2000002</td>\n",
       "      <td>2 Pallas</td>\n",
       "      <td>2</td>\n",
       "      <td>Pallas</td>\n",
       "      <td>NaN</td>\n",
       "      <td>N</td>\n",
       "      <td>N</td>\n",
       "      <td>4.20</td>\n",
       "      <td>545.000</td>\n",
       "      <td>...</td>\n",
       "      <td>3.469400e-06</td>\n",
       "      <td>6.272400e-06</td>\n",
       "      <td>9.128200e-06</td>\n",
       "      <td>8.859100e-06</td>\n",
       "      <td>4.961300e-09</td>\n",
       "      <td>4.653600e-10</td>\n",
       "      <td>4.078700e-05</td>\n",
       "      <td>3.680700e-06</td>\n",
       "      <td>MBA</td>\n",
       "      <td>0.35936</td>\n",
       "    </tr>\n",
       "    <tr>\n",
       "      <th>2</th>\n",
       "      <td>a0000003</td>\n",
       "      <td>2000003</td>\n",
       "      <td>3 Juno</td>\n",
       "      <td>3</td>\n",
       "      <td>Juno</td>\n",
       "      <td>NaN</td>\n",
       "      <td>N</td>\n",
       "      <td>N</td>\n",
       "      <td>5.33</td>\n",
       "      <td>246.596</td>\n",
       "      <td>...</td>\n",
       "      <td>3.223100e-06</td>\n",
       "      <td>1.664600e-05</td>\n",
       "      <td>1.772100e-05</td>\n",
       "      <td>8.110400e-06</td>\n",
       "      <td>4.363900e-09</td>\n",
       "      <td>4.413400e-10</td>\n",
       "      <td>3.528800e-05</td>\n",
       "      <td>3.107200e-06</td>\n",
       "      <td>MBA</td>\n",
       "      <td>0.33848</td>\n",
       "    </tr>\n",
       "    <tr>\n",
       "      <th>3</th>\n",
       "      <td>a0000004</td>\n",
       "      <td>2000004</td>\n",
       "      <td>4 Vesta</td>\n",
       "      <td>4</td>\n",
       "      <td>Vesta</td>\n",
       "      <td>NaN</td>\n",
       "      <td>N</td>\n",
       "      <td>N</td>\n",
       "      <td>3.00</td>\n",
       "      <td>525.400</td>\n",
       "      <td>...</td>\n",
       "      <td>2.170600e-07</td>\n",
       "      <td>3.880800e-07</td>\n",
       "      <td>1.789300e-07</td>\n",
       "      <td>1.206800e-06</td>\n",
       "      <td>1.648600e-09</td>\n",
       "      <td>2.612500e-10</td>\n",
       "      <td>4.103700e-06</td>\n",
       "      <td>1.274900e-06</td>\n",
       "      <td>MBA</td>\n",
       "      <td>0.39980</td>\n",
       "    </tr>\n",
       "    <tr>\n",
       "      <th>4</th>\n",
       "      <td>a0000005</td>\n",
       "      <td>2000005</td>\n",
       "      <td>5 Astraea</td>\n",
       "      <td>5</td>\n",
       "      <td>Astraea</td>\n",
       "      <td>NaN</td>\n",
       "      <td>N</td>\n",
       "      <td>N</td>\n",
       "      <td>6.90</td>\n",
       "      <td>106.699</td>\n",
       "      <td>...</td>\n",
       "      <td>2.740800e-06</td>\n",
       "      <td>2.894900e-05</td>\n",
       "      <td>2.984200e-05</td>\n",
       "      <td>8.303800e-06</td>\n",
       "      <td>4.729000e-09</td>\n",
       "      <td>5.522700e-10</td>\n",
       "      <td>3.474300e-05</td>\n",
       "      <td>3.490500e-06</td>\n",
       "      <td>MBA</td>\n",
       "      <td>0.52191</td>\n",
       "    </tr>\n",
       "  </tbody>\n",
       "</table>\n",
       "<p>5 rows × 45 columns</p>\n",
       "</div>"
      ],
      "text/plain": [
       "         id    spkid       full_name pdes     name prefix neo pha     H  \\\n",
       "0  a0000001  2000001         1 Ceres    1    Ceres    NaN   N   N  3.40   \n",
       "1  a0000002  2000002        2 Pallas    2   Pallas    NaN   N   N  4.20   \n",
       "2  a0000003  2000003          3 Juno    3     Juno    NaN   N   N  5.33   \n",
       "3  a0000004  2000004         4 Vesta    4    Vesta    NaN   N   N  3.00   \n",
       "4  a0000005  2000005       5 Astraea    5  Astraea    NaN   N   N  6.90   \n",
       "\n",
       "   diameter  ...       sigma_i      sigma_om       sigma_w      sigma_ma  \\\n",
       "0   939.400  ...  4.608900e-09  6.168800e-08  6.624800e-08  7.820700e-09   \n",
       "1   545.000  ...  3.469400e-06  6.272400e-06  9.128200e-06  8.859100e-06   \n",
       "2   246.596  ...  3.223100e-06  1.664600e-05  1.772100e-05  8.110400e-06   \n",
       "3   525.400  ...  2.170600e-07  3.880800e-07  1.789300e-07  1.206800e-06   \n",
       "4   106.699  ...  2.740800e-06  2.894900e-05  2.984200e-05  8.303800e-06   \n",
       "\n",
       "       sigma_ad       sigma_n      sigma_tp     sigma_per  class      rms  \n",
       "0  1.111300e-11  1.196500e-12  3.782900e-08  9.415900e-09    MBA  0.43301  \n",
       "1  4.961300e-09  4.653600e-10  4.078700e-05  3.680700e-06    MBA  0.35936  \n",
       "2  4.363900e-09  4.413400e-10  3.528800e-05  3.107200e-06    MBA  0.33848  \n",
       "3  1.648600e-09  2.612500e-10  4.103700e-06  1.274900e-06    MBA  0.39980  \n",
       "4  4.729000e-09  5.522700e-10  3.474300e-05  3.490500e-06    MBA  0.52191  \n",
       "\n",
       "[5 rows x 45 columns]"
      ]
     },
     "execution_count": 3,
     "metadata": {},
     "output_type": "execute_result"
    }
   ],
   "source": [
    "#df =  pd.read_csv('/content/drive/MyDrive/Colab Notebooks/ML Self-Projects/Asteroids Potential Hazards Prediction /Data/dataset.csv')\n",
    "df = pd.read_csv('/kaggle/input/asteroid-dataset/dataset.csv', low_memory=False)\n",
    "df.head()"
   ]
  },
  {
   "cell_type": "markdown",
   "id": "electronic-copyright",
   "metadata": {
    "id": "hVaHUyrIIfTm",
    "papermill": {
     "duration": 0.075507,
     "end_time": "2021-06-30T14:50:19.092189",
     "exception": false,
     "start_time": "2021-06-30T14:50:19.016682",
     "status": "completed"
    },
    "tags": []
   },
   "source": [
    "## Data Exporation"
   ]
  },
  {
   "cell_type": "code",
   "execution_count": 4,
   "id": "seven-future",
   "metadata": {
    "execution": {
     "iopub.execute_input": "2021-06-30T14:50:19.255671Z",
     "iopub.status.busy": "2021-06-30T14:50:19.254958Z",
     "iopub.status.idle": "2021-06-30T14:50:19.801057Z",
     "shell.execute_reply": "2021-06-30T14:50:19.800523Z",
     "shell.execute_reply.started": "2021-06-28T00:44:23.308877Z"
    },
    "executionInfo": {
     "elapsed": 13,
     "status": "ok",
     "timestamp": 1624839277175,
     "user": {
      "displayName": "Dave Ng",
      "photoUrl": "https://lh3.googleusercontent.com/a-/AOh14GgonRm27MsGqoj6VBdYHSPgZwrgEH99_VpwU7OMzQ=s64",
      "userId": "11648937927449049695"
     },
     "user_tz": -480
    },
    "id": "-3Z8udd_Ikyy",
    "outputId": "253a2fcd-afb6-4f84-c6d8-a9fe8be9216f",
    "papermill": {
     "duration": 0.630506,
     "end_time": "2021-06-30T14:50:19.801217",
     "exception": false,
     "start_time": "2021-06-30T14:50:19.170711",
     "status": "completed"
    },
    "tags": []
   },
   "outputs": [
    {
     "data": {
      "text/html": [
       "<div>\n",
       "<style scoped>\n",
       "    .dataframe tbody tr th:only-of-type {\n",
       "        vertical-align: middle;\n",
       "    }\n",
       "\n",
       "    .dataframe tbody tr th {\n",
       "        vertical-align: top;\n",
       "    }\n",
       "\n",
       "    .dataframe thead th {\n",
       "        text-align: right;\n",
       "    }\n",
       "</style>\n",
       "<table border=\"1\" class=\"dataframe\">\n",
       "  <thead>\n",
       "    <tr style=\"text-align: right;\">\n",
       "      <th></th>\n",
       "      <th>id</th>\n",
       "      <th>spkid</th>\n",
       "      <th>full_name</th>\n",
       "      <th>pdes</th>\n",
       "      <th>name</th>\n",
       "      <th>prefix</th>\n",
       "      <th>neo</th>\n",
       "      <th>pha</th>\n",
       "      <th>H</th>\n",
       "      <th>diameter</th>\n",
       "      <th>...</th>\n",
       "      <th>sigma_i</th>\n",
       "      <th>sigma_om</th>\n",
       "      <th>sigma_w</th>\n",
       "      <th>sigma_ma</th>\n",
       "      <th>sigma_ad</th>\n",
       "      <th>sigma_n</th>\n",
       "      <th>sigma_tp</th>\n",
       "      <th>sigma_per</th>\n",
       "      <th>class</th>\n",
       "      <th>rms</th>\n",
       "    </tr>\n",
       "  </thead>\n",
       "  <tbody>\n",
       "    <tr>\n",
       "      <th>0</th>\n",
       "      <td>a0000001</td>\n",
       "      <td>2000001</td>\n",
       "      <td>1 Ceres</td>\n",
       "      <td>1</td>\n",
       "      <td>Ceres</td>\n",
       "      <td>NaN</td>\n",
       "      <td>N</td>\n",
       "      <td>N</td>\n",
       "      <td>3.400</td>\n",
       "      <td>939.400</td>\n",
       "      <td>...</td>\n",
       "      <td>4.608900e-09</td>\n",
       "      <td>6.168800e-08</td>\n",
       "      <td>6.624800e-08</td>\n",
       "      <td>7.820700e-09</td>\n",
       "      <td>1.111300e-11</td>\n",
       "      <td>1.196500e-12</td>\n",
       "      <td>3.782900e-08</td>\n",
       "      <td>9.415900e-09</td>\n",
       "      <td>MBA</td>\n",
       "      <td>0.43301</td>\n",
       "    </tr>\n",
       "    <tr>\n",
       "      <th>1</th>\n",
       "      <td>a0000002</td>\n",
       "      <td>2000002</td>\n",
       "      <td>2 Pallas</td>\n",
       "      <td>2</td>\n",
       "      <td>Pallas</td>\n",
       "      <td>NaN</td>\n",
       "      <td>N</td>\n",
       "      <td>N</td>\n",
       "      <td>4.200</td>\n",
       "      <td>545.000</td>\n",
       "      <td>...</td>\n",
       "      <td>3.469400e-06</td>\n",
       "      <td>6.272400e-06</td>\n",
       "      <td>9.128200e-06</td>\n",
       "      <td>8.859100e-06</td>\n",
       "      <td>4.961300e-09</td>\n",
       "      <td>4.653600e-10</td>\n",
       "      <td>4.078700e-05</td>\n",
       "      <td>3.680700e-06</td>\n",
       "      <td>MBA</td>\n",
       "      <td>0.35936</td>\n",
       "    </tr>\n",
       "    <tr>\n",
       "      <th>2</th>\n",
       "      <td>a0000003</td>\n",
       "      <td>2000003</td>\n",
       "      <td>3 Juno</td>\n",
       "      <td>3</td>\n",
       "      <td>Juno</td>\n",
       "      <td>NaN</td>\n",
       "      <td>N</td>\n",
       "      <td>N</td>\n",
       "      <td>5.330</td>\n",
       "      <td>246.596</td>\n",
       "      <td>...</td>\n",
       "      <td>3.223100e-06</td>\n",
       "      <td>1.664600e-05</td>\n",
       "      <td>1.772100e-05</td>\n",
       "      <td>8.110400e-06</td>\n",
       "      <td>4.363900e-09</td>\n",
       "      <td>4.413400e-10</td>\n",
       "      <td>3.528800e-05</td>\n",
       "      <td>3.107200e-06</td>\n",
       "      <td>MBA</td>\n",
       "      <td>0.33848</td>\n",
       "    </tr>\n",
       "    <tr>\n",
       "      <th>3</th>\n",
       "      <td>a0000004</td>\n",
       "      <td>2000004</td>\n",
       "      <td>4 Vesta</td>\n",
       "      <td>4</td>\n",
       "      <td>Vesta</td>\n",
       "      <td>NaN</td>\n",
       "      <td>N</td>\n",
       "      <td>N</td>\n",
       "      <td>3.000</td>\n",
       "      <td>525.400</td>\n",
       "      <td>...</td>\n",
       "      <td>2.170600e-07</td>\n",
       "      <td>3.880800e-07</td>\n",
       "      <td>1.789300e-07</td>\n",
       "      <td>1.206800e-06</td>\n",
       "      <td>1.648600e-09</td>\n",
       "      <td>2.612500e-10</td>\n",
       "      <td>4.103700e-06</td>\n",
       "      <td>1.274900e-06</td>\n",
       "      <td>MBA</td>\n",
       "      <td>0.39980</td>\n",
       "    </tr>\n",
       "    <tr>\n",
       "      <th>4</th>\n",
       "      <td>a0000005</td>\n",
       "      <td>2000005</td>\n",
       "      <td>5 Astraea</td>\n",
       "      <td>5</td>\n",
       "      <td>Astraea</td>\n",
       "      <td>NaN</td>\n",
       "      <td>N</td>\n",
       "      <td>N</td>\n",
       "      <td>6.900</td>\n",
       "      <td>106.699</td>\n",
       "      <td>...</td>\n",
       "      <td>2.740800e-06</td>\n",
       "      <td>2.894900e-05</td>\n",
       "      <td>2.984200e-05</td>\n",
       "      <td>8.303800e-06</td>\n",
       "      <td>4.729000e-09</td>\n",
       "      <td>5.522700e-10</td>\n",
       "      <td>3.474300e-05</td>\n",
       "      <td>3.490500e-06</td>\n",
       "      <td>MBA</td>\n",
       "      <td>0.52191</td>\n",
       "    </tr>\n",
       "    <tr>\n",
       "      <th>...</th>\n",
       "      <td>...</td>\n",
       "      <td>...</td>\n",
       "      <td>...</td>\n",
       "      <td>...</td>\n",
       "      <td>...</td>\n",
       "      <td>...</td>\n",
       "      <td>...</td>\n",
       "      <td>...</td>\n",
       "      <td>...</td>\n",
       "      <td>...</td>\n",
       "      <td>...</td>\n",
       "      <td>...</td>\n",
       "      <td>...</td>\n",
       "      <td>...</td>\n",
       "      <td>...</td>\n",
       "      <td>...</td>\n",
       "      <td>...</td>\n",
       "      <td>...</td>\n",
       "      <td>...</td>\n",
       "      <td>...</td>\n",
       "      <td>...</td>\n",
       "    </tr>\n",
       "    <tr>\n",
       "      <th>958519</th>\n",
       "      <td>bPLS6013</td>\n",
       "      <td>3246801</td>\n",
       "      <td>(6013 P-L)</td>\n",
       "      <td>6013 P-L</td>\n",
       "      <td>NaN</td>\n",
       "      <td>NaN</td>\n",
       "      <td>N</td>\n",
       "      <td>N</td>\n",
       "      <td>17.135</td>\n",
       "      <td>NaN</td>\n",
       "      <td>...</td>\n",
       "      <td>6.969000e+00</td>\n",
       "      <td>7.433000e+00</td>\n",
       "      <td>4.631100e+01</td>\n",
       "      <td>2.738300e+01</td>\n",
       "      <td>1.041200e+00</td>\n",
       "      <td>1.652100e-01</td>\n",
       "      <td>1.309700e+02</td>\n",
       "      <td>7.264900e+02</td>\n",
       "      <td>MBA</td>\n",
       "      <td>0.23839</td>\n",
       "    </tr>\n",
       "    <tr>\n",
       "      <th>958520</th>\n",
       "      <td>bPLS6331</td>\n",
       "      <td>3246834</td>\n",
       "      <td>(6331 P-L)</td>\n",
       "      <td>6331 P-L</td>\n",
       "      <td>NaN</td>\n",
       "      <td>NaN</td>\n",
       "      <td>N</td>\n",
       "      <td>N</td>\n",
       "      <td>18.500</td>\n",
       "      <td>NaN</td>\n",
       "      <td>...</td>\n",
       "      <td>1.563500e-05</td>\n",
       "      <td>5.598600e-05</td>\n",
       "      <td>2.380400e-04</td>\n",
       "      <td>1.298200e-04</td>\n",
       "      <td>2.418900e-08</td>\n",
       "      <td>3.346100e-09</td>\n",
       "      <td>4.690200e-04</td>\n",
       "      <td>1.578500e-05</td>\n",
       "      <td>MBA</td>\n",
       "      <td>0.53633</td>\n",
       "    </tr>\n",
       "    <tr>\n",
       "      <th>958521</th>\n",
       "      <td>bPLS6344</td>\n",
       "      <td>3013075</td>\n",
       "      <td>(6344 P-L)</td>\n",
       "      <td>6344 P-L</td>\n",
       "      <td>NaN</td>\n",
       "      <td>NaN</td>\n",
       "      <td>Y</td>\n",
       "      <td>Y</td>\n",
       "      <td>20.400</td>\n",
       "      <td>NaN</td>\n",
       "      <td>...</td>\n",
       "      <td>1.853300e-05</td>\n",
       "      <td>5.691700e-05</td>\n",
       "      <td>8.969200e-05</td>\n",
       "      <td>5.272600e-05</td>\n",
       "      <td>1.650100e-07</td>\n",
       "      <td>1.101600e-08</td>\n",
       "      <td>2.830600e-04</td>\n",
       "      <td>9.127500e-05</td>\n",
       "      <td>APO</td>\n",
       "      <td>0.51556</td>\n",
       "    </tr>\n",
       "    <tr>\n",
       "      <th>958522</th>\n",
       "      <td>bT2S2060</td>\n",
       "      <td>3246457</td>\n",
       "      <td>(2060 T-2)</td>\n",
       "      <td>2060 T-2</td>\n",
       "      <td>NaN</td>\n",
       "      <td>NaN</td>\n",
       "      <td>N</td>\n",
       "      <td>N</td>\n",
       "      <td>18.071</td>\n",
       "      <td>NaN</td>\n",
       "      <td>...</td>\n",
       "      <td>5.448800e-01</td>\n",
       "      <td>4.391600e+00</td>\n",
       "      <td>1.898800e+01</td>\n",
       "      <td>1.083800e+01</td>\n",
       "      <td>7.171600e-01</td>\n",
       "      <td>1.016700e-01</td>\n",
       "      <td>3.898400e+01</td>\n",
       "      <td>5.035500e+02</td>\n",
       "      <td>MBA</td>\n",
       "      <td>0.25641</td>\n",
       "    </tr>\n",
       "    <tr>\n",
       "      <th>958523</th>\n",
       "      <td>bT3S2678</td>\n",
       "      <td>3246553</td>\n",
       "      <td>(2678 T-3)</td>\n",
       "      <td>2678 T-3</td>\n",
       "      <td>NaN</td>\n",
       "      <td>NaN</td>\n",
       "      <td>N</td>\n",
       "      <td>N</td>\n",
       "      <td>18.060</td>\n",
       "      <td>NaN</td>\n",
       "      <td>...</td>\n",
       "      <td>1.102300e+00</td>\n",
       "      <td>3.117000e-01</td>\n",
       "      <td>1.284300e+00</td>\n",
       "      <td>4.736100e-01</td>\n",
       "      <td>1.626700e-01</td>\n",
       "      <td>2.487900e-02</td>\n",
       "      <td>5.523600e+00</td>\n",
       "      <td>1.064800e+02</td>\n",
       "      <td>MBA</td>\n",
       "      <td>0.26980</td>\n",
       "    </tr>\n",
       "  </tbody>\n",
       "</table>\n",
       "<p>958524 rows × 45 columns</p>\n",
       "</div>"
      ],
      "text/plain": [
       "              id    spkid          full_name      pdes     name prefix neo  \\\n",
       "0       a0000001  2000001            1 Ceres         1    Ceres    NaN   N   \n",
       "1       a0000002  2000002           2 Pallas         2   Pallas    NaN   N   \n",
       "2       a0000003  2000003             3 Juno         3     Juno    NaN   N   \n",
       "3       a0000004  2000004            4 Vesta         4    Vesta    NaN   N   \n",
       "4       a0000005  2000005          5 Astraea         5  Astraea    NaN   N   \n",
       "...          ...      ...                ...       ...      ...    ...  ..   \n",
       "958519  bPLS6013  3246801         (6013 P-L)  6013 P-L      NaN    NaN   N   \n",
       "958520  bPLS6331  3246834         (6331 P-L)  6331 P-L      NaN    NaN   N   \n",
       "958521  bPLS6344  3013075         (6344 P-L)  6344 P-L      NaN    NaN   Y   \n",
       "958522  bT2S2060  3246457         (2060 T-2)  2060 T-2      NaN    NaN   N   \n",
       "958523  bT3S2678  3246553         (2678 T-3)  2678 T-3      NaN    NaN   N   \n",
       "\n",
       "       pha       H  diameter  ...       sigma_i      sigma_om       sigma_w  \\\n",
       "0        N   3.400   939.400  ...  4.608900e-09  6.168800e-08  6.624800e-08   \n",
       "1        N   4.200   545.000  ...  3.469400e-06  6.272400e-06  9.128200e-06   \n",
       "2        N   5.330   246.596  ...  3.223100e-06  1.664600e-05  1.772100e-05   \n",
       "3        N   3.000   525.400  ...  2.170600e-07  3.880800e-07  1.789300e-07   \n",
       "4        N   6.900   106.699  ...  2.740800e-06  2.894900e-05  2.984200e-05   \n",
       "...     ..     ...       ...  ...           ...           ...           ...   \n",
       "958519   N  17.135       NaN  ...  6.969000e+00  7.433000e+00  4.631100e+01   \n",
       "958520   N  18.500       NaN  ...  1.563500e-05  5.598600e-05  2.380400e-04   \n",
       "958521   Y  20.400       NaN  ...  1.853300e-05  5.691700e-05  8.969200e-05   \n",
       "958522   N  18.071       NaN  ...  5.448800e-01  4.391600e+00  1.898800e+01   \n",
       "958523   N  18.060       NaN  ...  1.102300e+00  3.117000e-01  1.284300e+00   \n",
       "\n",
       "            sigma_ma      sigma_ad       sigma_n      sigma_tp     sigma_per  \\\n",
       "0       7.820700e-09  1.111300e-11  1.196500e-12  3.782900e-08  9.415900e-09   \n",
       "1       8.859100e-06  4.961300e-09  4.653600e-10  4.078700e-05  3.680700e-06   \n",
       "2       8.110400e-06  4.363900e-09  4.413400e-10  3.528800e-05  3.107200e-06   \n",
       "3       1.206800e-06  1.648600e-09  2.612500e-10  4.103700e-06  1.274900e-06   \n",
       "4       8.303800e-06  4.729000e-09  5.522700e-10  3.474300e-05  3.490500e-06   \n",
       "...              ...           ...           ...           ...           ...   \n",
       "958519  2.738300e+01  1.041200e+00  1.652100e-01  1.309700e+02  7.264900e+02   \n",
       "958520  1.298200e-04  2.418900e-08  3.346100e-09  4.690200e-04  1.578500e-05   \n",
       "958521  5.272600e-05  1.650100e-07  1.101600e-08  2.830600e-04  9.127500e-05   \n",
       "958522  1.083800e+01  7.171600e-01  1.016700e-01  3.898400e+01  5.035500e+02   \n",
       "958523  4.736100e-01  1.626700e-01  2.487900e-02  5.523600e+00  1.064800e+02   \n",
       "\n",
       "        class      rms  \n",
       "0         MBA  0.43301  \n",
       "1         MBA  0.35936  \n",
       "2         MBA  0.33848  \n",
       "3         MBA  0.39980  \n",
       "4         MBA  0.52191  \n",
       "...       ...      ...  \n",
       "958519    MBA  0.23839  \n",
       "958520    MBA  0.53633  \n",
       "958521    APO  0.51556  \n",
       "958522    MBA  0.25641  \n",
       "958523    MBA  0.26980  \n",
       "\n",
       "[958524 rows x 45 columns]"
      ]
     },
     "execution_count": 4,
     "metadata": {},
     "output_type": "execute_result"
    }
   ],
   "source": [
    "df"
   ]
  },
  {
   "cell_type": "code",
   "execution_count": 5,
   "id": "norman-division",
   "metadata": {
    "execution": {
     "iopub.execute_input": "2021-06-30T14:50:19.961991Z",
     "iopub.status.busy": "2021-06-30T14:50:19.961265Z",
     "iopub.status.idle": "2021-06-30T14:50:20.880260Z",
     "shell.execute_reply": "2021-06-30T14:50:20.880955Z",
     "shell.execute_reply.started": "2021-06-28T00:44:23.909419Z"
    },
    "executionInfo": {
     "elapsed": 480,
     "status": "ok",
     "timestamp": 1624839277645,
     "user": {
      "displayName": "Dave Ng",
      "photoUrl": "https://lh3.googleusercontent.com/a-/AOh14GgonRm27MsGqoj6VBdYHSPgZwrgEH99_VpwU7OMzQ=s64",
      "userId": "11648937927449049695"
     },
     "user_tz": -480
    },
    "id": "i30wl6IzIlI3",
    "outputId": "23fe7cc0-42ab-4501-ca08-16510025d151",
    "papermill": {
     "duration": 1.001938,
     "end_time": "2021-06-30T14:50:20.881213",
     "exception": false,
     "start_time": "2021-06-30T14:50:19.879275",
     "status": "completed"
    },
    "tags": []
   },
   "outputs": [
    {
     "name": "stdout",
     "output_type": "stream",
     "text": [
      "<class 'pandas.core.frame.DataFrame'>\n",
      "RangeIndex: 958524 entries, 0 to 958523\n",
      "Data columns (total 45 columns):\n",
      " #   Column          Non-Null Count   Dtype  \n",
      "---  ------          --------------   -----  \n",
      " 0   id              958524 non-null  object \n",
      " 1   spkid           958524 non-null  int64  \n",
      " 2   full_name       958524 non-null  object \n",
      " 3   pdes            958524 non-null  object \n",
      " 4   name            22064 non-null   object \n",
      " 5   prefix          18 non-null      object \n",
      " 6   neo             958520 non-null  object \n",
      " 7   pha             938603 non-null  object \n",
      " 8   H               952261 non-null  float64\n",
      " 9   diameter        136209 non-null  float64\n",
      " 10  albedo          135103 non-null  float64\n",
      " 11  diameter_sigma  136081 non-null  float64\n",
      " 12  orbit_id        958524 non-null  object \n",
      " 13  epoch           958524 non-null  float64\n",
      " 14  epoch_mjd       958524 non-null  int64  \n",
      " 15  epoch_cal       958524 non-null  float64\n",
      " 16  equinox         958524 non-null  object \n",
      " 17  e               958524 non-null  float64\n",
      " 18  a               958524 non-null  float64\n",
      " 19  q               958524 non-null  float64\n",
      " 20  i               958524 non-null  float64\n",
      " 21  om              958524 non-null  float64\n",
      " 22  w               958524 non-null  float64\n",
      " 23  ma              958523 non-null  float64\n",
      " 24  ad              958520 non-null  float64\n",
      " 25  n               958524 non-null  float64\n",
      " 26  tp              958524 non-null  float64\n",
      " 27  tp_cal          958524 non-null  float64\n",
      " 28  per             958520 non-null  float64\n",
      " 29  per_y           958523 non-null  float64\n",
      " 30  moid            938603 non-null  float64\n",
      " 31  moid_ld         958397 non-null  float64\n",
      " 32  sigma_e         938602 non-null  float64\n",
      " 33  sigma_a         938602 non-null  float64\n",
      " 34  sigma_q         938602 non-null  float64\n",
      " 35  sigma_i         938602 non-null  float64\n",
      " 36  sigma_om        938602 non-null  float64\n",
      " 37  sigma_w         938602 non-null  float64\n",
      " 38  sigma_ma        938602 non-null  float64\n",
      " 39  sigma_ad        938598 non-null  float64\n",
      " 40  sigma_n         938602 non-null  float64\n",
      " 41  sigma_tp        938602 non-null  float64\n",
      " 42  sigma_per       938598 non-null  float64\n",
      " 43  class           958524 non-null  object \n",
      " 44  rms             958522 non-null  float64\n",
      "dtypes: float64(33), int64(2), object(10)\n",
      "memory usage: 329.1+ MB\n"
     ]
    }
   ],
   "source": [
    "df.info()"
   ]
  },
  {
   "cell_type": "code",
   "execution_count": 6,
   "id": "through-walker",
   "metadata": {
    "execution": {
     "iopub.execute_input": "2021-06-30T14:50:21.043132Z",
     "iopub.status.busy": "2021-06-30T14:50:21.042505Z",
     "iopub.status.idle": "2021-06-30T14:50:21.953557Z",
     "shell.execute_reply": "2021-06-30T14:50:21.952959Z",
     "shell.execute_reply.started": "2021-06-28T00:44:24.744144Z"
    },
    "executionInfo": {
     "elapsed": 651,
     "status": "ok",
     "timestamp": 1624839278293,
     "user": {
      "displayName": "Dave Ng",
      "photoUrl": "https://lh3.googleusercontent.com/a-/AOh14GgonRm27MsGqoj6VBdYHSPgZwrgEH99_VpwU7OMzQ=s64",
      "userId": "11648937927449049695"
     },
     "user_tz": -480
    },
    "id": "l01-IGoRIsgC",
    "outputId": "fef2fc10-40ff-4384-f1c3-94eb3df52015",
    "papermill": {
     "duration": 0.993809,
     "end_time": "2021-06-30T14:50:21.953704",
     "exception": false,
     "start_time": "2021-06-30T14:50:20.959895",
     "status": "completed"
    },
    "tags": []
   },
   "outputs": [
    {
     "data": {
      "text/plain": [
       "id                     0\n",
       "spkid                  0\n",
       "full_name              0\n",
       "pdes                   0\n",
       "name              936460\n",
       "prefix            958506\n",
       "neo                    4\n",
       "pha                19921\n",
       "H                   6263\n",
       "diameter          822315\n",
       "albedo            823421\n",
       "diameter_sigma    822443\n",
       "orbit_id               0\n",
       "epoch                  0\n",
       "epoch_mjd              0\n",
       "epoch_cal              0\n",
       "equinox                0\n",
       "e                      0\n",
       "a                      0\n",
       "q                      0\n",
       "i                      0\n",
       "om                     0\n",
       "w                      0\n",
       "ma                     1\n",
       "ad                     4\n",
       "n                      0\n",
       "tp                     0\n",
       "tp_cal                 0\n",
       "per                    4\n",
       "per_y                  1\n",
       "moid               19921\n",
       "moid_ld              127\n",
       "sigma_e            19922\n",
       "sigma_a            19922\n",
       "sigma_q            19922\n",
       "sigma_i            19922\n",
       "sigma_om           19922\n",
       "sigma_w            19922\n",
       "sigma_ma           19922\n",
       "sigma_ad           19926\n",
       "sigma_n            19922\n",
       "sigma_tp           19922\n",
       "sigma_per          19926\n",
       "class                  0\n",
       "rms                    2\n",
       "dtype: int64"
      ]
     },
     "execution_count": 6,
     "metadata": {},
     "output_type": "execute_result"
    }
   ],
   "source": [
    "df.isnull().sum()"
   ]
  },
  {
   "cell_type": "code",
   "execution_count": 7,
   "id": "solar-netherlands",
   "metadata": {
    "execution": {
     "iopub.execute_input": "2021-06-30T14:50:22.112940Z",
     "iopub.status.busy": "2021-06-30T14:50:22.112231Z",
     "iopub.status.idle": "2021-06-30T14:50:23.039457Z",
     "shell.execute_reply": "2021-06-30T14:50:23.039978Z",
     "shell.execute_reply.started": "2021-06-28T00:44:25.558328Z"
    },
    "executionInfo": {
     "elapsed": 471,
     "status": "ok",
     "timestamp": 1624839278760,
     "user": {
      "displayName": "Dave Ng",
      "photoUrl": "https://lh3.googleusercontent.com/a-/AOh14GgonRm27MsGqoj6VBdYHSPgZwrgEH99_VpwU7OMzQ=s64",
      "userId": "11648937927449049695"
     },
     "user_tz": -480
    },
    "id": "0wI5Sc6KJTX9",
    "outputId": "bd637cff-c76f-47e7-f907-874fdc1dc939",
    "papermill": {
     "duration": 1.009559,
     "end_time": "2021-06-30T14:50:23.040151",
     "exception": false,
     "start_time": "2021-06-30T14:50:22.030592",
     "status": "completed"
    },
    "tags": []
   },
   "outputs": [
    {
     "data": {
      "text/plain": [
       "id                 0.000000\n",
       "spkid              0.000000\n",
       "full_name          0.000000\n",
       "pdes               0.000000\n",
       "name              97.698128\n",
       "prefix            99.998122\n",
       "neo                0.000417\n",
       "pha                2.078300\n",
       "H                  0.653400\n",
       "diameter          85.789714\n",
       "albedo            85.905100\n",
       "diameter_sigma    85.803068\n",
       "orbit_id           0.000000\n",
       "epoch              0.000000\n",
       "epoch_mjd          0.000000\n",
       "epoch_cal          0.000000\n",
       "equinox            0.000000\n",
       "e                  0.000000\n",
       "a                  0.000000\n",
       "q                  0.000000\n",
       "i                  0.000000\n",
       "om                 0.000000\n",
       "w                  0.000000\n",
       "ma                 0.000104\n",
       "ad                 0.000417\n",
       "n                  0.000000\n",
       "tp                 0.000000\n",
       "tp_cal             0.000000\n",
       "per                0.000417\n",
       "per_y              0.000104\n",
       "moid               2.078300\n",
       "moid_ld            0.013250\n",
       "sigma_e            2.078404\n",
       "sigma_a            2.078404\n",
       "sigma_q            2.078404\n",
       "sigma_i            2.078404\n",
       "sigma_om           2.078404\n",
       "sigma_w            2.078404\n",
       "sigma_ma           2.078404\n",
       "sigma_ad           2.078821\n",
       "sigma_n            2.078404\n",
       "sigma_tp           2.078404\n",
       "sigma_per          2.078821\n",
       "class              0.000000\n",
       "rms                0.000209\n",
       "dtype: float64"
      ]
     },
     "execution_count": 7,
     "metadata": {},
     "output_type": "execute_result"
    }
   ],
   "source": [
    "df.isnull().sum() / len(df) * 100"
   ]
  },
  {
   "cell_type": "markdown",
   "id": "tested-batch",
   "metadata": {
    "id": "FSJSBwD_SCxh",
    "papermill": {
     "duration": 0.077528,
     "end_time": "2021-06-30T14:50:23.195594",
     "exception": false,
     "start_time": "2021-06-30T14:50:23.118066",
     "status": "completed"
    },
    "tags": []
   },
   "source": [
    "## Data Cleaning"
   ]
  },
  {
   "cell_type": "markdown",
   "id": "thirty-kingdom",
   "metadata": {
    "id": "NGUopEPtO-1O",
    "papermill": {
     "duration": 0.079247,
     "end_time": "2021-06-30T14:50:23.354328",
     "exception": false,
     "start_time": "2021-06-30T14:50:23.275081",
     "status": "completed"
    },
    "tags": []
   },
   "source": [
    "We have choose to drop the name and prefix for now as this will not impact the model"
   ]
  },
  {
   "cell_type": "code",
   "execution_count": 8,
   "id": "metric-rental",
   "metadata": {
    "execution": {
     "iopub.execute_input": "2021-06-30T14:50:23.514501Z",
     "iopub.status.busy": "2021-06-30T14:50:23.513837Z",
     "iopub.status.idle": "2021-06-30T14:50:23.653548Z",
     "shell.execute_reply": "2021-06-30T14:50:23.654072Z",
     "shell.execute_reply.started": "2021-06-28T00:44:26.391901Z"
    },
    "executionInfo": {
     "elapsed": 10,
     "status": "ok",
     "timestamp": 1624839278761,
     "user": {
      "displayName": "Dave Ng",
      "photoUrl": "https://lh3.googleusercontent.com/a-/AOh14GgonRm27MsGqoj6VBdYHSPgZwrgEH99_VpwU7OMzQ=s64",
      "userId": "11648937927449049695"
     },
     "user_tz": -480
    },
    "id": "pEpyjdtiMTlN",
    "papermill": {
     "duration": 0.22153,
     "end_time": "2021-06-30T14:50:23.654300",
     "exception": false,
     "start_time": "2021-06-30T14:50:23.432770",
     "status": "completed"
    },
    "tags": []
   },
   "outputs": [],
   "source": [
    "df = df.drop(['name', 'prefix'], axis=1)"
   ]
  },
  {
   "cell_type": "code",
   "execution_count": 9,
   "id": "better-event",
   "metadata": {
    "execution": {
     "iopub.execute_input": "2021-06-30T14:50:23.817604Z",
     "iopub.status.busy": "2021-06-30T14:50:23.816882Z",
     "iopub.status.idle": "2021-06-30T14:50:23.975603Z",
     "shell.execute_reply": "2021-06-30T14:50:23.976079Z",
     "shell.execute_reply.started": "2021-06-28T00:44:26.537101Z"
    },
    "executionInfo": {
     "elapsed": 321,
     "status": "ok",
     "timestamp": 1624839279073,
     "user": {
      "displayName": "Dave Ng",
      "photoUrl": "https://lh3.googleusercontent.com/a-/AOh14GgonRm27MsGqoj6VBdYHSPgZwrgEH99_VpwU7OMzQ=s64",
      "userId": "11648937927449049695"
     },
     "user_tz": -480
    },
    "id": "VrDoTrrMQT9w",
    "outputId": "3b3f0263-4d5c-48b5-f4f7-3ee9ace454db",
    "papermill": {
     "duration": 0.241776,
     "end_time": "2021-06-30T14:50:23.976283",
     "exception": false,
     "start_time": "2021-06-30T14:50:23.734507",
     "status": "completed"
    },
    "tags": []
   },
   "outputs": [
    {
     "data": {
      "text/plain": [
       "id                   0\n",
       "spkid                0\n",
       "full_name            0\n",
       "pdes                 0\n",
       "neo                  0\n",
       "pha                  0\n",
       "H                    0\n",
       "diameter          1845\n",
       "albedo            1866\n",
       "diameter_sigma    1877\n",
       "orbit_id             0\n",
       "epoch                0\n",
       "epoch_mjd            0\n",
       "epoch_cal            0\n",
       "equinox              0\n",
       "e                    0\n",
       "a                    0\n",
       "q                    0\n",
       "i                    0\n",
       "om                   0\n",
       "w                    0\n",
       "ma                   0\n",
       "ad                   0\n",
       "n                    0\n",
       "tp                   0\n",
       "tp_cal               0\n",
       "per                  0\n",
       "per_y                0\n",
       "moid                 0\n",
       "moid_ld              0\n",
       "sigma_e              0\n",
       "sigma_a              0\n",
       "sigma_q              0\n",
       "sigma_i              0\n",
       "sigma_om             0\n",
       "sigma_w              0\n",
       "sigma_ma             0\n",
       "sigma_ad             0\n",
       "sigma_n              0\n",
       "sigma_tp             0\n",
       "sigma_per            0\n",
       "class                0\n",
       "rms                  0\n",
       "dtype: int64"
      ]
     },
     "execution_count": 9,
     "metadata": {},
     "output_type": "execute_result"
    }
   ],
   "source": [
    "df[df['pha'] == 'Y'].isnull().sum()"
   ]
  },
  {
   "cell_type": "markdown",
   "id": "qualified-coupon",
   "metadata": {
    "id": "JUXI1Up7PJjo",
    "papermill": {
     "duration": 0.078621,
     "end_time": "2021-06-30T14:50:24.134783",
     "exception": false,
     "start_time": "2021-06-30T14:50:24.056162",
     "status": "completed"
    },
    "tags": []
   },
   "source": [
    "As we are not domain expeat in the field of Asteroid and it potential Hazrds, to clean up the data, we have choose to drop the rest of NaN as we do not know how parameters like, diameter, albedo and diameter_sigma effect the model's outcome.   "
   ]
  },
  {
   "cell_type": "code",
   "execution_count": 10,
   "id": "historical-thomson",
   "metadata": {
    "execution": {
     "iopub.execute_input": "2021-06-30T14:50:25.026223Z",
     "iopub.status.busy": "2021-06-30T14:50:25.025518Z",
     "iopub.status.idle": "2021-06-30T14:50:25.238216Z",
     "shell.execute_reply": "2021-06-30T14:50:25.238836Z",
     "shell.execute_reply.started": "2021-06-28T00:44:26.682479Z"
    },
    "executionInfo": {
     "elapsed": 286,
     "status": "ok",
     "timestamp": 1624839279354,
     "user": {
      "displayName": "Dave Ng",
      "photoUrl": "https://lh3.googleusercontent.com/a-/AOh14GgonRm27MsGqoj6VBdYHSPgZwrgEH99_VpwU7OMzQ=s64",
      "userId": "11648937927449049695"
     },
     "user_tz": -480
    },
    "id": "cGA-iS9JM7hc",
    "papermill": {
     "duration": 1.025481,
     "end_time": "2021-06-30T14:50:25.239079",
     "exception": false,
     "start_time": "2021-06-30T14:50:24.213598",
     "status": "completed"
    },
    "tags": []
   },
   "outputs": [],
   "source": [
    "df = df.dropna()"
   ]
  },
  {
   "cell_type": "code",
   "execution_count": 11,
   "id": "entire-lawrence",
   "metadata": {
    "execution": {
     "iopub.execute_input": "2021-06-30T14:50:25.402112Z",
     "iopub.status.busy": "2021-06-30T14:50:25.401427Z",
     "iopub.status.idle": "2021-06-30T14:50:25.551447Z",
     "shell.execute_reply": "2021-06-30T14:50:25.550719Z",
     "shell.execute_reply.started": "2021-06-28T00:44:27.523155Z"
    },
    "executionInfo": {
     "elapsed": 455,
     "status": "ok",
     "timestamp": 1624839279806,
     "user": {
      "displayName": "Dave Ng",
      "photoUrl": "https://lh3.googleusercontent.com/a-/AOh14GgonRm27MsGqoj6VBdYHSPgZwrgEH99_VpwU7OMzQ=s64",
      "userId": "11648937927449049695"
     },
     "user_tz": -480
    },
    "id": "D1uyupmpM-Gd",
    "outputId": "9de1f5c1-7e8a-4aea-bdce-5509849e9ab9",
    "papermill": {
     "duration": 0.232698,
     "end_time": "2021-06-30T14:50:25.551599",
     "exception": false,
     "start_time": "2021-06-30T14:50:25.318901",
     "status": "completed"
    },
    "tags": []
   },
   "outputs": [
    {
     "data": {
      "text/html": [
       "<div>\n",
       "<style scoped>\n",
       "    .dataframe tbody tr th:only-of-type {\n",
       "        vertical-align: middle;\n",
       "    }\n",
       "\n",
       "    .dataframe tbody tr th {\n",
       "        vertical-align: top;\n",
       "    }\n",
       "\n",
       "    .dataframe thead th {\n",
       "        text-align: right;\n",
       "    }\n",
       "</style>\n",
       "<table border=\"1\" class=\"dataframe\">\n",
       "  <thead>\n",
       "    <tr style=\"text-align: right;\">\n",
       "      <th></th>\n",
       "      <th>id</th>\n",
       "      <th>spkid</th>\n",
       "      <th>full_name</th>\n",
       "      <th>pdes</th>\n",
       "      <th>neo</th>\n",
       "      <th>pha</th>\n",
       "      <th>H</th>\n",
       "      <th>diameter</th>\n",
       "      <th>albedo</th>\n",
       "      <th>diameter_sigma</th>\n",
       "      <th>...</th>\n",
       "      <th>sigma_i</th>\n",
       "      <th>sigma_om</th>\n",
       "      <th>sigma_w</th>\n",
       "      <th>sigma_ma</th>\n",
       "      <th>sigma_ad</th>\n",
       "      <th>sigma_n</th>\n",
       "      <th>sigma_tp</th>\n",
       "      <th>sigma_per</th>\n",
       "      <th>class</th>\n",
       "      <th>rms</th>\n",
       "    </tr>\n",
       "  </thead>\n",
       "  <tbody>\n",
       "    <tr>\n",
       "      <th>0</th>\n",
       "      <td>a0000001</td>\n",
       "      <td>2000001</td>\n",
       "      <td>1 Ceres</td>\n",
       "      <td>1</td>\n",
       "      <td>N</td>\n",
       "      <td>N</td>\n",
       "      <td>3.40</td>\n",
       "      <td>939.400</td>\n",
       "      <td>0.0900</td>\n",
       "      <td>0.200</td>\n",
       "      <td>...</td>\n",
       "      <td>4.608900e-09</td>\n",
       "      <td>6.168800e-08</td>\n",
       "      <td>6.624800e-08</td>\n",
       "      <td>7.820700e-09</td>\n",
       "      <td>1.111300e-11</td>\n",
       "      <td>1.196500e-12</td>\n",
       "      <td>3.782900e-08</td>\n",
       "      <td>9.415900e-09</td>\n",
       "      <td>MBA</td>\n",
       "      <td>0.43301</td>\n",
       "    </tr>\n",
       "    <tr>\n",
       "      <th>1</th>\n",
       "      <td>a0000002</td>\n",
       "      <td>2000002</td>\n",
       "      <td>2 Pallas</td>\n",
       "      <td>2</td>\n",
       "      <td>N</td>\n",
       "      <td>N</td>\n",
       "      <td>4.20</td>\n",
       "      <td>545.000</td>\n",
       "      <td>0.1010</td>\n",
       "      <td>18.000</td>\n",
       "      <td>...</td>\n",
       "      <td>3.469400e-06</td>\n",
       "      <td>6.272400e-06</td>\n",
       "      <td>9.128200e-06</td>\n",
       "      <td>8.859100e-06</td>\n",
       "      <td>4.961300e-09</td>\n",
       "      <td>4.653600e-10</td>\n",
       "      <td>4.078700e-05</td>\n",
       "      <td>3.680700e-06</td>\n",
       "      <td>MBA</td>\n",
       "      <td>0.35936</td>\n",
       "    </tr>\n",
       "    <tr>\n",
       "      <th>2</th>\n",
       "      <td>a0000003</td>\n",
       "      <td>2000003</td>\n",
       "      <td>3 Juno</td>\n",
       "      <td>3</td>\n",
       "      <td>N</td>\n",
       "      <td>N</td>\n",
       "      <td>5.33</td>\n",
       "      <td>246.596</td>\n",
       "      <td>0.2140</td>\n",
       "      <td>10.594</td>\n",
       "      <td>...</td>\n",
       "      <td>3.223100e-06</td>\n",
       "      <td>1.664600e-05</td>\n",
       "      <td>1.772100e-05</td>\n",
       "      <td>8.110400e-06</td>\n",
       "      <td>4.363900e-09</td>\n",
       "      <td>4.413400e-10</td>\n",
       "      <td>3.528800e-05</td>\n",
       "      <td>3.107200e-06</td>\n",
       "      <td>MBA</td>\n",
       "      <td>0.33848</td>\n",
       "    </tr>\n",
       "    <tr>\n",
       "      <th>3</th>\n",
       "      <td>a0000004</td>\n",
       "      <td>2000004</td>\n",
       "      <td>4 Vesta</td>\n",
       "      <td>4</td>\n",
       "      <td>N</td>\n",
       "      <td>N</td>\n",
       "      <td>3.00</td>\n",
       "      <td>525.400</td>\n",
       "      <td>0.4228</td>\n",
       "      <td>0.200</td>\n",
       "      <td>...</td>\n",
       "      <td>2.170600e-07</td>\n",
       "      <td>3.880800e-07</td>\n",
       "      <td>1.789300e-07</td>\n",
       "      <td>1.206800e-06</td>\n",
       "      <td>1.648600e-09</td>\n",
       "      <td>2.612500e-10</td>\n",
       "      <td>4.103700e-06</td>\n",
       "      <td>1.274900e-06</td>\n",
       "      <td>MBA</td>\n",
       "      <td>0.39980</td>\n",
       "    </tr>\n",
       "    <tr>\n",
       "      <th>4</th>\n",
       "      <td>a0000005</td>\n",
       "      <td>2000005</td>\n",
       "      <td>5 Astraea</td>\n",
       "      <td>5</td>\n",
       "      <td>N</td>\n",
       "      <td>N</td>\n",
       "      <td>6.90</td>\n",
       "      <td>106.699</td>\n",
       "      <td>0.2740</td>\n",
       "      <td>3.140</td>\n",
       "      <td>...</td>\n",
       "      <td>2.740800e-06</td>\n",
       "      <td>2.894900e-05</td>\n",
       "      <td>2.984200e-05</td>\n",
       "      <td>8.303800e-06</td>\n",
       "      <td>4.729000e-09</td>\n",
       "      <td>5.522700e-10</td>\n",
       "      <td>3.474300e-05</td>\n",
       "      <td>3.490500e-06</td>\n",
       "      <td>MBA</td>\n",
       "      <td>0.52191</td>\n",
       "    </tr>\n",
       "    <tr>\n",
       "      <th>...</th>\n",
       "      <td>...</td>\n",
       "      <td>...</td>\n",
       "      <td>...</td>\n",
       "      <td>...</td>\n",
       "      <td>...</td>\n",
       "      <td>...</td>\n",
       "      <td>...</td>\n",
       "      <td>...</td>\n",
       "      <td>...</td>\n",
       "      <td>...</td>\n",
       "      <td>...</td>\n",
       "      <td>...</td>\n",
       "      <td>...</td>\n",
       "      <td>...</td>\n",
       "      <td>...</td>\n",
       "      <td>...</td>\n",
       "      <td>...</td>\n",
       "      <td>...</td>\n",
       "      <td>...</td>\n",
       "      <td>...</td>\n",
       "      <td>...</td>\n",
       "    </tr>\n",
       "    <tr>\n",
       "      <th>891599</th>\n",
       "      <td>bK16N07B</td>\n",
       "      <td>3755231</td>\n",
       "      <td>(2016 NB7)</td>\n",
       "      <td>2016 NB7</td>\n",
       "      <td>N</td>\n",
       "      <td>N</td>\n",
       "      <td>16.20</td>\n",
       "      <td>3.793</td>\n",
       "      <td>0.0210</td>\n",
       "      <td>1.375</td>\n",
       "      <td>...</td>\n",
       "      <td>2.602600e-05</td>\n",
       "      <td>1.897900e-05</td>\n",
       "      <td>4.951000e-05</td>\n",
       "      <td>5.127900e-05</td>\n",
       "      <td>2.635700e-07</td>\n",
       "      <td>1.878300e-08</td>\n",
       "      <td>3.498100e-04</td>\n",
       "      <td>2.217200e-04</td>\n",
       "      <td>MBA</td>\n",
       "      <td>0.59145</td>\n",
       "    </tr>\n",
       "    <tr>\n",
       "      <th>891841</th>\n",
       "      <td>bK16N24W</td>\n",
       "      <td>3755298</td>\n",
       "      <td>(2016 NW24)</td>\n",
       "      <td>2016 NW24</td>\n",
       "      <td>N</td>\n",
       "      <td>N</td>\n",
       "      <td>17.40</td>\n",
       "      <td>2.696</td>\n",
       "      <td>0.0610</td>\n",
       "      <td>0.701</td>\n",
       "      <td>...</td>\n",
       "      <td>1.788500e-05</td>\n",
       "      <td>1.538400e-04</td>\n",
       "      <td>3.026900e-03</td>\n",
       "      <td>3.326500e-03</td>\n",
       "      <td>1.472800e-06</td>\n",
       "      <td>1.949700e-07</td>\n",
       "      <td>1.413600e-02</td>\n",
       "      <td>1.198900e-03</td>\n",
       "      <td>MBA</td>\n",
       "      <td>0.42754</td>\n",
       "    </tr>\n",
       "    <tr>\n",
       "      <th>894103</th>\n",
       "      <td>bK16P66B</td>\n",
       "      <td>3757444</td>\n",
       "      <td>(2016 PB66)</td>\n",
       "      <td>2016 PB66</td>\n",
       "      <td>N</td>\n",
       "      <td>N</td>\n",
       "      <td>17.20</td>\n",
       "      <td>3.271</td>\n",
       "      <td>0.0720</td>\n",
       "      <td>1.074</td>\n",
       "      <td>...</td>\n",
       "      <td>6.736600e-05</td>\n",
       "      <td>1.160600e-04</td>\n",
       "      <td>1.493200e-03</td>\n",
       "      <td>5.880600e-04</td>\n",
       "      <td>2.269800e-06</td>\n",
       "      <td>1.603500e-07</td>\n",
       "      <td>2.675200e-03</td>\n",
       "      <td>1.686400e-03</td>\n",
       "      <td>MBA</td>\n",
       "      <td>0.53016</td>\n",
       "    </tr>\n",
       "    <tr>\n",
       "      <th>901055</th>\n",
       "      <td>bK16TB9F</td>\n",
       "      <td>54000016</td>\n",
       "      <td>(2016 TF119)</td>\n",
       "      <td>2016 TF119</td>\n",
       "      <td>N</td>\n",
       "      <td>N</td>\n",
       "      <td>16.00</td>\n",
       "      <td>3.009</td>\n",
       "      <td>0.0780</td>\n",
       "      <td>0.981</td>\n",
       "      <td>...</td>\n",
       "      <td>3.376000e-05</td>\n",
       "      <td>2.546000e-05</td>\n",
       "      <td>3.313800e-04</td>\n",
       "      <td>8.637800e-05</td>\n",
       "      <td>9.530100e-07</td>\n",
       "      <td>6.243600e-08</td>\n",
       "      <td>3.265500e-04</td>\n",
       "      <td>7.520900e-04</td>\n",
       "      <td>MBA</td>\n",
       "      <td>0.57294</td>\n",
       "    </tr>\n",
       "    <tr>\n",
       "      <th>909489</th>\n",
       "      <td>bK17B98V</td>\n",
       "      <td>3768324</td>\n",
       "      <td>(2017 BV98)</td>\n",
       "      <td>2017 BV98</td>\n",
       "      <td>N</td>\n",
       "      <td>N</td>\n",
       "      <td>18.30</td>\n",
       "      <td>1.600</td>\n",
       "      <td>0.0230</td>\n",
       "      <td>0.283</td>\n",
       "      <td>...</td>\n",
       "      <td>1.178200e-05</td>\n",
       "      <td>1.384400e-04</td>\n",
       "      <td>1.581900e-04</td>\n",
       "      <td>1.040200e-04</td>\n",
       "      <td>8.802300e-08</td>\n",
       "      <td>1.290800e-08</td>\n",
       "      <td>4.108800e-04</td>\n",
       "      <td>6.763900e-05</td>\n",
       "      <td>MBA</td>\n",
       "      <td>0.75791</td>\n",
       "    </tr>\n",
       "  </tbody>\n",
       "</table>\n",
       "<p>131142 rows × 43 columns</p>\n",
       "</div>"
      ],
      "text/plain": [
       "              id     spkid            full_name        pdes neo pha      H  \\\n",
       "0       a0000001   2000001              1 Ceres           1   N   N   3.40   \n",
       "1       a0000002   2000002             2 Pallas           2   N   N   4.20   \n",
       "2       a0000003   2000003               3 Juno           3   N   N   5.33   \n",
       "3       a0000004   2000004              4 Vesta           4   N   N   3.00   \n",
       "4       a0000005   2000005            5 Astraea           5   N   N   6.90   \n",
       "...          ...       ...                  ...         ...  ..  ..    ...   \n",
       "891599  bK16N07B   3755231           (2016 NB7)    2016 NB7   N   N  16.20   \n",
       "891841  bK16N24W   3755298          (2016 NW24)   2016 NW24   N   N  17.40   \n",
       "894103  bK16P66B   3757444          (2016 PB66)   2016 PB66   N   N  17.20   \n",
       "901055  bK16TB9F  54000016         (2016 TF119)  2016 TF119   N   N  16.00   \n",
       "909489  bK17B98V   3768324          (2017 BV98)   2017 BV98   N   N  18.30   \n",
       "\n",
       "        diameter  albedo  diameter_sigma  ...       sigma_i      sigma_om  \\\n",
       "0        939.400  0.0900           0.200  ...  4.608900e-09  6.168800e-08   \n",
       "1        545.000  0.1010          18.000  ...  3.469400e-06  6.272400e-06   \n",
       "2        246.596  0.2140          10.594  ...  3.223100e-06  1.664600e-05   \n",
       "3        525.400  0.4228           0.200  ...  2.170600e-07  3.880800e-07   \n",
       "4        106.699  0.2740           3.140  ...  2.740800e-06  2.894900e-05   \n",
       "...          ...     ...             ...  ...           ...           ...   \n",
       "891599     3.793  0.0210           1.375  ...  2.602600e-05  1.897900e-05   \n",
       "891841     2.696  0.0610           0.701  ...  1.788500e-05  1.538400e-04   \n",
       "894103     3.271  0.0720           1.074  ...  6.736600e-05  1.160600e-04   \n",
       "901055     3.009  0.0780           0.981  ...  3.376000e-05  2.546000e-05   \n",
       "909489     1.600  0.0230           0.283  ...  1.178200e-05  1.384400e-04   \n",
       "\n",
       "             sigma_w      sigma_ma      sigma_ad       sigma_n      sigma_tp  \\\n",
       "0       6.624800e-08  7.820700e-09  1.111300e-11  1.196500e-12  3.782900e-08   \n",
       "1       9.128200e-06  8.859100e-06  4.961300e-09  4.653600e-10  4.078700e-05   \n",
       "2       1.772100e-05  8.110400e-06  4.363900e-09  4.413400e-10  3.528800e-05   \n",
       "3       1.789300e-07  1.206800e-06  1.648600e-09  2.612500e-10  4.103700e-06   \n",
       "4       2.984200e-05  8.303800e-06  4.729000e-09  5.522700e-10  3.474300e-05   \n",
       "...              ...           ...           ...           ...           ...   \n",
       "891599  4.951000e-05  5.127900e-05  2.635700e-07  1.878300e-08  3.498100e-04   \n",
       "891841  3.026900e-03  3.326500e-03  1.472800e-06  1.949700e-07  1.413600e-02   \n",
       "894103  1.493200e-03  5.880600e-04  2.269800e-06  1.603500e-07  2.675200e-03   \n",
       "901055  3.313800e-04  8.637800e-05  9.530100e-07  6.243600e-08  3.265500e-04   \n",
       "909489  1.581900e-04  1.040200e-04  8.802300e-08  1.290800e-08  4.108800e-04   \n",
       "\n",
       "           sigma_per  class      rms  \n",
       "0       9.415900e-09    MBA  0.43301  \n",
       "1       3.680700e-06    MBA  0.35936  \n",
       "2       3.107200e-06    MBA  0.33848  \n",
       "3       1.274900e-06    MBA  0.39980  \n",
       "4       3.490500e-06    MBA  0.52191  \n",
       "...              ...    ...      ...  \n",
       "891599  2.217200e-04    MBA  0.59145  \n",
       "891841  1.198900e-03    MBA  0.42754  \n",
       "894103  1.686400e-03    MBA  0.53016  \n",
       "901055  7.520900e-04    MBA  0.57294  \n",
       "909489  6.763900e-05    MBA  0.75791  \n",
       "\n",
       "[131142 rows x 43 columns]"
      ]
     },
     "execution_count": 11,
     "metadata": {},
     "output_type": "execute_result"
    }
   ],
   "source": [
    "df"
   ]
  },
  {
   "cell_type": "code",
   "execution_count": 12,
   "id": "respective-apple",
   "metadata": {
    "execution": {
     "iopub.execute_input": "2021-06-30T14:50:25.733483Z",
     "iopub.status.busy": "2021-06-30T14:50:25.732799Z",
     "iopub.status.idle": "2021-06-30T14:50:26.063486Z",
     "shell.execute_reply": "2021-06-30T14:50:26.062963Z",
     "shell.execute_reply.started": "2021-06-28T00:44:27.642449Z"
    },
    "executionInfo": {
     "elapsed": 9,
     "status": "ok",
     "timestamp": 1624839279806,
     "user": {
      "displayName": "Dave Ng",
      "photoUrl": "https://lh3.googleusercontent.com/a-/AOh14GgonRm27MsGqoj6VBdYHSPgZwrgEH99_VpwU7OMzQ=s64",
      "userId": "11648937927449049695"
     },
     "user_tz": -480
    },
    "id": "4EaMepsONE80",
    "outputId": "87ea2bf3-2171-4faf-e731-db5deadb5397",
    "papermill": {
     "duration": 0.432343,
     "end_time": "2021-06-30T14:50:26.063629",
     "exception": false,
     "start_time": "2021-06-30T14:50:25.631286",
     "status": "completed"
    },
    "tags": []
   },
   "outputs": [
    {
     "data": {
      "image/png": "[encoded data removed]",
      "text/plain": [
       "<Figure size 1440x720 with 1 Axes>"
      ]
     },
     "metadata": {
      "needs_background": "light"
     },
     "output_type": "display_data"
    }
   ],
   "source": [
    "plt.figure(figsize=(20,10))\n",
    "plt.title('Count of Potentially Hazardous Asteroid (PHA) flag')\n",
    "sns.countplot(data=df, x='pha');"
   ]
  },
  {
   "cell_type": "code",
   "execution_count": 13,
   "id": "fabulous-advancement",
   "metadata": {
    "execution": {
     "iopub.execute_input": "2021-06-30T14:50:26.281936Z",
     "iopub.status.busy": "2021-06-30T14:50:26.281209Z",
     "iopub.status.idle": "2021-06-30T14:50:26.322804Z",
     "shell.execute_reply": "2021-06-30T14:50:26.321798Z",
     "shell.execute_reply.started": "2021-06-28T00:44:27.961639Z"
    },
    "executionInfo": {
     "elapsed": 320,
     "status": "ok",
     "timestamp": 1624839280120,
     "user": {
      "displayName": "Dave Ng",
      "photoUrl": "https://lh3.googleusercontent.com/a-/AOh14GgonRm27MsGqoj6VBdYHSPgZwrgEH99_VpwU7OMzQ=s64",
      "userId": "11648937927449049695"
     },
     "user_tz": -480
    },
    "id": "8KYY6hmTNXk8",
    "outputId": "d6a853d5-7a12-4c9a-b543-abd224ec3d16",
    "papermill": {
     "duration": 0.15735,
     "end_time": "2021-06-30T14:50:26.322971",
     "exception": false,
     "start_time": "2021-06-30T14:50:26.165621",
     "status": "completed"
    },
    "tags": []
   },
   "outputs": [
    {
     "data": {
      "text/plain": [
       "130961"
      ]
     },
     "execution_count": 13,
     "metadata": {},
     "output_type": "execute_result"
    }
   ],
   "source": [
    "len(df[df['pha'] == 'N'])"
   ]
  },
  {
   "cell_type": "code",
   "execution_count": 14,
   "id": "later-terry",
   "metadata": {
    "execution": {
     "iopub.execute_input": "2021-06-30T14:50:26.512054Z",
     "iopub.status.busy": "2021-06-30T14:50:26.511355Z",
     "iopub.status.idle": "2021-06-30T14:50:26.518624Z",
     "shell.execute_reply": "2021-06-30T14:50:26.518086Z",
     "shell.execute_reply.started": "2021-06-28T00:44:28.027417Z"
    },
    "executionInfo": {
     "elapsed": 22,
     "status": "ok",
     "timestamp": 1624839280121,
     "user": {
      "displayName": "Dave Ng",
      "photoUrl": "https://lh3.googleusercontent.com/a-/AOh14GgonRm27MsGqoj6VBdYHSPgZwrgEH99_VpwU7OMzQ=s64",
      "userId": "11648937927449049695"
     },
     "user_tz": -480
    },
    "id": "MtlC7tYYNXk_",
    "outputId": "be38e151-b502-4255-89df-7d8886335018",
    "papermill": {
     "duration": 0.113932,
     "end_time": "2021-06-30T14:50:26.518779",
     "exception": false,
     "start_time": "2021-06-30T14:50:26.404847",
     "status": "completed"
    },
    "tags": []
   },
   "outputs": [
    {
     "data": {
      "text/plain": [
       "181"
      ]
     },
     "execution_count": 14,
     "metadata": {},
     "output_type": "execute_result"
    }
   ],
   "source": [
    "len(df[df['pha'] == 'Y'])"
   ]
  },
  {
   "cell_type": "code",
   "execution_count": 15,
   "id": "coordinated-papua",
   "metadata": {
    "execution": {
     "iopub.execute_input": "2021-06-30T14:50:26.726712Z",
     "iopub.status.busy": "2021-06-30T14:50:26.707169Z",
     "iopub.status.idle": "2021-06-30T14:50:26.770300Z",
     "shell.execute_reply": "2021-06-30T14:50:26.769796Z",
     "shell.execute_reply.started": "2021-06-28T00:44:28.061742Z"
    },
    "executionInfo": {
     "elapsed": 20,
     "status": "ok",
     "timestamp": 1624839280122,
     "user": {
      "displayName": "Dave Ng",
      "photoUrl": "https://lh3.googleusercontent.com/a-/AOh14GgonRm27MsGqoj6VBdYHSPgZwrgEH99_VpwU7OMzQ=s64",
      "userId": "11648937927449049695"
     },
     "user_tz": -480
    },
    "id": "Tfc24GLsNXlB",
    "outputId": "0e2c25bd-035e-4039-e65b-64c54944e691",
    "papermill": {
     "duration": 0.169072,
     "end_time": "2021-06-30T14:50:26.770464",
     "exception": false,
     "start_time": "2021-06-30T14:50:26.601392",
     "status": "completed"
    },
    "tags": []
   },
   "outputs": [
    {
     "data": {
      "text/plain": [
       "0.13820908514748667"
      ]
     },
     "execution_count": 15,
     "metadata": {},
     "output_type": "execute_result"
    }
   ],
   "source": [
    "len(df[df['pha'] == 'Y'])/ len(df[df['pha'] == 'N']) * 100"
   ]
  },
  {
   "cell_type": "code",
   "execution_count": 16,
   "id": "advisory-fantasy",
   "metadata": {
    "execution": {
     "iopub.execute_input": "2021-06-30T14:50:26.946912Z",
     "iopub.status.busy": "2021-06-30T14:50:26.946224Z",
     "iopub.status.idle": "2021-06-30T14:50:26.953720Z",
     "shell.execute_reply": "2021-06-30T14:50:26.953162Z",
     "shell.execute_reply.started": "2021-06-28T00:44:28.134588Z"
    },
    "executionInfo": {
     "elapsed": 19,
     "status": "ok",
     "timestamp": 1624839280123,
     "user": {
      "displayName": "Dave Ng",
      "photoUrl": "https://lh3.googleusercontent.com/a-/AOh14GgonRm27MsGqoj6VBdYHSPgZwrgEH99_VpwU7OMzQ=s64",
      "userId": "11648937927449049695"
     },
     "user_tz": -480
    },
    "id": "2H1nVVROSag8",
    "outputId": "40908bdd-e0fe-4afc-83f1-d4f530e5ced0",
    "papermill": {
     "duration": 0.102055,
     "end_time": "2021-06-30T14:50:26.953872",
     "exception": false,
     "start_time": "2021-06-30T14:50:26.851817",
     "status": "completed"
    },
    "tags": []
   },
   "outputs": [
    {
     "data": {
      "text/plain": [
       "array(['J2000'], dtype=object)"
      ]
     },
     "execution_count": 16,
     "metadata": {},
     "output_type": "execute_result"
    }
   ],
   "source": [
    "df['equinox'].unique()"
   ]
  },
  {
   "cell_type": "markdown",
   "id": "fitting-lloyd",
   "metadata": {
    "id": "SDe_cCouNYxg",
    "papermill": {
     "duration": 0.082134,
     "end_time": "2021-06-30T14:50:27.175582",
     "exception": false,
     "start_time": "2021-06-30T14:50:27.093448",
     "status": "completed"
    },
    "tags": []
   },
   "source": [
    "As this few are ID and names, we will be dropping it from the Dataset: \n",
    "* id                   \n",
    "* spkid   \n",
    "* orbit_id             \n",
    "* full_name\n",
    "* equinox"
   ]
  },
  {
   "cell_type": "code",
   "execution_count": 17,
   "id": "renewable-infrastructure",
   "metadata": {
    "execution": {
     "iopub.execute_input": "2021-06-30T14:50:27.346796Z",
     "iopub.status.busy": "2021-06-30T14:50:27.346100Z",
     "iopub.status.idle": "2021-06-30T14:50:27.362601Z",
     "shell.execute_reply": "2021-06-30T14:50:27.362017Z",
     "shell.execute_reply.started": "2021-06-28T00:44:28.150767Z"
    },
    "executionInfo": {
     "elapsed": 18,
     "status": "ok",
     "timestamp": 1624839280123,
     "user": {
      "displayName": "Dave Ng",
      "photoUrl": "https://lh3.googleusercontent.com/a-/AOh14GgonRm27MsGqoj6VBdYHSPgZwrgEH99_VpwU7OMzQ=s64",
      "userId": "11648937927449049695"
     },
     "user_tz": -480
    },
    "id": "ErvZv4HuQru_",
    "papermill": {
     "duration": 0.105414,
     "end_time": "2021-06-30T14:50:27.362770",
     "exception": false,
     "start_time": "2021-06-30T14:50:27.257356",
     "status": "completed"
    },
    "tags": []
   },
   "outputs": [],
   "source": [
    "df = df.drop(['id', 'spkid','full_name', 'equinox','orbit_id','pdes'], axis=1)"
   ]
  },
  {
   "cell_type": "code",
   "execution_count": 18,
   "id": "southeast-ordinance",
   "metadata": {
    "execution": {
     "iopub.execute_input": "2021-06-30T14:50:27.538887Z",
     "iopub.status.busy": "2021-06-30T14:50:27.532071Z",
     "iopub.status.idle": "2021-06-30T14:50:27.604228Z",
     "shell.execute_reply": "2021-06-30T14:50:27.603550Z",
     "shell.execute_reply.started": "2021-06-28T00:44:28.177268Z"
    },
    "executionInfo": {
     "elapsed": 18,
     "status": "ok",
     "timestamp": 1624839280124,
     "user": {
      "displayName": "Dave Ng",
      "photoUrl": "https://lh3.googleusercontent.com/a-/AOh14GgonRm27MsGqoj6VBdYHSPgZwrgEH99_VpwU7OMzQ=s64",
      "userId": "11648937927449049695"
     },
     "user_tz": -480
    },
    "id": "IQHXnrj3S_bN",
    "outputId": "7838846b-1578-4112-aef4-88c0d3295378",
    "papermill": {
     "duration": 0.159434,
     "end_time": "2021-06-30T14:50:27.604398",
     "exception": false,
     "start_time": "2021-06-30T14:50:27.444964",
     "status": "completed"
    },
    "tags": []
   },
   "outputs": [
    {
     "data": {
      "text/html": [
       "<div>\n",
       "<style scoped>\n",
       "    .dataframe tbody tr th:only-of-type {\n",
       "        vertical-align: middle;\n",
       "    }\n",
       "\n",
       "    .dataframe tbody tr th {\n",
       "        vertical-align: top;\n",
       "    }\n",
       "\n",
       "    .dataframe thead th {\n",
       "        text-align: right;\n",
       "    }\n",
       "</style>\n",
       "<table border=\"1\" class=\"dataframe\">\n",
       "  <thead>\n",
       "    <tr style=\"text-align: right;\">\n",
       "      <th></th>\n",
       "      <th>neo</th>\n",
       "      <th>pha</th>\n",
       "      <th>H</th>\n",
       "      <th>diameter</th>\n",
       "      <th>albedo</th>\n",
       "      <th>diameter_sigma</th>\n",
       "      <th>epoch</th>\n",
       "      <th>epoch_mjd</th>\n",
       "      <th>epoch_cal</th>\n",
       "      <th>e</th>\n",
       "      <th>...</th>\n",
       "      <th>sigma_i</th>\n",
       "      <th>sigma_om</th>\n",
       "      <th>sigma_w</th>\n",
       "      <th>sigma_ma</th>\n",
       "      <th>sigma_ad</th>\n",
       "      <th>sigma_n</th>\n",
       "      <th>sigma_tp</th>\n",
       "      <th>sigma_per</th>\n",
       "      <th>class</th>\n",
       "      <th>rms</th>\n",
       "    </tr>\n",
       "  </thead>\n",
       "  <tbody>\n",
       "    <tr>\n",
       "      <th>0</th>\n",
       "      <td>N</td>\n",
       "      <td>N</td>\n",
       "      <td>3.40</td>\n",
       "      <td>939.400</td>\n",
       "      <td>0.0900</td>\n",
       "      <td>0.200</td>\n",
       "      <td>2458600.5</td>\n",
       "      <td>58600</td>\n",
       "      <td>20190427.0</td>\n",
       "      <td>0.076009</td>\n",
       "      <td>...</td>\n",
       "      <td>4.608900e-09</td>\n",
       "      <td>6.168800e-08</td>\n",
       "      <td>6.624800e-08</td>\n",
       "      <td>7.820700e-09</td>\n",
       "      <td>1.111300e-11</td>\n",
       "      <td>1.196500e-12</td>\n",
       "      <td>3.782900e-08</td>\n",
       "      <td>9.415900e-09</td>\n",
       "      <td>MBA</td>\n",
       "      <td>0.43301</td>\n",
       "    </tr>\n",
       "    <tr>\n",
       "      <th>1</th>\n",
       "      <td>N</td>\n",
       "      <td>N</td>\n",
       "      <td>4.20</td>\n",
       "      <td>545.000</td>\n",
       "      <td>0.1010</td>\n",
       "      <td>18.000</td>\n",
       "      <td>2459000.5</td>\n",
       "      <td>59000</td>\n",
       "      <td>20200531.0</td>\n",
       "      <td>0.229972</td>\n",
       "      <td>...</td>\n",
       "      <td>3.469400e-06</td>\n",
       "      <td>6.272400e-06</td>\n",
       "      <td>9.128200e-06</td>\n",
       "      <td>8.859100e-06</td>\n",
       "      <td>4.961300e-09</td>\n",
       "      <td>4.653600e-10</td>\n",
       "      <td>4.078700e-05</td>\n",
       "      <td>3.680700e-06</td>\n",
       "      <td>MBA</td>\n",
       "      <td>0.35936</td>\n",
       "    </tr>\n",
       "    <tr>\n",
       "      <th>2</th>\n",
       "      <td>N</td>\n",
       "      <td>N</td>\n",
       "      <td>5.33</td>\n",
       "      <td>246.596</td>\n",
       "      <td>0.2140</td>\n",
       "      <td>10.594</td>\n",
       "      <td>2459000.5</td>\n",
       "      <td>59000</td>\n",
       "      <td>20200531.0</td>\n",
       "      <td>0.256936</td>\n",
       "      <td>...</td>\n",
       "      <td>3.223100e-06</td>\n",
       "      <td>1.664600e-05</td>\n",
       "      <td>1.772100e-05</td>\n",
       "      <td>8.110400e-06</td>\n",
       "      <td>4.363900e-09</td>\n",
       "      <td>4.413400e-10</td>\n",
       "      <td>3.528800e-05</td>\n",
       "      <td>3.107200e-06</td>\n",
       "      <td>MBA</td>\n",
       "      <td>0.33848</td>\n",
       "    </tr>\n",
       "    <tr>\n",
       "      <th>3</th>\n",
       "      <td>N</td>\n",
       "      <td>N</td>\n",
       "      <td>3.00</td>\n",
       "      <td>525.400</td>\n",
       "      <td>0.4228</td>\n",
       "      <td>0.200</td>\n",
       "      <td>2458600.5</td>\n",
       "      <td>58600</td>\n",
       "      <td>20190427.0</td>\n",
       "      <td>0.088721</td>\n",
       "      <td>...</td>\n",
       "      <td>2.170600e-07</td>\n",
       "      <td>3.880800e-07</td>\n",
       "      <td>1.789300e-07</td>\n",
       "      <td>1.206800e-06</td>\n",
       "      <td>1.648600e-09</td>\n",
       "      <td>2.612500e-10</td>\n",
       "      <td>4.103700e-06</td>\n",
       "      <td>1.274900e-06</td>\n",
       "      <td>MBA</td>\n",
       "      <td>0.39980</td>\n",
       "    </tr>\n",
       "    <tr>\n",
       "      <th>4</th>\n",
       "      <td>N</td>\n",
       "      <td>N</td>\n",
       "      <td>6.90</td>\n",
       "      <td>106.699</td>\n",
       "      <td>0.2740</td>\n",
       "      <td>3.140</td>\n",
       "      <td>2459000.5</td>\n",
       "      <td>59000</td>\n",
       "      <td>20200531.0</td>\n",
       "      <td>0.190913</td>\n",
       "      <td>...</td>\n",
       "      <td>2.740800e-06</td>\n",
       "      <td>2.894900e-05</td>\n",
       "      <td>2.984200e-05</td>\n",
       "      <td>8.303800e-06</td>\n",
       "      <td>4.729000e-09</td>\n",
       "      <td>5.522700e-10</td>\n",
       "      <td>3.474300e-05</td>\n",
       "      <td>3.490500e-06</td>\n",
       "      <td>MBA</td>\n",
       "      <td>0.52191</td>\n",
       "    </tr>\n",
       "    <tr>\n",
       "      <th>...</th>\n",
       "      <td>...</td>\n",
       "      <td>...</td>\n",
       "      <td>...</td>\n",
       "      <td>...</td>\n",
       "      <td>...</td>\n",
       "      <td>...</td>\n",
       "      <td>...</td>\n",
       "      <td>...</td>\n",
       "      <td>...</td>\n",
       "      <td>...</td>\n",
       "      <td>...</td>\n",
       "      <td>...</td>\n",
       "      <td>...</td>\n",
       "      <td>...</td>\n",
       "      <td>...</td>\n",
       "      <td>...</td>\n",
       "      <td>...</td>\n",
       "      <td>...</td>\n",
       "      <td>...</td>\n",
       "      <td>...</td>\n",
       "      <td>...</td>\n",
       "    </tr>\n",
       "    <tr>\n",
       "      <th>891599</th>\n",
       "      <td>N</td>\n",
       "      <td>N</td>\n",
       "      <td>16.20</td>\n",
       "      <td>3.793</td>\n",
       "      <td>0.0210</td>\n",
       "      <td>1.375</td>\n",
       "      <td>2459000.5</td>\n",
       "      <td>59000</td>\n",
       "      <td>20200531.0</td>\n",
       "      <td>0.159579</td>\n",
       "      <td>...</td>\n",
       "      <td>2.602600e-05</td>\n",
       "      <td>1.897900e-05</td>\n",
       "      <td>4.951000e-05</td>\n",
       "      <td>5.127900e-05</td>\n",
       "      <td>2.635700e-07</td>\n",
       "      <td>1.878300e-08</td>\n",
       "      <td>3.498100e-04</td>\n",
       "      <td>2.217200e-04</td>\n",
       "      <td>MBA</td>\n",
       "      <td>0.59145</td>\n",
       "    </tr>\n",
       "    <tr>\n",
       "      <th>891841</th>\n",
       "      <td>N</td>\n",
       "      <td>N</td>\n",
       "      <td>17.40</td>\n",
       "      <td>2.696</td>\n",
       "      <td>0.0610</td>\n",
       "      <td>0.701</td>\n",
       "      <td>2459000.5</td>\n",
       "      <td>59000</td>\n",
       "      <td>20200531.0</td>\n",
       "      <td>0.074890</td>\n",
       "      <td>...</td>\n",
       "      <td>1.788500e-05</td>\n",
       "      <td>1.538400e-04</td>\n",
       "      <td>3.026900e-03</td>\n",
       "      <td>3.326500e-03</td>\n",
       "      <td>1.472800e-06</td>\n",
       "      <td>1.949700e-07</td>\n",
       "      <td>1.413600e-02</td>\n",
       "      <td>1.198900e-03</td>\n",
       "      <td>MBA</td>\n",
       "      <td>0.42754</td>\n",
       "    </tr>\n",
       "    <tr>\n",
       "      <th>894103</th>\n",
       "      <td>N</td>\n",
       "      <td>N</td>\n",
       "      <td>17.20</td>\n",
       "      <td>3.271</td>\n",
       "      <td>0.0720</td>\n",
       "      <td>1.074</td>\n",
       "      <td>2459000.5</td>\n",
       "      <td>59000</td>\n",
       "      <td>20200531.0</td>\n",
       "      <td>0.287894</td>\n",
       "      <td>...</td>\n",
       "      <td>6.736600e-05</td>\n",
       "      <td>1.160600e-04</td>\n",
       "      <td>1.493200e-03</td>\n",
       "      <td>5.880600e-04</td>\n",
       "      <td>2.269800e-06</td>\n",
       "      <td>1.603500e-07</td>\n",
       "      <td>2.675200e-03</td>\n",
       "      <td>1.686400e-03</td>\n",
       "      <td>MBA</td>\n",
       "      <td>0.53016</td>\n",
       "    </tr>\n",
       "    <tr>\n",
       "      <th>901055</th>\n",
       "      <td>N</td>\n",
       "      <td>N</td>\n",
       "      <td>16.00</td>\n",
       "      <td>3.009</td>\n",
       "      <td>0.0780</td>\n",
       "      <td>0.981</td>\n",
       "      <td>2459000.5</td>\n",
       "      <td>59000</td>\n",
       "      <td>20200531.0</td>\n",
       "      <td>0.240246</td>\n",
       "      <td>...</td>\n",
       "      <td>3.376000e-05</td>\n",
       "      <td>2.546000e-05</td>\n",
       "      <td>3.313800e-04</td>\n",
       "      <td>8.637800e-05</td>\n",
       "      <td>9.530100e-07</td>\n",
       "      <td>6.243600e-08</td>\n",
       "      <td>3.265500e-04</td>\n",
       "      <td>7.520900e-04</td>\n",
       "      <td>MBA</td>\n",
       "      <td>0.57294</td>\n",
       "    </tr>\n",
       "    <tr>\n",
       "      <th>909489</th>\n",
       "      <td>N</td>\n",
       "      <td>N</td>\n",
       "      <td>18.30</td>\n",
       "      <td>1.600</td>\n",
       "      <td>0.0230</td>\n",
       "      <td>0.283</td>\n",
       "      <td>2459000.5</td>\n",
       "      <td>59000</td>\n",
       "      <td>20200531.0</td>\n",
       "      <td>0.108726</td>\n",
       "      <td>...</td>\n",
       "      <td>1.178200e-05</td>\n",
       "      <td>1.384400e-04</td>\n",
       "      <td>1.581900e-04</td>\n",
       "      <td>1.040200e-04</td>\n",
       "      <td>8.802300e-08</td>\n",
       "      <td>1.290800e-08</td>\n",
       "      <td>4.108800e-04</td>\n",
       "      <td>6.763900e-05</td>\n",
       "      <td>MBA</td>\n",
       "      <td>0.75791</td>\n",
       "    </tr>\n",
       "  </tbody>\n",
       "</table>\n",
       "<p>131142 rows × 37 columns</p>\n",
       "</div>"
      ],
      "text/plain": [
       "       neo pha      H  diameter  albedo  diameter_sigma      epoch  epoch_mjd  \\\n",
       "0        N   N   3.40   939.400  0.0900           0.200  2458600.5      58600   \n",
       "1        N   N   4.20   545.000  0.1010          18.000  2459000.5      59000   \n",
       "2        N   N   5.33   246.596  0.2140          10.594  2459000.5      59000   \n",
       "3        N   N   3.00   525.400  0.4228           0.200  2458600.5      58600   \n",
       "4        N   N   6.90   106.699  0.2740           3.140  2459000.5      59000   \n",
       "...     ..  ..    ...       ...     ...             ...        ...        ...   \n",
       "891599   N   N  16.20     3.793  0.0210           1.375  2459000.5      59000   \n",
       "891841   N   N  17.40     2.696  0.0610           0.701  2459000.5      59000   \n",
       "894103   N   N  17.20     3.271  0.0720           1.074  2459000.5      59000   \n",
       "901055   N   N  16.00     3.009  0.0780           0.981  2459000.5      59000   \n",
       "909489   N   N  18.30     1.600  0.0230           0.283  2459000.5      59000   \n",
       "\n",
       "         epoch_cal         e  ...       sigma_i      sigma_om       sigma_w  \\\n",
       "0       20190427.0  0.076009  ...  4.608900e-09  6.168800e-08  6.624800e-08   \n",
       "1       20200531.0  0.229972  ...  3.469400e-06  6.272400e-06  9.128200e-06   \n",
       "2       20200531.0  0.256936  ...  3.223100e-06  1.664600e-05  1.772100e-05   \n",
       "3       20190427.0  0.088721  ...  2.170600e-07  3.880800e-07  1.789300e-07   \n",
       "4       20200531.0  0.190913  ...  2.740800e-06  2.894900e-05  2.984200e-05   \n",
       "...            ...       ...  ...           ...           ...           ...   \n",
       "891599  20200531.0  0.159579  ...  2.602600e-05  1.897900e-05  4.951000e-05   \n",
       "891841  20200531.0  0.074890  ...  1.788500e-05  1.538400e-04  3.026900e-03   \n",
       "894103  20200531.0  0.287894  ...  6.736600e-05  1.160600e-04  1.493200e-03   \n",
       "901055  20200531.0  0.240246  ...  3.376000e-05  2.546000e-05  3.313800e-04   \n",
       "909489  20200531.0  0.108726  ...  1.178200e-05  1.384400e-04  1.581900e-04   \n",
       "\n",
       "            sigma_ma      sigma_ad       sigma_n      sigma_tp     sigma_per  \\\n",
       "0       7.820700e-09  1.111300e-11  1.196500e-12  3.782900e-08  9.415900e-09   \n",
       "1       8.859100e-06  4.961300e-09  4.653600e-10  4.078700e-05  3.680700e-06   \n",
       "2       8.110400e-06  4.363900e-09  4.413400e-10  3.528800e-05  3.107200e-06   \n",
       "3       1.206800e-06  1.648600e-09  2.612500e-10  4.103700e-06  1.274900e-06   \n",
       "4       8.303800e-06  4.729000e-09  5.522700e-10  3.474300e-05  3.490500e-06   \n",
       "...              ...           ...           ...           ...           ...   \n",
       "891599  5.127900e-05  2.635700e-07  1.878300e-08  3.498100e-04  2.217200e-04   \n",
       "891841  3.326500e-03  1.472800e-06  1.949700e-07  1.413600e-02  1.198900e-03   \n",
       "894103  5.880600e-04  2.269800e-06  1.603500e-07  2.675200e-03  1.686400e-03   \n",
       "901055  8.637800e-05  9.530100e-07  6.243600e-08  3.265500e-04  7.520900e-04   \n",
       "909489  1.040200e-04  8.802300e-08  1.290800e-08  4.108800e-04  6.763900e-05   \n",
       "\n",
       "        class      rms  \n",
       "0         MBA  0.43301  \n",
       "1         MBA  0.35936  \n",
       "2         MBA  0.33848  \n",
       "3         MBA  0.39980  \n",
       "4         MBA  0.52191  \n",
       "...       ...      ...  \n",
       "891599    MBA  0.59145  \n",
       "891841    MBA  0.42754  \n",
       "894103    MBA  0.53016  \n",
       "901055    MBA  0.57294  \n",
       "909489    MBA  0.75791  \n",
       "\n",
       "[131142 rows x 37 columns]"
      ]
     },
     "execution_count": 18,
     "metadata": {},
     "output_type": "execute_result"
    }
   ],
   "source": [
    "df"
   ]
  },
  {
   "cell_type": "markdown",
   "id": "tender-industry",
   "metadata": {
    "id": "hmQm5YzYTYzy",
    "papermill": {
     "duration": 0.082638,
     "end_time": "2021-06-30T14:50:27.771849",
     "exception": false,
     "start_time": "2021-06-30T14:50:27.689211",
     "status": "completed"
    },
    "tags": []
   },
   "source": [
    "## Understanding the data, an in-depth look"
   ]
  },
  {
   "cell_type": "code",
   "execution_count": 19,
   "id": "sharing-barrier",
   "metadata": {
    "execution": {
     "iopub.execute_input": "2021-06-30T14:50:27.985067Z",
     "iopub.status.busy": "2021-06-30T14:50:27.983828Z",
     "iopub.status.idle": "2021-06-30T14:50:28.014084Z",
     "shell.execute_reply": "2021-06-30T14:50:28.013505Z",
     "shell.execute_reply.started": "2021-06-28T00:44:28.251276Z"
    },
    "executionInfo": {
     "elapsed": 17,
     "status": "ok",
     "timestamp": 1624839280125,
     "user": {
      "displayName": "Dave Ng",
      "photoUrl": "https://lh3.googleusercontent.com/a-/AOh14GgonRm27MsGqoj6VBdYHSPgZwrgEH99_VpwU7OMzQ=s64",
      "userId": "11648937927449049695"
     },
     "user_tz": -480
    },
    "id": "8YljhmInTBuw",
    "outputId": "495f9089-6aa6-4c76-bed2-a5f85c290320",
    "papermill": {
     "duration": 0.157963,
     "end_time": "2021-06-30T14:50:28.014241",
     "exception": false,
     "start_time": "2021-06-30T14:50:27.856278",
     "status": "completed"
    },
    "tags": []
   },
   "outputs": [
    {
     "name": "stdout",
     "output_type": "stream",
     "text": [
      "<class 'pandas.core.frame.DataFrame'>\n",
      "Int64Index: 131142 entries, 0 to 909489\n",
      "Data columns (total 37 columns):\n",
      " #   Column          Non-Null Count   Dtype  \n",
      "---  ------          --------------   -----  \n",
      " 0   neo             131142 non-null  object \n",
      " 1   pha             131142 non-null  object \n",
      " 2   H               131142 non-null  float64\n",
      " 3   diameter        131142 non-null  float64\n",
      " 4   albedo          131142 non-null  float64\n",
      " 5   diameter_sigma  131142 non-null  float64\n",
      " 6   epoch           131142 non-null  float64\n",
      " 7   epoch_mjd       131142 non-null  int64  \n",
      " 8   epoch_cal       131142 non-null  float64\n",
      " 9   e               131142 non-null  float64\n",
      " 10  a               131142 non-null  float64\n",
      " 11  q               131142 non-null  float64\n",
      " 12  i               131142 non-null  float64\n",
      " 13  om              131142 non-null  float64\n",
      " 14  w               131142 non-null  float64\n",
      " 15  ma              131142 non-null  float64\n",
      " 16  ad              131142 non-null  float64\n",
      " 17  n               131142 non-null  float64\n",
      " 18  tp              131142 non-null  float64\n",
      " 19  tp_cal          131142 non-null  float64\n",
      " 20  per             131142 non-null  float64\n",
      " 21  per_y           131142 non-null  float64\n",
      " 22  moid            131142 non-null  float64\n",
      " 23  moid_ld         131142 non-null  float64\n",
      " 24  sigma_e         131142 non-null  float64\n",
      " 25  sigma_a         131142 non-null  float64\n",
      " 26  sigma_q         131142 non-null  float64\n",
      " 27  sigma_i         131142 non-null  float64\n",
      " 28  sigma_om        131142 non-null  float64\n",
      " 29  sigma_w         131142 non-null  float64\n",
      " 30  sigma_ma        131142 non-null  float64\n",
      " 31  sigma_ad        131142 non-null  float64\n",
      " 32  sigma_n         131142 non-null  float64\n",
      " 33  sigma_tp        131142 non-null  float64\n",
      " 34  sigma_per       131142 non-null  float64\n",
      " 35  class           131142 non-null  object \n",
      " 36  rms             131142 non-null  float64\n",
      "dtypes: float64(33), int64(1), object(3)\n",
      "memory usage: 42.1+ MB\n"
     ]
    }
   ],
   "source": [
    "df.info()"
   ]
  },
  {
   "cell_type": "code",
   "execution_count": 20,
   "id": "competitive-disclosure",
   "metadata": {
    "execution": {
     "iopub.execute_input": "2021-06-30T14:50:28.195467Z",
     "iopub.status.busy": "2021-06-30T14:50:28.194450Z",
     "iopub.status.idle": "2021-06-30T14:50:28.201993Z",
     "shell.execute_reply": "2021-06-30T14:50:28.201467Z",
     "shell.execute_reply.started": "2021-06-28T00:44:28.315605Z"
    },
    "executionInfo": {
     "elapsed": 16,
     "status": "ok",
     "timestamp": 1624839280126,
     "user": {
      "displayName": "Dave Ng",
      "photoUrl": "https://lh3.googleusercontent.com/a-/AOh14GgonRm27MsGqoj6VBdYHSPgZwrgEH99_VpwU7OMzQ=s64",
      "userId": "11648937927449049695"
     },
     "user_tz": -480
    },
    "id": "oHdKkkO6TSro",
    "outputId": "6d076bd1-35c9-434d-d9c8-755a009c98c3",
    "papermill": {
     "duration": 0.103842,
     "end_time": "2021-06-30T14:50:28.202152",
     "exception": false,
     "start_time": "2021-06-30T14:50:28.098310",
     "status": "completed"
    },
    "tags": []
   },
   "outputs": [
    {
     "data": {
      "text/plain": [
       "array(['MBA', 'OMB', 'MCA', 'AMO', 'IMB', 'TJN', 'APO', 'ATE', 'CEN',\n",
       "       'AST', 'TNO'], dtype=object)"
      ]
     },
     "execution_count": 20,
     "metadata": {},
     "output_type": "execute_result"
    }
   ],
   "source": [
    "df['class'].unique()"
   ]
  },
  {
   "cell_type": "code",
   "execution_count": 21,
   "id": "enabling-chase",
   "metadata": {
    "execution": {
     "iopub.execute_input": "2021-06-30T14:50:28.388568Z",
     "iopub.status.busy": "2021-06-30T14:50:28.387847Z",
     "iopub.status.idle": "2021-06-30T14:50:28.394728Z",
     "shell.execute_reply": "2021-06-30T14:50:28.394173Z",
     "shell.execute_reply.started": "2021-06-28T00:44:28.330461Z"
    },
    "executionInfo": {
     "elapsed": 280,
     "status": "ok",
     "timestamp": 1624839280391,
     "user": {
      "displayName": "Dave Ng",
      "photoUrl": "https://lh3.googleusercontent.com/a-/AOh14GgonRm27MsGqoj6VBdYHSPgZwrgEH99_VpwU7OMzQ=s64",
      "userId": "11648937927449049695"
     },
     "user_tz": -480
    },
    "id": "Nu3FzJOEVqDU",
    "papermill": {
     "duration": 0.107498,
     "end_time": "2021-06-30T14:50:28.394890",
     "exception": false,
     "start_time": "2021-06-30T14:50:28.287392",
     "status": "completed"
    },
    "tags": []
   },
   "outputs": [],
   "source": [
    "df['pha'] = df['pha'].map({'Y': 1, 'N': 0})"
   ]
  },
  {
   "cell_type": "code",
   "execution_count": 22,
   "id": "actual-water",
   "metadata": {
    "execution": {
     "iopub.execute_input": "2021-06-30T14:50:28.570143Z",
     "iopub.status.busy": "2021-06-30T14:50:28.569519Z",
     "iopub.status.idle": "2021-06-30T14:50:34.128525Z",
     "shell.execute_reply": "2021-06-30T14:50:34.129042Z",
     "shell.execute_reply.started": "2021-06-28T00:44:28.359279Z"
    },
    "executionInfo": {
     "elapsed": 6383,
     "status": "ok",
     "timestamp": 1624839286771,
     "user": {
      "displayName": "Dave Ng",
      "photoUrl": "https://lh3.googleusercontent.com/a-/AOh14GgonRm27MsGqoj6VBdYHSPgZwrgEH99_VpwU7OMzQ=s64",
      "userId": "11648937927449049695"
     },
     "user_tz": -480
    },
    "id": "XTk2glY8UPWZ",
    "outputId": "9145dc3a-8d3d-4e99-c1dc-0c91bf59ed0b",
    "papermill": {
     "duration": 5.650314,
     "end_time": "2021-06-30T14:50:34.129237",
     "exception": false,
     "start_time": "2021-06-30T14:50:28.478923",
     "status": "completed"
    },
    "tags": []
   },
   "outputs": [
    {
     "data": {
      "text/plain": [
       "<AxesSubplot:>"
      ]
     },
     "execution_count": 22,
     "metadata": {},
     "output_type": "execute_result"
    },
    {
     "data": {
      "image/png": "[encoded data removed]",
      "text/plain": [
       "<Figure size 1440x1440 with 2 Axes>"
      ]
     },
     "metadata": {
      "needs_background": "light"
     },
     "output_type": "display_data"
    }
   ],
   "source": [
    "plt.figure(figsize=(20,20))\n",
    "sns.heatmap(data=round(df.corr(),2), annot=True)"
   ]
  },
  {
   "cell_type": "code",
   "execution_count": 23,
   "id": "close-fraction",
   "metadata": {
    "execution": {
     "iopub.execute_input": "2021-06-30T14:50:34.323577Z",
     "iopub.status.busy": "2021-06-30T14:50:34.322870Z",
     "iopub.status.idle": "2021-06-30T14:50:34.377582Z",
     "shell.execute_reply": "2021-06-30T14:50:34.376803Z",
     "shell.execute_reply.started": "2021-06-28T00:44:33.686999Z"
    },
    "executionInfo": {
     "elapsed": 11,
     "status": "ok",
     "timestamp": 1624839286772,
     "user": {
      "displayName": "Dave Ng",
      "photoUrl": "https://lh3.googleusercontent.com/a-/AOh14GgonRm27MsGqoj6VBdYHSPgZwrgEH99_VpwU7OMzQ=s64",
      "userId": "11648937927449049695"
     },
     "user_tz": -480
    },
    "id": "tO9lK91sWctL",
    "papermill": {
     "duration": 0.154112,
     "end_time": "2021-06-30T14:50:34.377745",
     "exception": false,
     "start_time": "2021-06-30T14:50:34.223633",
     "status": "completed"
    },
    "tags": []
   },
   "outputs": [],
   "source": [
    "df= pd.get_dummies(df)"
   ]
  },
  {
   "cell_type": "markdown",
   "id": "fundamental-amsterdam",
   "metadata": {
    "id": "XlxcJQbhUy0M",
    "papermill": {
     "duration": 0.095335,
     "end_time": "2021-06-30T14:50:34.567260",
     "exception": false,
     "start_time": "2021-06-30T14:50:34.471925",
     "status": "completed"
    },
    "tags": []
   },
   "source": [
    "# 5. Modelling"
   ]
  },
  {
   "cell_type": "code",
   "execution_count": 24,
   "id": "unsigned-telling",
   "metadata": {
    "execution": {
     "iopub.execute_input": "2021-06-30T14:50:34.757436Z",
     "iopub.status.busy": "2021-06-30T14:50:34.756767Z",
     "iopub.status.idle": "2021-06-30T14:50:34.804573Z",
     "shell.execute_reply": "2021-06-30T14:50:34.805085Z",
     "shell.execute_reply.started": "2021-06-28T00:44:33.744906Z"
    },
    "executionInfo": {
     "elapsed": 10,
     "status": "ok",
     "timestamp": 1624839286772,
     "user": {
      "displayName": "Dave Ng",
      "photoUrl": "https://lh3.googleusercontent.com/a-/AOh14GgonRm27MsGqoj6VBdYHSPgZwrgEH99_VpwU7OMzQ=s64",
      "userId": "11648937927449049695"
     },
     "user_tz": -480
    },
    "id": "st7E2evbWYWV",
    "papermill": {
     "duration": 0.144409,
     "end_time": "2021-06-30T14:50:34.805275",
     "exception": false,
     "start_time": "2021-06-30T14:50:34.660866",
     "status": "completed"
    },
    "tags": []
   },
   "outputs": [],
   "source": [
    "X = df.drop('pha', axis=1)\n",
    "y = df['pha']"
   ]
  },
  {
   "cell_type": "code",
   "execution_count": 25,
   "id": "grand-necessity",
   "metadata": {
    "execution": {
     "iopub.execute_input": "2021-06-30T14:50:34.995052Z",
     "iopub.status.busy": "2021-06-30T14:50:34.994398Z",
     "iopub.status.idle": "2021-06-30T14:50:35.412808Z",
     "shell.execute_reply": "2021-06-30T14:50:35.412170Z",
     "shell.execute_reply.started": "2021-06-28T00:44:33.781765Z"
    },
    "executionInfo": {
     "elapsed": 10,
     "status": "ok",
     "timestamp": 1624839286773,
     "user": {
      "displayName": "Dave Ng",
      "photoUrl": "https://lh3.googleusercontent.com/a-/AOh14GgonRm27MsGqoj6VBdYHSPgZwrgEH99_VpwU7OMzQ=s64",
      "userId": "11648937927449049695"
     },
     "user_tz": -480
    },
    "id": "W_KVO6p2k__K",
    "papermill": {
     "duration": 0.514361,
     "end_time": "2021-06-30T14:50:35.412973",
     "exception": false,
     "start_time": "2021-06-30T14:50:34.898612",
     "status": "completed"
    },
    "tags": []
   },
   "outputs": [],
   "source": [
    "from sklearn.model_selection import train_test_split\n",
    "from sklearn.preprocessing import StandardScaler"
   ]
  },
  {
   "cell_type": "code",
   "execution_count": 26,
   "id": "greater-bahrain",
   "metadata": {
    "execution": {
     "iopub.execute_input": "2021-06-30T14:50:35.612192Z",
     "iopub.status.busy": "2021-06-30T14:50:35.611529Z",
     "iopub.status.idle": "2021-06-30T14:50:35.680386Z",
     "shell.execute_reply": "2021-06-30T14:50:35.679660Z",
     "shell.execute_reply.started": "2021-06-28T00:44:34.020407Z"
    },
    "executionInfo": {
     "elapsed": 10,
     "status": "ok",
     "timestamp": 1624839286773,
     "user": {
      "displayName": "Dave Ng",
      "photoUrl": "https://lh3.googleusercontent.com/a-/AOh14GgonRm27MsGqoj6VBdYHSPgZwrgEH99_VpwU7OMzQ=s64",
      "userId": "11648937927449049695"
     },
     "user_tz": -480
    },
    "id": "mO7fFRpzlIKa",
    "papermill": {
     "duration": 0.173582,
     "end_time": "2021-06-30T14:50:35.680545",
     "exception": false,
     "start_time": "2021-06-30T14:50:35.506963",
     "status": "completed"
    },
    "tags": []
   },
   "outputs": [],
   "source": [
    "X_train, X_test, y_train, y_test = train_test_split(X, y, test_size=0.3, random_state=42)"
   ]
  },
  {
   "cell_type": "code",
   "execution_count": 27,
   "id": "familiar-immune",
   "metadata": {
    "execution": {
     "iopub.execute_input": "2021-06-30T14:50:35.874828Z",
     "iopub.status.busy": "2021-06-30T14:50:35.874116Z",
     "iopub.status.idle": "2021-06-30T14:50:36.031047Z",
     "shell.execute_reply": "2021-06-30T14:50:36.030487Z",
     "shell.execute_reply.started": "2021-06-28T00:44:34.078874Z"
    },
    "executionInfo": {
     "elapsed": 9,
     "status": "ok",
     "timestamp": 1624839286774,
     "user": {
      "displayName": "Dave Ng",
      "photoUrl": "https://lh3.googleusercontent.com/a-/AOh14GgonRm27MsGqoj6VBdYHSPgZwrgEH99_VpwU7OMzQ=s64",
      "userId": "11648937927449049695"
     },
     "user_tz": -480
    },
    "id": "iTflfAmYlJr7",
    "papermill": {
     "duration": 0.258249,
     "end_time": "2021-06-30T14:50:36.031191",
     "exception": false,
     "start_time": "2021-06-30T14:50:35.772942",
     "status": "completed"
    },
    "tags": []
   },
   "outputs": [],
   "source": [
    "scaler = StandardScaler()\n",
    "X_train = scaler.fit_transform(X_train)\n",
    "X_test = scaler.transform(X_test)"
   ]
  },
  {
   "cell_type": "markdown",
   "id": "wired-bumper",
   "metadata": {
    "id": "F69msomAWs_i",
    "papermill": {
     "duration": 0.09577,
     "end_time": "2021-06-30T14:50:36.222749",
     "exception": false,
     "start_time": "2021-06-30T14:50:36.126979",
     "status": "completed"
    },
    "tags": []
   },
   "source": [
    "# Model Imports"
   ]
  },
  {
   "cell_type": "code",
   "execution_count": 28,
   "id": "comparable-providence",
   "metadata": {
    "execution": {
     "iopub.execute_input": "2021-06-30T14:50:36.413777Z",
     "iopub.status.busy": "2021-06-30T14:50:36.412911Z",
     "iopub.status.idle": "2021-06-30T14:50:36.766413Z",
     "shell.execute_reply": "2021-06-30T14:50:36.765411Z",
     "shell.execute_reply.started": "2021-06-28T00:44:34.208972Z"
    },
    "executionInfo": {
     "elapsed": 494,
     "status": "ok",
     "timestamp": 1624839287260,
     "user": {
      "displayName": "Dave Ng",
      "photoUrl": "https://lh3.googleusercontent.com/a-/AOh14GgonRm27MsGqoj6VBdYHSPgZwrgEH99_VpwU7OMzQ=s64",
      "userId": "11648937927449049695"
     },
     "user_tz": -480
    },
    "id": "teOomBnOW2ts",
    "papermill": {
     "duration": 0.451363,
     "end_time": "2021-06-30T14:50:36.766580",
     "exception": false,
     "start_time": "2021-06-30T14:50:36.315217",
     "status": "completed"
    },
    "tags": []
   },
   "outputs": [],
   "source": [
    "from sklearn.linear_model import LogisticRegression\n",
    "from sklearn.neighbors import KNeighborsClassifier\n",
    "from sklearn.svm import SVC\n",
    "from sklearn.tree import DecisionTreeClassifier\n",
    "from sklearn.ensemble import RandomForestClassifier, AdaBoostClassifier, GradientBoostingClassifier\n",
    "from xgboost import XGBClassifier, XGBRFClassifier"
   ]
  },
  {
   "cell_type": "markdown",
   "id": "unlikely-roommate",
   "metadata": {
    "id": "_fIEGV-slRYq",
    "papermill": {
     "duration": 0.093439,
     "end_time": "2021-06-30T14:50:36.952462",
     "exception": false,
     "start_time": "2021-06-30T14:50:36.859023",
     "status": "completed"
    },
    "tags": []
   },
   "source": [
    "## Baseline Modelling"
   ]
  },
  {
   "cell_type": "code",
   "execution_count": 29,
   "id": "wooden-bracelet",
   "metadata": {
    "execution": {
     "iopub.execute_input": "2021-06-30T14:50:37.157278Z",
     "iopub.status.busy": "2021-06-30T14:50:37.156354Z",
     "iopub.status.idle": "2021-06-30T14:50:37.163671Z",
     "shell.execute_reply": "2021-06-30T14:50:37.164619Z",
     "shell.execute_reply.started": "2021-06-28T00:44:34.718226Z"
    },
    "executionInfo": {
     "elapsed": 15,
     "status": "ok",
     "timestamp": 1624814256472,
     "user": {
      "displayName": "Dave Ng",
      "photoUrl": "https://lh3.googleusercontent.com/a-/AOh14GgonRm27MsGqoj6VBdYHSPgZwrgEH99_VpwU7OMzQ=s64",
      "userId": "11648937927449049695"
     },
     "user_tz": -480
    },
    "id": "3s3w_aMzlTtG",
    "papermill": {
     "duration": 0.118818,
     "end_time": "2021-06-30T14:50:37.164893",
     "exception": false,
     "start_time": "2021-06-30T14:50:37.046075",
     "status": "completed"
    },
    "tags": []
   },
   "outputs": [],
   "source": [
    "def fit_and_score(models, X_train, X_test, y_train, y_test):\n",
    "    np.random.seed(42)\n",
    "    \n",
    "    model_scores = {}\n",
    "    \n",
    "    for name, model in models.items():\n",
    "        model.fit(X_train,y_train)\n",
    "        model_scores[name] = model.score(X_test,y_test)\n",
    "\n",
    "    model_scores = pd.DataFrame(model_scores, index=['Score']).transpose()\n",
    "    model_scores = model_scores.sort_values('Score')\n",
    "        \n",
    "    return model_scores"
   ]
  },
  {
   "cell_type": "code",
   "execution_count": 30,
   "id": "searching-baker",
   "metadata": {
    "execution": {
     "iopub.execute_input": "2021-06-30T14:50:37.369397Z",
     "iopub.status.busy": "2021-06-30T14:50:37.368725Z",
     "iopub.status.idle": "2021-06-30T14:50:37.375636Z",
     "shell.execute_reply": "2021-06-30T14:50:37.375073Z",
     "shell.execute_reply.started": "2021-06-28T00:44:34.726038Z"
    },
    "executionInfo": {
     "elapsed": 14,
     "status": "ok",
     "timestamp": 1624814256474,
     "user": {
      "displayName": "Dave Ng",
      "photoUrl": "https://lh3.googleusercontent.com/a-/AOh14GgonRm27MsGqoj6VBdYHSPgZwrgEH99_VpwU7OMzQ=s64",
      "userId": "11648937927449049695"
     },
     "user_tz": -480
    },
    "id": "5ABg2p3KlWXb",
    "papermill": {
     "duration": 0.103583,
     "end_time": "2021-06-30T14:50:37.375776",
     "exception": false,
     "start_time": "2021-06-30T14:50:37.272193",
     "status": "completed"
    },
    "tags": []
   },
   "outputs": [],
   "source": [
    "models = {'LogisticRegression': LogisticRegression(max_iter=10000),\n",
    "          'KNeighborsClassifier': KNeighborsClassifier(),\n",
    "          'SVC': SVC(),\n",
    "          'DecisionTreeClassifier': DecisionTreeClassifier(),\n",
    "          'RandomForestClassifier': RandomForestClassifier(),\n",
    "          'AdaBoostClassifier': AdaBoostClassifier(),\n",
    "          'GradientBoostingClassifier': GradientBoostingClassifier(),\n",
    "          'XGBClassifier': XGBClassifier(),\n",
    "          'XGBRFClassifier': XGBRFClassifier()}"
   ]
  },
  {
   "cell_type": "code",
   "execution_count": 31,
   "id": "unnecessary-toyota",
   "metadata": {
    "execution": {
     "iopub.execute_input": "2021-06-30T14:50:37.564416Z",
     "iopub.status.busy": "2021-06-30T14:50:37.563751Z",
     "iopub.status.idle": "2021-06-30T14:54:43.282061Z",
     "shell.execute_reply": "2021-06-30T14:54:43.282569Z",
     "shell.execute_reply.started": "2021-06-28T00:44:34.739004Z"
    },
    "executionInfo": {
     "elapsed": 703057,
     "status": "ok",
     "timestamp": 1624814959519,
     "user": {
      "displayName": "Dave Ng",
      "photoUrl": "https://lh3.googleusercontent.com/a-/AOh14GgonRm27MsGqoj6VBdYHSPgZwrgEH99_VpwU7OMzQ=s64",
      "userId": "11648937927449049695"
     },
     "user_tz": -480
    },
    "id": "lJi-An6zlYYu",
    "papermill": {
     "duration": 245.81505,
     "end_time": "2021-06-30T14:54:43.282780",
     "exception": false,
     "start_time": "2021-06-30T14:50:37.467730",
     "status": "completed"
    },
    "tags": []
   },
   "outputs": [
    {
     "name": "stderr",
     "output_type": "stream",
     "text": [
      "/opt/conda/lib/python3.7/site-packages/xgboost/sklearn.py:1146: UserWarning: The use of label encoder in XGBClassifier is deprecated and will be removed in a future release. To remove this warning, do the following: 1) Pass option use_label_encoder=False when constructing XGBClassifier object; and 2) Encode your labels (y) as integers starting with 0, i.e. 0, 1, 2, ..., [num_class - 1].\n",
      "  warnings.warn(label_encoder_deprecation_msg, UserWarning)\n"
     ]
    },
    {
     "name": "stdout",
     "output_type": "stream",
     "text": [
      "[14:54:29] WARNING: ../src/learner.cc:1095: Starting in XGBoost 1.3.0, the default evaluation metric used with the objective 'binary:logistic' was changed from 'error' to 'logloss'. Explicitly set eval_metric if you'd like to restore the old behavior.\n"
     ]
    },
    {
     "name": "stderr",
     "output_type": "stream",
     "text": [
      "/opt/conda/lib/python3.7/site-packages/xgboost/data.py:114: UserWarning: Use subset (sliced data) of np.ndarray is not recommended because it will generate extra copies and increase memory consumption\n",
      "  \"because it will generate extra copies and increase \" +\n",
      "/opt/conda/lib/python3.7/site-packages/xgboost/sklearn.py:1146: UserWarning: The use of label encoder in XGBClassifier is deprecated and will be removed in a future release. To remove this warning, do the following: 1) Pass option use_label_encoder=False when constructing XGBClassifier object; and 2) Encode your labels (y) as integers starting with 0, i.e. 0, 1, 2, ..., [num_class - 1].\n",
      "  warnings.warn(label_encoder_deprecation_msg, UserWarning)\n"
     ]
    },
    {
     "name": "stdout",
     "output_type": "stream",
     "text": [
      "[14:54:43] WARNING: ../src/learner.cc:1095: Starting in XGBoost 1.3.0, the default evaluation metric used with the objective 'binary:logistic' was changed from 'error' to 'logloss'. Explicitly set eval_metric if you'd like to restore the old behavior.\n"
     ]
    },
    {
     "name": "stderr",
     "output_type": "stream",
     "text": [
      "/opt/conda/lib/python3.7/site-packages/xgboost/data.py:114: UserWarning: Use subset (sliced data) of np.ndarray is not recommended because it will generate extra copies and increase memory consumption\n",
      "  \"because it will generate extra copies and increase \" +\n"
     ]
    }
   ],
   "source": [
    "baseline_model_scores = fit_and_score(models, X_train, X_test, y_train, y_test)"
   ]
  },
  {
   "cell_type": "code",
   "execution_count": 32,
   "id": "optional-conclusion",
   "metadata": {
    "execution": {
     "iopub.execute_input": "2021-06-30T14:54:43.485231Z",
     "iopub.status.busy": "2021-06-30T14:54:43.484305Z",
     "iopub.status.idle": "2021-06-30T14:54:43.488996Z",
     "shell.execute_reply": "2021-06-30T14:54:43.488418Z",
     "shell.execute_reply.started": "2021-06-28T00:48:07.251225Z"
    },
    "executionInfo": {
     "elapsed": 11,
     "status": "ok",
     "timestamp": 1624814959520,
     "user": {
      "displayName": "Dave Ng",
      "photoUrl": "https://lh3.googleusercontent.com/a-/AOh14GgonRm27MsGqoj6VBdYHSPgZwrgEH99_VpwU7OMzQ=s64",
      "userId": "11648937927449049695"
     },
     "user_tz": -480
    },
    "id": "gikISwHrlZ5b",
    "outputId": "3250dccc-b944-49cc-b746-44eea51407c9",
    "papermill": {
     "duration": 0.110484,
     "end_time": "2021-06-30T14:54:43.489138",
     "exception": false,
     "start_time": "2021-06-30T14:54:43.378654",
     "status": "completed"
    },
    "tags": []
   },
   "outputs": [
    {
     "data": {
      "text/html": [
       "<div>\n",
       "<style scoped>\n",
       "    .dataframe tbody tr th:only-of-type {\n",
       "        vertical-align: middle;\n",
       "    }\n",
       "\n",
       "    .dataframe tbody tr th {\n",
       "        vertical-align: top;\n",
       "    }\n",
       "\n",
       "    .dataframe thead th {\n",
       "        text-align: right;\n",
       "    }\n",
       "</style>\n",
       "<table border=\"1\" class=\"dataframe\">\n",
       "  <thead>\n",
       "    <tr style=\"text-align: right;\">\n",
       "      <th></th>\n",
       "      <th>Score</th>\n",
       "    </tr>\n",
       "  </thead>\n",
       "  <tbody>\n",
       "    <tr>\n",
       "      <th>KNeighborsClassifier</th>\n",
       "      <td>0.998246</td>\n",
       "    </tr>\n",
       "    <tr>\n",
       "      <th>SVC</th>\n",
       "      <td>0.998526</td>\n",
       "    </tr>\n",
       "    <tr>\n",
       "      <th>LogisticRegression</th>\n",
       "      <td>0.999339</td>\n",
       "    </tr>\n",
       "    <tr>\n",
       "      <th>RandomForestClassifier</th>\n",
       "      <td>0.999847</td>\n",
       "    </tr>\n",
       "    <tr>\n",
       "      <th>DecisionTreeClassifier</th>\n",
       "      <td>0.999949</td>\n",
       "    </tr>\n",
       "    <tr>\n",
       "      <th>GradientBoostingClassifier</th>\n",
       "      <td>0.999949</td>\n",
       "    </tr>\n",
       "    <tr>\n",
       "      <th>AdaBoostClassifier</th>\n",
       "      <td>1.000000</td>\n",
       "    </tr>\n",
       "    <tr>\n",
       "      <th>XGBClassifier</th>\n",
       "      <td>1.000000</td>\n",
       "    </tr>\n",
       "    <tr>\n",
       "      <th>XGBRFClassifier</th>\n",
       "      <td>1.000000</td>\n",
       "    </tr>\n",
       "  </tbody>\n",
       "</table>\n",
       "</div>"
      ],
      "text/plain": [
       "                               Score\n",
       "KNeighborsClassifier        0.998246\n",
       "SVC                         0.998526\n",
       "LogisticRegression          0.999339\n",
       "RandomForestClassifier      0.999847\n",
       "DecisionTreeClassifier      0.999949\n",
       "GradientBoostingClassifier  0.999949\n",
       "AdaBoostClassifier          1.000000\n",
       "XGBClassifier               1.000000\n",
       "XGBRFClassifier             1.000000"
      ]
     },
     "execution_count": 32,
     "metadata": {},
     "output_type": "execute_result"
    }
   ],
   "source": [
    "baseline_model_scores.sort_values('Score')"
   ]
  },
  {
   "cell_type": "code",
   "execution_count": 33,
   "id": "growing-manchester",
   "metadata": {
    "execution": {
     "iopub.execute_input": "2021-06-30T14:54:43.704737Z",
     "iopub.status.busy": "2021-06-30T14:54:43.694021Z",
     "iopub.status.idle": "2021-06-30T14:54:43.922558Z",
     "shell.execute_reply": "2021-06-30T14:54:43.923111Z",
     "shell.execute_reply.started": "2021-06-28T00:48:07.265241Z"
    },
    "executionInfo": {
     "elapsed": 563,
     "status": "ok",
     "timestamp": 1624814960076,
     "user": {
      "displayName": "Dave Ng",
      "photoUrl": "https://lh3.googleusercontent.com/a-/AOh14GgonRm27MsGqoj6VBdYHSPgZwrgEH99_VpwU7OMzQ=s64",
      "userId": "11648937927449049695"
     },
     "user_tz": -480
    },
    "id": "ut-QB9ztlcmr",
    "outputId": "f2cc0db9-0717-456b-fb18-61ea7bc08ec9",
    "papermill": {
     "duration": 0.339091,
     "end_time": "2021-06-30T14:54:43.923319",
     "exception": false,
     "start_time": "2021-06-30T14:54:43.584228",
     "status": "completed"
    },
    "tags": []
   },
   "outputs": [
    {
     "data": {
      "image/png": "[encoded data removed]",
      "text/plain": [
       "<Figure size 1440x720 with 1 Axes>"
      ]
     },
     "metadata": {
      "needs_background": "light"
     },
     "output_type": "display_data"
    }
   ],
   "source": [
    "plt.figure(figsize=(20,10))\n",
    "sns.barplot(data=baseline_model_scores.sort_values('Score').T)\n",
    "plt.title('Baseline Model Precision Score')\n",
    "plt.xticks(rotation=90);"
   ]
  },
  {
   "cell_type": "markdown",
   "id": "disabled-cooling",
   "metadata": {
    "id": "-PseDwNVdH-k",
    "papermill": {
     "duration": 0.096493,
     "end_time": "2021-06-30T14:54:44.117135",
     "exception": false,
     "start_time": "2021-06-30T14:54:44.020642",
     "status": "completed"
    },
    "tags": []
   },
   "source": [
    "Since the Baseline AdaBoostClassifier model preform at 0.999981 accurcy, we will use that to bulid the model and evalute it"
   ]
  },
  {
   "cell_type": "markdown",
   "id": "acknowledged-dating",
   "metadata": {
    "id": "KSjemFEed8iR",
    "papermill": {
     "duration": 0.0958,
     "end_time": "2021-06-30T14:54:44.309603",
     "exception": false,
     "start_time": "2021-06-30T14:54:44.213803",
     "status": "completed"
    },
    "tags": []
   },
   "source": [
    "# 6. Model Evaluting\n",
    "## AdaBoostClassifier"
   ]
  },
  {
   "cell_type": "code",
   "execution_count": 34,
   "id": "alien-operation",
   "metadata": {
    "execution": {
     "iopub.execute_input": "2021-06-30T14:54:44.506519Z",
     "iopub.status.busy": "2021-06-30T14:54:44.505845Z",
     "iopub.status.idle": "2021-06-30T14:55:06.170968Z",
     "shell.execute_reply": "2021-06-30T14:55:06.170429Z",
     "shell.execute_reply.started": "2021-06-28T00:48:07.49128Z"
    },
    "executionInfo": {
     "elapsed": 19868,
     "status": "ok",
     "timestamp": 1624839307124,
     "user": {
      "displayName": "Dave Ng",
      "photoUrl": "https://lh3.googleusercontent.com/a-/AOh14GgonRm27MsGqoj6VBdYHSPgZwrgEH99_VpwU7OMzQ=s64",
      "userId": "11648937927449049695"
     },
     "user_tz": -480
    },
    "id": "asL5GfzvW5lL",
    "papermill": {
     "duration": 21.765175,
     "end_time": "2021-06-30T14:55:06.171143",
     "exception": false,
     "start_time": "2021-06-30T14:54:44.405968",
     "status": "completed"
    },
    "tags": []
   },
   "outputs": [],
   "source": [
    "model = AdaBoostClassifier()\n",
    "model.fit(X_train,y_train)\n",
    "y_preds = model.predict(X_test)"
   ]
  },
  {
   "cell_type": "code",
   "execution_count": 35,
   "id": "dietary-print",
   "metadata": {
    "execution": {
     "iopub.execute_input": "2021-06-30T14:55:06.372624Z",
     "iopub.status.busy": "2021-06-30T14:55:06.371654Z",
     "iopub.status.idle": "2021-06-30T14:55:06.375411Z",
     "shell.execute_reply": "2021-06-30T14:55:06.374844Z",
     "shell.execute_reply.started": "2021-06-28T00:48:26.422754Z"
    },
    "executionInfo": {
     "elapsed": 14,
     "status": "ok",
     "timestamp": 1624839307129,
     "user": {
      "displayName": "Dave Ng",
      "photoUrl": "https://lh3.googleusercontent.com/a-/AOh14GgonRm27MsGqoj6VBdYHSPgZwrgEH99_VpwU7OMzQ=s64",
      "userId": "11648937927449049695"
     },
     "user_tz": -480
    },
    "id": "YVFeDXCRZhph",
    "papermill": {
     "duration": 0.107408,
     "end_time": "2021-06-30T14:55:06.375550",
     "exception": false,
     "start_time": "2021-06-30T14:55:06.268142",
     "status": "completed"
    },
    "tags": []
   },
   "outputs": [],
   "source": [
    "from sklearn.metrics import classification_report, plot_confusion_matrix, plot_roc_curve "
   ]
  },
  {
   "cell_type": "code",
   "execution_count": 36,
   "id": "finnish-kenya",
   "metadata": {
    "execution": {
     "iopub.execute_input": "2021-06-30T14:55:06.572821Z",
     "iopub.status.busy": "2021-06-30T14:55:06.572083Z",
     "iopub.status.idle": "2021-06-30T14:55:06.633225Z",
     "shell.execute_reply": "2021-06-30T14:55:06.632707Z",
     "shell.execute_reply.started": "2021-06-28T00:48:26.428194Z"
    },
    "executionInfo": {
     "elapsed": 12,
     "status": "ok",
     "timestamp": 1624839307130,
     "user": {
      "displayName": "Dave Ng",
      "photoUrl": "https://lh3.googleusercontent.com/a-/AOh14GgonRm27MsGqoj6VBdYHSPgZwrgEH99_VpwU7OMzQ=s64",
      "userId": "11648937927449049695"
     },
     "user_tz": -480
    },
    "id": "RF4sq1qnjvIc",
    "outputId": "8c7b4b10-382b-4bc8-bc14-0e53b4dfb95a",
    "papermill": {
     "duration": 0.162246,
     "end_time": "2021-06-30T14:55:06.633387",
     "exception": false,
     "start_time": "2021-06-30T14:55:06.471141",
     "status": "completed"
    },
    "tags": []
   },
   "outputs": [
    {
     "name": "stdout",
     "output_type": "stream",
     "text": [
      "              precision    recall  f1-score   support\n",
      "\n",
      "           0       1.00      1.00      1.00     39285\n",
      "           1       1.00      1.00      1.00        58\n",
      "\n",
      "    accuracy                           1.00     39343\n",
      "   macro avg       1.00      1.00      1.00     39343\n",
      "weighted avg       1.00      1.00      1.00     39343\n",
      "\n"
     ]
    }
   ],
   "source": [
    "print(classification_report(y_test,y_preds))"
   ]
  },
  {
   "cell_type": "markdown",
   "id": "instant-universal",
   "metadata": {
    "id": "B69h6KFemgOb",
    "papermill": {
     "duration": 0.095596,
     "end_time": "2021-06-30T14:55:06.826124",
     "exception": false,
     "start_time": "2021-06-30T14:55:06.730528",
     "status": "completed"
    },
    "tags": []
   },
   "source": [
    "### Confusion Matrix"
   ]
  },
  {
   "cell_type": "code",
   "execution_count": 37,
   "id": "planned-bedroom",
   "metadata": {
    "execution": {
     "iopub.execute_input": "2021-06-30T14:55:07.028730Z",
     "iopub.status.busy": "2021-06-30T14:55:07.027539Z",
     "iopub.status.idle": "2021-06-30T14:55:07.680431Z",
     "shell.execute_reply": "2021-06-30T14:55:07.679925Z",
     "shell.execute_reply.started": "2021-06-28T00:48:26.485304Z"
    },
    "executionInfo": {
     "elapsed": 793,
     "status": "ok",
     "timestamp": 1624839307914,
     "user": {
      "displayName": "Dave Ng",
      "photoUrl": "https://lh3.googleusercontent.com/a-/AOh14GgonRm27MsGqoj6VBdYHSPgZwrgEH99_VpwU7OMzQ=s64",
      "userId": "11648937927449049695"
     },
     "user_tz": -480
    },
    "id": "puOfkni4kTJ8",
    "outputId": "2c5a422a-d075-4853-e139-be4ae0433eda",
    "papermill": {
     "duration": 0.753959,
     "end_time": "2021-06-30T14:55:07.680570",
     "exception": false,
     "start_time": "2021-06-30T14:55:06.926611",
     "status": "completed"
    },
    "tags": []
   },
   "outputs": [
    {
     "data": {
      "text/plain": [
       "<sklearn.metrics._plot.confusion_matrix.ConfusionMatrixDisplay at 0x7f52b9129c90>"
      ]
     },
     "execution_count": 37,
     "metadata": {},
     "output_type": "execute_result"
    },
    {
     "data": {
      "image/png": "[encoded data removed]",
      "text/plain": [
       "<Figure size 432x288 with 2 Axes>"
      ]
     },
     "metadata": {
      "needs_background": "light"
     },
     "output_type": "display_data"
    }
   ],
   "source": [
    "plot_confusion_matrix(model, X_test, y_test)"
   ]
  },
  {
   "cell_type": "markdown",
   "id": "changed-heritage",
   "metadata": {
    "id": "z7h_V06ybh9k",
    "papermill": {
     "duration": 0.096347,
     "end_time": "2021-06-30T14:55:07.873735",
     "exception": false,
     "start_time": "2021-06-30T14:55:07.777388",
     "status": "completed"
    },
    "tags": []
   },
   "source": [
    "### ROC Curve"
   ]
  },
  {
   "cell_type": "code",
   "execution_count": 38,
   "id": "military-edgar",
   "metadata": {
    "execution": {
     "iopub.execute_input": "2021-06-30T14:55:08.078619Z",
     "iopub.status.busy": "2021-06-30T14:55:08.077949Z",
     "iopub.status.idle": "2021-06-30T14:55:08.666300Z",
     "shell.execute_reply": "2021-06-30T14:55:08.666842Z",
     "shell.execute_reply.started": "2021-06-28T00:48:27.117552Z"
    },
    "executionInfo": {
     "elapsed": 701,
     "status": "ok",
     "timestamp": 1624839308610,
     "user": {
      "displayName": "Dave Ng",
      "photoUrl": "https://lh3.googleusercontent.com/a-/AOh14GgonRm27MsGqoj6VBdYHSPgZwrgEH99_VpwU7OMzQ=s64",
      "userId": "11648937927449049695"
     },
     "user_tz": -480
    },
    "id": "JtMgIgIvZntv",
    "outputId": "7ea5ab60-32e1-484e-959b-2d525015d365",
    "papermill": {
     "duration": 0.693529,
     "end_time": "2021-06-30T14:55:08.667206",
     "exception": false,
     "start_time": "2021-06-30T14:55:07.973677",
     "status": "completed"
    },
    "tags": []
   },
   "outputs": [
    {
     "data": {
      "text/plain": [
       "<sklearn.metrics._plot.roc_curve.RocCurveDisplay at 0x7f52b91a2f90>"
      ]
     },
     "execution_count": 38,
     "metadata": {},
     "output_type": "execute_result"
    },
    {
     "data": {
      "image/png": "[encoded data removed]",
      "text/plain": [
       "<Figure size 432x288 with 1 Axes>"
      ]
     },
     "metadata": {
      "needs_background": "light"
     },
     "output_type": "display_data"
    }
   ],
   "source": [
    "plot_roc_curve(model, X_test, y_test)"
   ]
  },
  {
   "cell_type": "markdown",
   "id": "governing-nurse",
   "metadata": {
    "id": "416D9JV_baEU",
    "papermill": {
     "duration": 0.099401,
     "end_time": "2021-06-30T14:55:08.868311",
     "exception": false,
     "start_time": "2021-06-30T14:55:08.768910",
     "status": "completed"
    },
    "tags": []
   },
   "source": [
    "### Calculate evalution metrices using cross-validation"
   ]
  },
  {
   "cell_type": "code",
   "execution_count": 39,
   "id": "abroad-conditions",
   "metadata": {
    "execution": {
     "iopub.execute_input": "2021-06-30T14:55:09.075205Z",
     "iopub.status.busy": "2021-06-30T14:55:09.074532Z",
     "iopub.status.idle": "2021-06-30T14:55:09.078018Z",
     "shell.execute_reply": "2021-06-30T14:55:09.077353Z",
     "shell.execute_reply.started": "2021-06-28T00:48:27.680603Z"
    },
    "executionInfo": {
     "elapsed": 9,
     "status": "ok",
     "timestamp": 1624839308611,
     "user": {
      "displayName": "Dave Ng",
      "photoUrl": "https://lh3.googleusercontent.com/a-/AOh14GgonRm27MsGqoj6VBdYHSPgZwrgEH99_VpwU7OMzQ=s64",
      "userId": "11648937927449049695"
     },
     "user_tz": -480
    },
    "id": "BQovQr-WaH-z",
    "papermill": {
     "duration": 0.109454,
     "end_time": "2021-06-30T14:55:09.078179",
     "exception": false,
     "start_time": "2021-06-30T14:55:08.968725",
     "status": "completed"
    },
    "tags": []
   },
   "outputs": [],
   "source": [
    "from sklearn.model_selection import cross_val_score"
   ]
  },
  {
   "cell_type": "code",
   "execution_count": 40,
   "id": "solved-damage",
   "metadata": {
    "execution": {
     "iopub.execute_input": "2021-06-30T14:55:09.287010Z",
     "iopub.status.busy": "2021-06-30T14:55:09.286264Z",
     "iopub.status.idle": "2021-06-30T14:56:58.945993Z",
     "shell.execute_reply": "2021-06-30T14:56:58.946526Z",
     "shell.execute_reply.started": "2021-06-28T00:48:27.685653Z"
    },
    "executionInfo": {
     "elapsed": 103253,
     "status": "ok",
     "timestamp": 1624839411856,
     "user": {
      "displayName": "Dave Ng",
      "photoUrl": "https://lh3.googleusercontent.com/a-/AOh14GgonRm27MsGqoj6VBdYHSPgZwrgEH99_VpwU7OMzQ=s64",
      "userId": "11648937927449049695"
     },
     "user_tz": -480
    },
    "id": "-zBPLvjWbKlU",
    "outputId": "dde19d3a-d0ac-4f0c-a3ed-66747dbbe3c6",
    "papermill": {
     "duration": 109.765329,
     "end_time": "2021-06-30T14:56:58.946728",
     "exception": false,
     "start_time": "2021-06-30T14:55:09.181399",
     "status": "completed"
    },
    "tags": []
   },
   "outputs": [
    {
     "data": {
      "text/plain": [
       "array([1.        , 1.        , 1.        , 0.99984749, 0.99763611])"
      ]
     },
     "execution_count": 40,
     "metadata": {},
     "output_type": "execute_result"
    }
   ],
   "source": [
    "cv_acc = cross_val_score(model,X,y,cv=5,\n",
    "                         scoring='accuracy')\n",
    "cv_acc"
   ]
  },
  {
   "cell_type": "code",
   "execution_count": 41,
   "id": "false-export",
   "metadata": {
    "execution": {
     "iopub.execute_input": "2021-06-30T14:56:59.152609Z",
     "iopub.status.busy": "2021-06-30T14:56:59.151869Z",
     "iopub.status.idle": "2021-06-30T14:56:59.155255Z",
     "shell.execute_reply": "2021-06-30T14:56:59.154636Z",
     "shell.execute_reply.started": "2021-06-28T00:50:03.22882Z"
    },
    "executionInfo": {
     "elapsed": 12,
     "status": "ok",
     "timestamp": 1624839411858,
     "user": {
      "displayName": "Dave Ng",
      "photoUrl": "https://lh3.googleusercontent.com/a-/AOh14GgonRm27MsGqoj6VBdYHSPgZwrgEH99_VpwU7OMzQ=s64",
      "userId": "11648937927449049695"
     },
     "user_tz": -480
    },
    "id": "f24e565d",
    "papermill": {
     "duration": 0.108712,
     "end_time": "2021-06-30T14:56:59.155437",
     "exception": false,
     "start_time": "2021-06-30T14:56:59.046725",
     "status": "completed"
    },
    "tags": []
   },
   "outputs": [],
   "source": [
    "cv_acc = cv_acc.mean()"
   ]
  },
  {
   "cell_type": "code",
   "execution_count": 42,
   "id": "complimentary-reward",
   "metadata": {
    "execution": {
     "iopub.execute_input": "2021-06-30T14:56:59.360329Z",
     "iopub.status.busy": "2021-06-30T14:56:59.359696Z",
     "iopub.status.idle": "2021-06-30T14:58:50.383494Z",
     "shell.execute_reply": "2021-06-30T14:58:50.384011Z",
     "shell.execute_reply.started": "2021-06-28T00:50:03.234979Z"
    },
    "executionInfo": {
     "elapsed": 103017,
     "status": "ok",
     "timestamp": 1624839514868,
     "user": {
      "displayName": "Dave Ng",
      "photoUrl": "https://lh3.googleusercontent.com/a-/AOh14GgonRm27MsGqoj6VBdYHSPgZwrgEH99_VpwU7OMzQ=s64",
      "userId": "11648937927449049695"
     },
     "user_tz": -480
    },
    "id": "c106189f",
    "outputId": "e042d385-0db9-4752-ddbc-4cb9e1814d64",
    "papermill": {
     "duration": 111.128546,
     "end_time": "2021-06-30T14:58:50.384205",
     "exception": false,
     "start_time": "2021-06-30T14:56:59.255659",
     "status": "completed"
    },
    "tags": []
   },
   "outputs": [
    {
     "data": {
      "text/plain": [
       "array([1.        , 1.        , 1.        , 1.        , 0.36734694])"
      ]
     },
     "execution_count": 42,
     "metadata": {},
     "output_type": "execute_result"
    }
   ],
   "source": [
    "cv_precision = cross_val_score(model,X,y,cv=5,\n",
    "                         scoring='precision')\n",
    "cv_precision"
   ]
  },
  {
   "cell_type": "code",
   "execution_count": 43,
   "id": "interpreted-namibia",
   "metadata": {
    "execution": {
     "iopub.execute_input": "2021-06-30T14:58:50.590077Z",
     "iopub.status.busy": "2021-06-30T14:58:50.589410Z",
     "iopub.status.idle": "2021-06-30T14:58:50.594178Z",
     "shell.execute_reply": "2021-06-30T14:58:50.593620Z",
     "shell.execute_reply.started": "2021-06-28T00:51:38.740531Z"
    },
    "executionInfo": {
     "elapsed": 12,
     "status": "ok",
     "timestamp": 1624839514870,
     "user": {
      "displayName": "Dave Ng",
      "photoUrl": "https://lh3.googleusercontent.com/a-/AOh14GgonRm27MsGqoj6VBdYHSPgZwrgEH99_VpwU7OMzQ=s64",
      "userId": "11648937927449049695"
     },
     "user_tz": -480
    },
    "id": "3681a068",
    "outputId": "558b0b0a-3d60-4b5f-e7e9-f69ca3aeaf43",
    "papermill": {
     "duration": 0.111078,
     "end_time": "2021-06-30T14:58:50.594345",
     "exception": false,
     "start_time": "2021-06-30T14:58:50.483267",
     "status": "completed"
    },
    "tags": []
   },
   "outputs": [
    {
     "data": {
      "text/plain": [
       "0.8734693877551021"
      ]
     },
     "execution_count": 43,
     "metadata": {},
     "output_type": "execute_result"
    }
   ],
   "source": [
    "cv_precision.mean()"
   ]
  },
  {
   "cell_type": "code",
   "execution_count": 44,
   "id": "minimal-tennis",
   "metadata": {
    "execution": {
     "iopub.execute_input": "2021-06-30T14:58:50.802320Z",
     "iopub.status.busy": "2021-06-30T14:58:50.801416Z",
     "iopub.status.idle": "2021-06-30T15:00:41.177604Z",
     "shell.execute_reply": "2021-06-30T15:00:41.178102Z",
     "shell.execute_reply.started": "2021-06-28T00:51:38.747649Z"
    },
    "executionInfo": {
     "elapsed": 102572,
     "status": "ok",
     "timestamp": 1624839617434,
     "user": {
      "displayName": "Dave Ng",
      "photoUrl": "https://lh3.googleusercontent.com/a-/AOh14GgonRm27MsGqoj6VBdYHSPgZwrgEH99_VpwU7OMzQ=s64",
      "userId": "11648937927449049695"
     },
     "user_tz": -480
    },
    "id": "cfa894be",
    "outputId": "bb2e7869-a6e0-47e8-f928-ba8323c15ecb",
    "papermill": {
     "duration": 110.483247,
     "end_time": "2021-06-30T15:00:41.178288",
     "exception": false,
     "start_time": "2021-06-30T14:58:50.695041",
     "status": "completed"
    },
    "tags": []
   },
   "outputs": [
    {
     "data": {
      "text/plain": [
       "array([1.        , 1.        , 1.        , 0.88888889, 1.        ])"
      ]
     },
     "execution_count": 44,
     "metadata": {},
     "output_type": "execute_result"
    }
   ],
   "source": [
    "cv_recall = cross_val_score(model,X,y,cv=5,\n",
    "                         scoring='recall')\n",
    "cv_recall"
   ]
  },
  {
   "cell_type": "code",
   "execution_count": 45,
   "id": "acceptable-distance",
   "metadata": {
    "execution": {
     "iopub.execute_input": "2021-06-30T15:00:41.387924Z",
     "iopub.status.busy": "2021-06-30T15:00:41.387211Z",
     "iopub.status.idle": "2021-06-30T15:00:41.391010Z",
     "shell.execute_reply": "2021-06-30T15:00:41.391618Z",
     "shell.execute_reply.started": "2021-06-28T00:53:14.210604Z"
    },
    "executionInfo": {
     "elapsed": 13,
     "status": "ok",
     "timestamp": 1624839617435,
     "user": {
      "displayName": "Dave Ng",
      "photoUrl": "https://lh3.googleusercontent.com/a-/AOh14GgonRm27MsGqoj6VBdYHSPgZwrgEH99_VpwU7OMzQ=s64",
      "userId": "11648937927449049695"
     },
     "user_tz": -480
    },
    "id": "8df8bea5",
    "outputId": "6d8e3b02-54da-4cfc-a364-b1acde017253",
    "papermill": {
     "duration": 0.112346,
     "end_time": "2021-06-30T15:00:41.391786",
     "exception": false,
     "start_time": "2021-06-30T15:00:41.279440",
     "status": "completed"
    },
    "tags": []
   },
   "outputs": [
    {
     "data": {
      "text/plain": [
       "0.9777777777777779"
      ]
     },
     "execution_count": 45,
     "metadata": {},
     "output_type": "execute_result"
    }
   ],
   "source": [
    "cv_recall.mean()"
   ]
  },
  {
   "cell_type": "code",
   "execution_count": 46,
   "id": "korean-crazy",
   "metadata": {
    "execution": {
     "iopub.execute_input": "2021-06-30T15:00:41.598047Z",
     "iopub.status.busy": "2021-06-30T15:00:41.597431Z",
     "iopub.status.idle": "2021-06-30T15:02:30.242873Z",
     "shell.execute_reply": "2021-06-30T15:02:30.243408Z",
     "shell.execute_reply.started": "2021-06-28T00:53:14.219077Z"
    },
    "executionInfo": {
     "elapsed": 102744,
     "status": "ok",
     "timestamp": 1624839720172,
     "user": {
      "displayName": "Dave Ng",
      "photoUrl": "https://lh3.googleusercontent.com/a-/AOh14GgonRm27MsGqoj6VBdYHSPgZwrgEH99_VpwU7OMzQ=s64",
      "userId": "11648937927449049695"
     },
     "user_tz": -480
    },
    "id": "5b09ae3a",
    "outputId": "16ac1043-9c4f-4f29-faf9-9801028603b0",
    "papermill": {
     "duration": 108.7491,
     "end_time": "2021-06-30T15:02:30.243624",
     "exception": false,
     "start_time": "2021-06-30T15:00:41.494524",
     "status": "completed"
    },
    "tags": []
   },
   "outputs": [
    {
     "data": {
      "text/plain": [
       "array([1.        , 1.        , 1.        , 0.94117647, 0.53731343])"
      ]
     },
     "execution_count": 46,
     "metadata": {},
     "output_type": "execute_result"
    }
   ],
   "source": [
    "cv_f1 = cross_val_score(model,X,y,cv=5,\n",
    "                         scoring='f1')\n",
    "cv_f1"
   ]
  },
  {
   "cell_type": "code",
   "execution_count": 47,
   "id": "noble-recording",
   "metadata": {
    "execution": {
     "iopub.execute_input": "2021-06-30T15:02:30.453677Z",
     "iopub.status.busy": "2021-06-30T15:02:30.452892Z",
     "iopub.status.idle": "2021-06-30T15:02:30.457924Z",
     "shell.execute_reply": "2021-06-30T15:02:30.457345Z",
     "shell.execute_reply.started": "2021-06-28T00:54:49.761312Z"
    },
    "executionInfo": {
     "elapsed": 27,
     "status": "ok",
     "timestamp": 1624839720173,
     "user": {
      "displayName": "Dave Ng",
      "photoUrl": "https://lh3.googleusercontent.com/a-/AOh14GgonRm27MsGqoj6VBdYHSPgZwrgEH99_VpwU7OMzQ=s64",
      "userId": "11648937927449049695"
     },
     "user_tz": -480
    },
    "id": "272538b5",
    "outputId": "75f47ad1-c111-48c3-d3ab-0cf7a6c2862e",
    "papermill": {
     "duration": 0.112602,
     "end_time": "2021-06-30T15:02:30.458081",
     "exception": false,
     "start_time": "2021-06-30T15:02:30.345479",
     "status": "completed"
    },
    "tags": []
   },
   "outputs": [
    {
     "data": {
      "text/plain": [
       "0.8956979806848112"
      ]
     },
     "execution_count": 47,
     "metadata": {},
     "output_type": "execute_result"
    }
   ],
   "source": [
    "cv_f1.mean()"
   ]
  },
  {
   "cell_type": "code",
   "execution_count": 48,
   "id": "limiting-elephant",
   "metadata": {
    "execution": {
     "iopub.execute_input": "2021-06-30T15:02:30.697319Z",
     "iopub.status.busy": "2021-06-30T15:02:30.695146Z",
     "iopub.status.idle": "2021-06-30T15:02:30.812163Z",
     "shell.execute_reply": "2021-06-30T15:02:30.811574Z",
     "shell.execute_reply.started": "2021-06-28T00:54:49.768071Z"
    },
    "executionInfo": {
     "elapsed": 24,
     "status": "ok",
     "timestamp": 1624839720174,
     "user": {
      "displayName": "Dave Ng",
      "photoUrl": "https://lh3.googleusercontent.com/a-/AOh14GgonRm27MsGqoj6VBdYHSPgZwrgEH99_VpwU7OMzQ=s64",
      "userId": "11648937927449049695"
     },
     "user_tz": -480
    },
    "id": "548697c6",
    "outputId": "2ed7f477-1e8f-43ad-af72-830ede6203c2",
    "papermill": {
     "duration": 0.248104,
     "end_time": "2021-06-30T15:02:30.812308",
     "exception": false,
     "start_time": "2021-06-30T15:02:30.564204",
     "status": "completed"
    },
    "tags": []
   },
   "outputs": [
    {
     "data": {
      "text/plain": [
       "Text(0.5, 1.0, 'CV scores')"
      ]
     },
     "execution_count": 48,
     "metadata": {},
     "output_type": "execute_result"
    },
    {
     "data": {
      "image/png": "[encoded data removed]",
      "text/plain": [
       "<Figure size 432x288 with 1 Axes>"
      ]
     },
     "metadata": {
      "needs_background": "light"
     },
     "output_type": "display_data"
    }
   ],
   "source": [
    "cv_merics = pd.DataFrame({'Accuracy': cv_acc.mean(),\n",
    "                         'Precision': cv_precision.mean(),\n",
    "                         'Recall': cv_recall.mean(),\n",
    "                         'f1': cv_recall.mean()},index=[0])\n",
    "sns.barplot(data=cv_merics)\n",
    "plt.title('CV scores')"
   ]
  },
  {
   "cell_type": "code",
   "execution_count": 49,
   "id": "metallic-hotel",
   "metadata": {
    "execution": {
     "iopub.execute_input": "2021-06-30T15:02:31.028408Z",
     "iopub.status.busy": "2021-06-30T15:02:31.027668Z",
     "iopub.status.idle": "2021-06-30T15:02:31.034774Z",
     "shell.execute_reply": "2021-06-30T15:02:31.034215Z",
     "shell.execute_reply.started": "2021-06-28T00:54:49.904512Z"
    },
    "executionInfo": {
     "elapsed": 19,
     "status": "ok",
     "timestamp": 1624839720176,
     "user": {
      "displayName": "Dave Ng",
      "photoUrl": "https://lh3.googleusercontent.com/a-/AOh14GgonRm27MsGqoj6VBdYHSPgZwrgEH99_VpwU7OMzQ=s64",
      "userId": "11648937927449049695"
     },
     "user_tz": -480
    },
    "id": "d7e7cb0f",
    "outputId": "62943a1b-4f1f-4c4d-d670-40bcabf45981",
    "papermill": {
     "duration": 0.118784,
     "end_time": "2021-06-30T15:02:31.034935",
     "exception": false,
     "start_time": "2021-06-30T15:02:30.916151",
     "status": "completed"
    },
    "tags": []
   },
   "outputs": [
    {
     "data": {
      "text/html": [
       "<div>\n",
       "<style scoped>\n",
       "    .dataframe tbody tr th:only-of-type {\n",
       "        vertical-align: middle;\n",
       "    }\n",
       "\n",
       "    .dataframe tbody tr th {\n",
       "        vertical-align: top;\n",
       "    }\n",
       "\n",
       "    .dataframe thead th {\n",
       "        text-align: right;\n",
       "    }\n",
       "</style>\n",
       "<table border=\"1\" class=\"dataframe\">\n",
       "  <thead>\n",
       "    <tr style=\"text-align: right;\">\n",
       "      <th></th>\n",
       "      <th>Accuracy</th>\n",
       "      <th>Precision</th>\n",
       "      <th>Recall</th>\n",
       "      <th>f1</th>\n",
       "    </tr>\n",
       "  </thead>\n",
       "  <tbody>\n",
       "    <tr>\n",
       "      <th>0</th>\n",
       "      <td>0.999497</td>\n",
       "      <td>0.873469</td>\n",
       "      <td>0.977778</td>\n",
       "      <td>0.977778</td>\n",
       "    </tr>\n",
       "  </tbody>\n",
       "</table>\n",
       "</div>"
      ],
      "text/plain": [
       "   Accuracy  Precision    Recall        f1\n",
       "0  0.999497   0.873469  0.977778  0.977778"
      ]
     },
     "execution_count": 49,
     "metadata": {},
     "output_type": "execute_result"
    }
   ],
   "source": [
    "cv_merics"
   ]
  },
  {
   "cell_type": "markdown",
   "id": "optical-radius",
   "metadata": {
    "id": "iDQnlBIEhIuq",
    "papermill": {
     "duration": 0.107119,
     "end_time": "2021-06-30T15:02:31.257570",
     "exception": false,
     "start_time": "2021-06-30T15:02:31.150451",
     "status": "completed"
    },
    "tags": []
   },
   "source": [
    "### Feature Importances"
   ]
  },
  {
   "cell_type": "code",
   "execution_count": 50,
   "id": "hired-drawing",
   "metadata": {
    "execution": {
     "iopub.execute_input": "2021-06-30T15:02:31.480073Z",
     "iopub.status.busy": "2021-06-30T15:02:31.479305Z",
     "iopub.status.idle": "2021-06-30T15:02:31.482309Z",
     "shell.execute_reply": "2021-06-30T15:02:31.481814Z",
     "shell.execute_reply.started": "2021-06-28T00:54:49.915525Z"
    },
    "executionInfo": {
     "elapsed": 3,
     "status": "ok",
     "timestamp": 1624839721618,
     "user": {
      "displayName": "Dave Ng",
      "photoUrl": "https://lh3.googleusercontent.com/a-/AOh14GgonRm27MsGqoj6VBdYHSPgZwrgEH99_VpwU7OMzQ=s64",
      "userId": "11648937927449049695"
     },
     "user_tz": -480
    },
    "id": "gj_185d3cVfk",
    "papermill": {
     "duration": 0.118201,
     "end_time": "2021-06-30T15:02:31.482483",
     "exception": false,
     "start_time": "2021-06-30T15:02:31.364282",
     "status": "completed"
    },
    "tags": []
   },
   "outputs": [],
   "source": [
    "feat_importances = pd.DataFrame(model.feature_importances_, index=X.columns)"
   ]
  },
  {
   "cell_type": "code",
   "execution_count": 51,
   "id": "consecutive-antibody",
   "metadata": {
    "execution": {
     "iopub.execute_input": "2021-06-30T15:02:31.719729Z",
     "iopub.status.busy": "2021-06-30T15:02:31.717652Z",
     "iopub.status.idle": "2021-06-30T15:02:32.402133Z",
     "shell.execute_reply": "2021-06-30T15:02:32.401592Z",
     "shell.execute_reply.started": "2021-06-28T00:54:49.931552Z"
    },
    "executionInfo": {
     "elapsed": 1240,
     "status": "ok",
     "timestamp": 1624839723150,
     "user": {
      "displayName": "Dave Ng",
      "photoUrl": "https://lh3.googleusercontent.com/a-/AOh14GgonRm27MsGqoj6VBdYHSPgZwrgEH99_VpwU7OMzQ=s64",
      "userId": "11648937927449049695"
     },
     "user_tz": -480
    },
    "id": "j6QhW-hC9yxa",
    "outputId": "6a6bc13f-0322-42c8-a002-c1af341884e6",
    "papermill": {
     "duration": 0.814386,
     "end_time": "2021-06-30T15:02:32.402292",
     "exception": false,
     "start_time": "2021-06-30T15:02:31.587906",
     "status": "completed"
    },
    "tags": []
   },
   "outputs": [
    {
     "data": {
      "image/png": "[encoded data removed]",
      "text/plain": [
       "<Figure size 1440x720 with 1 Axes>"
      ]
     },
     "metadata": {
      "needs_background": "light"
     },
     "output_type": "display_data"
    }
   ],
   "source": [
    "plt.figure(figsize=(20,10))\n",
    "plt.xticks(rotation=90)\n",
    "plt.title('Feature Importances')\n",
    "sns.barplot(data= feat_importances.sort_values(0).T);"
   ]
  },
  {
   "cell_type": "markdown",
   "id": "elect-subsection",
   "metadata": {
    "id": "u9iicPE3Aic6",
    "papermill": {
     "duration": 0.107749,
     "end_time": "2021-06-30T15:02:32.618720",
     "exception": false,
     "start_time": "2021-06-30T15:02:32.510971",
     "status": "completed"
    },
    "tags": []
   },
   "source": [
    "## XGBClassifier"
   ]
  },
  {
   "cell_type": "code",
   "execution_count": 52,
   "id": "aggregate-object",
   "metadata": {
    "execution": {
     "iopub.execute_input": "2021-06-30T15:02:32.848189Z",
     "iopub.status.busy": "2021-06-30T15:02:32.847122Z",
     "iopub.status.idle": "2021-06-30T15:02:38.403913Z",
     "shell.execute_reply": "2021-06-30T15:02:38.404612Z",
     "shell.execute_reply.started": "2021-06-28T00:54:50.751798Z"
    },
    "executionInfo": {
     "elapsed": 15315,
     "status": "ok",
     "timestamp": 1624840008858,
     "user": {
      "displayName": "Dave Ng",
      "photoUrl": "https://lh3.googleusercontent.com/a-/AOh14GgonRm27MsGqoj6VBdYHSPgZwrgEH99_VpwU7OMzQ=s64",
      "userId": "11648937927449049695"
     },
     "user_tz": -480
    },
    "id": "10hZXCRbAn4Q",
    "papermill": {
     "duration": 5.674527,
     "end_time": "2021-06-30T15:02:38.404823",
     "exception": false,
     "start_time": "2021-06-30T15:02:32.730296",
     "status": "completed"
    },
    "tags": []
   },
   "outputs": [
    {
     "name": "stderr",
     "output_type": "stream",
     "text": [
      "/opt/conda/lib/python3.7/site-packages/xgboost/sklearn.py:1146: UserWarning: The use of label encoder in XGBClassifier is deprecated and will be removed in a future release. To remove this warning, do the following: 1) Pass option use_label_encoder=False when constructing XGBClassifier object; and 2) Encode your labels (y) as integers starting with 0, i.e. 0, 1, 2, ..., [num_class - 1].\n",
      "  warnings.warn(label_encoder_deprecation_msg, UserWarning)\n"
     ]
    },
    {
     "name": "stdout",
     "output_type": "stream",
     "text": [
      "[15:02:33] WARNING: ../src/learner.cc:1095: Starting in XGBoost 1.3.0, the default evaluation metric used with the objective 'binary:logistic' was changed from 'error' to 'logloss'. Explicitly set eval_metric if you'd like to restore the old behavior.\n"
     ]
    },
    {
     "name": "stderr",
     "output_type": "stream",
     "text": [
      "/opt/conda/lib/python3.7/site-packages/xgboost/data.py:114: UserWarning: Use subset (sliced data) of np.ndarray is not recommended because it will generate extra copies and increase memory consumption\n",
      "  \"because it will generate extra copies and increase \" +\n"
     ]
    }
   ],
   "source": [
    "model = XGBClassifier()\n",
    "model.fit(X_train,y_train)\n",
    "y_preds = model.predict(X_test)"
   ]
  },
  {
   "cell_type": "code",
   "execution_count": 53,
   "id": "cloudy-cabin",
   "metadata": {
    "execution": {
     "iopub.execute_input": "2021-06-30T15:02:38.620816Z",
     "iopub.status.busy": "2021-06-30T15:02:38.620082Z",
     "iopub.status.idle": "2021-06-30T15:02:38.623684Z",
     "shell.execute_reply": "2021-06-30T15:02:38.623044Z",
     "shell.execute_reply.started": "2021-06-28T00:54:56.167633Z"
    },
    "executionInfo": {
     "elapsed": 13,
     "status": "ok",
     "timestamp": 1624840008862,
     "user": {
      "displayName": "Dave Ng",
      "photoUrl": "https://lh3.googleusercontent.com/a-/AOh14GgonRm27MsGqoj6VBdYHSPgZwrgEH99_VpwU7OMzQ=s64",
      "userId": "11648937927449049695"
     },
     "user_tz": -480
    },
    "id": "Y57HvcvWAn4S",
    "papermill": {
     "duration": 0.113244,
     "end_time": "2021-06-30T15:02:38.623824",
     "exception": false,
     "start_time": "2021-06-30T15:02:38.510580",
     "status": "completed"
    },
    "tags": []
   },
   "outputs": [],
   "source": [
    "from sklearn.metrics import classification_report, plot_confusion_matrix, plot_roc_curve "
   ]
  },
  {
   "cell_type": "code",
   "execution_count": 54,
   "id": "cathedral-deputy",
   "metadata": {
    "execution": {
     "iopub.execute_input": "2021-06-30T15:02:38.841239Z",
     "iopub.status.busy": "2021-06-30T15:02:38.840559Z",
     "iopub.status.idle": "2021-06-30T15:02:38.903548Z",
     "shell.execute_reply": "2021-06-30T15:02:38.902968Z",
     "shell.execute_reply.started": "2021-06-28T00:54:56.178353Z"
    },
    "executionInfo": {
     "elapsed": 12,
     "status": "ok",
     "timestamp": 1624840008863,
     "user": {
      "displayName": "Dave Ng",
      "photoUrl": "https://lh3.googleusercontent.com/a-/AOh14GgonRm27MsGqoj6VBdYHSPgZwrgEH99_VpwU7OMzQ=s64",
      "userId": "11648937927449049695"
     },
     "user_tz": -480
    },
    "id": "R6xSBADqAn4S",
    "outputId": "951413aa-e5e6-4c6b-de23-7d1265995291",
    "papermill": {
     "duration": 0.173921,
     "end_time": "2021-06-30T15:02:38.903722",
     "exception": false,
     "start_time": "2021-06-30T15:02:38.729801",
     "status": "completed"
    },
    "tags": []
   },
   "outputs": [
    {
     "name": "stdout",
     "output_type": "stream",
     "text": [
      "              precision    recall  f1-score   support\n",
      "\n",
      "           0       1.00      1.00      1.00     39285\n",
      "           1       1.00      1.00      1.00        58\n",
      "\n",
      "    accuracy                           1.00     39343\n",
      "   macro avg       1.00      1.00      1.00     39343\n",
      "weighted avg       1.00      1.00      1.00     39343\n",
      "\n"
     ]
    }
   ],
   "source": [
    "print(classification_report(y_test,y_preds))"
   ]
  },
  {
   "cell_type": "markdown",
   "id": "opponent-history",
   "metadata": {
    "id": "gny2NKzKAn4T",
    "papermill": {
     "duration": 0.106753,
     "end_time": "2021-06-30T15:02:39.117851",
     "exception": false,
     "start_time": "2021-06-30T15:02:39.011098",
     "status": "completed"
    },
    "tags": []
   },
   "source": [
    "### Confusion Matrix"
   ]
  },
  {
   "cell_type": "code",
   "execution_count": 55,
   "id": "demographic-adjustment",
   "metadata": {
    "execution": {
     "iopub.execute_input": "2021-06-30T15:02:39.335263Z",
     "iopub.status.busy": "2021-06-30T15:02:39.334578Z",
     "iopub.status.idle": "2021-06-30T15:02:39.614875Z",
     "shell.execute_reply": "2021-06-30T15:02:39.614319Z",
     "shell.execute_reply.started": "2021-06-28T00:54:56.233208Z"
    },
    "executionInfo": {
     "elapsed": 747,
     "status": "ok",
     "timestamp": 1624840009602,
     "user": {
      "displayName": "Dave Ng",
      "photoUrl": "https://lh3.googleusercontent.com/a-/AOh14GgonRm27MsGqoj6VBdYHSPgZwrgEH99_VpwU7OMzQ=s64",
      "userId": "11648937927449049695"
     },
     "user_tz": -480
    },
    "id": "7csvDDk3An4U",
    "outputId": "8283813d-39b6-4f95-cfdb-e4823ae15366",
    "papermill": {
     "duration": 0.390724,
     "end_time": "2021-06-30T15:02:39.615026",
     "exception": false,
     "start_time": "2021-06-30T15:02:39.224302",
     "status": "completed"
    },
    "tags": []
   },
   "outputs": [
    {
     "name": "stderr",
     "output_type": "stream",
     "text": [
      "/opt/conda/lib/python3.7/site-packages/xgboost/data.py:114: UserWarning: Use subset (sliced data) of np.ndarray is not recommended because it will generate extra copies and increase memory consumption\n",
      "  \"because it will generate extra copies and increase \" +\n"
     ]
    },
    {
     "data": {
      "text/plain": [
       "<sklearn.metrics._plot.confusion_matrix.ConfusionMatrixDisplay at 0x7f52b90e9050>"
      ]
     },
     "execution_count": 55,
     "metadata": {},
     "output_type": "execute_result"
    },
    {
     "data": {
      "image/png": "[encoded data removed]",
      "text/plain": [
       "<Figure size 432x288 with 2 Axes>"
      ]
     },
     "metadata": {
      "needs_background": "light"
     },
     "output_type": "display_data"
    }
   ],
   "source": [
    "plot_confusion_matrix(model, X_test, y_test)"
   ]
  },
  {
   "cell_type": "markdown",
   "id": "mature-myanmar",
   "metadata": {
    "id": "9qIb9tyzAn4V",
    "papermill": {
     "duration": 0.106249,
     "end_time": "2021-06-30T15:02:39.827770",
     "exception": false,
     "start_time": "2021-06-30T15:02:39.721521",
     "status": "completed"
    },
    "tags": []
   },
   "source": [
    "### ROC Curve"
   ]
  },
  {
   "cell_type": "code",
   "execution_count": 56,
   "id": "unable-ethnic",
   "metadata": {
    "execution": {
     "iopub.execute_input": "2021-06-30T15:02:40.048436Z",
     "iopub.status.busy": "2021-06-30T15:02:40.047733Z",
     "iopub.status.idle": "2021-06-30T15:02:40.245596Z",
     "shell.execute_reply": "2021-06-30T15:02:40.244953Z",
     "shell.execute_reply.started": "2021-06-28T00:54:56.492475Z"
    },
    "executionInfo": {
     "elapsed": 12,
     "status": "ok",
     "timestamp": 1624840009602,
     "user": {
      "displayName": "Dave Ng",
      "photoUrl": "https://lh3.googleusercontent.com/a-/AOh14GgonRm27MsGqoj6VBdYHSPgZwrgEH99_VpwU7OMzQ=s64",
      "userId": "11648937927449049695"
     },
     "user_tz": -480
    },
    "id": "LcMFKr2xAn4W",
    "outputId": "be9ac4f5-cee9-4f36-85ca-a055cecc6b56",
    "papermill": {
     "duration": 0.309453,
     "end_time": "2021-06-30T15:02:40.245730",
     "exception": false,
     "start_time": "2021-06-30T15:02:39.936277",
     "status": "completed"
    },
    "tags": []
   },
   "outputs": [
    {
     "name": "stderr",
     "output_type": "stream",
     "text": [
      "/opt/conda/lib/python3.7/site-packages/xgboost/data.py:114: UserWarning: Use subset (sliced data) of np.ndarray is not recommended because it will generate extra copies and increase memory consumption\n",
      "  \"because it will generate extra copies and increase \" +\n"
     ]
    },
    {
     "data": {
      "text/plain": [
       "<sklearn.metrics._plot.roc_curve.RocCurveDisplay at 0x7f52b8f446d0>"
      ]
     },
     "execution_count": 56,
     "metadata": {},
     "output_type": "execute_result"
    },
    {
     "data": {
      "image/png": "[encoded data removed]",
      "text/plain": [
       "<Figure size 432x288 with 1 Axes>"
      ]
     },
     "metadata": {
      "needs_background": "light"
     },
     "output_type": "display_data"
    }
   ],
   "source": [
    "plot_roc_curve(model, X_test, y_test)"
   ]
  },
  {
   "cell_type": "markdown",
   "id": "direct-flashing",
   "metadata": {
    "id": "neeM5QSpAn4X",
    "papermill": {
     "duration": 0.107217,
     "end_time": "2021-06-30T15:02:40.460971",
     "exception": false,
     "start_time": "2021-06-30T15:02:40.353754",
     "status": "completed"
    },
    "tags": []
   },
   "source": [
    "### Calculate evalution metrices using cross-validation"
   ]
  },
  {
   "cell_type": "code",
   "execution_count": 57,
   "id": "danish-account",
   "metadata": {
    "execution": {
     "iopub.execute_input": "2021-06-30T15:02:40.686099Z",
     "iopub.status.busy": "2021-06-30T15:02:40.685417Z",
     "iopub.status.idle": "2021-06-30T15:02:40.687738Z",
     "shell.execute_reply": "2021-06-30T15:02:40.688183Z",
     "shell.execute_reply.started": "2021-06-28T00:54:56.676661Z"
    },
    "executionInfo": {
     "elapsed": 9,
     "status": "ok",
     "timestamp": 1624840009603,
     "user": {
      "displayName": "Dave Ng",
      "photoUrl": "https://lh3.googleusercontent.com/a-/AOh14GgonRm27MsGqoj6VBdYHSPgZwrgEH99_VpwU7OMzQ=s64",
      "userId": "11648937927449049695"
     },
     "user_tz": -480
    },
    "id": "0i3a_UHoAn4X",
    "papermill": {
     "duration": 0.117596,
     "end_time": "2021-06-30T15:02:40.688388",
     "exception": false,
     "start_time": "2021-06-30T15:02:40.570792",
     "status": "completed"
    },
    "tags": []
   },
   "outputs": [],
   "source": [
    "from sklearn.model_selection import cross_val_score"
   ]
  },
  {
   "cell_type": "code",
   "execution_count": 58,
   "id": "second-scene",
   "metadata": {
    "execution": {
     "iopub.execute_input": "2021-06-30T15:02:40.914290Z",
     "iopub.status.busy": "2021-06-30T15:02:40.913614Z",
     "iopub.status.idle": "2021-06-30T15:03:14.894625Z",
     "shell.execute_reply": "2021-06-30T15:03:14.893987Z",
     "shell.execute_reply.started": "2021-06-28T00:54:56.682308Z"
    },
    "executionInfo": {
     "elapsed": 88825,
     "status": "ok",
     "timestamp": 1624840098420,
     "user": {
      "displayName": "Dave Ng",
      "photoUrl": "https://lh3.googleusercontent.com/a-/AOh14GgonRm27MsGqoj6VBdYHSPgZwrgEH99_VpwU7OMzQ=s64",
      "userId": "11648937927449049695"
     },
     "user_tz": -480
    },
    "id": "lXHPYgEwAn4Y",
    "outputId": "81dc819a-2774-4e97-8be6-3eb1577311ce",
    "papermill": {
     "duration": 34.097323,
     "end_time": "2021-06-30T15:03:14.894796",
     "exception": false,
     "start_time": "2021-06-30T15:02:40.797473",
     "status": "completed"
    },
    "tags": []
   },
   "outputs": [
    {
     "name": "stderr",
     "output_type": "stream",
     "text": [
      "/opt/conda/lib/python3.7/site-packages/xgboost/sklearn.py:1146: UserWarning: The use of label encoder in XGBClassifier is deprecated and will be removed in a future release. To remove this warning, do the following: 1) Pass option use_label_encoder=False when constructing XGBClassifier object; and 2) Encode your labels (y) as integers starting with 0, i.e. 0, 1, 2, ..., [num_class - 1].\n",
      "  warnings.warn(label_encoder_deprecation_msg, UserWarning)\n"
     ]
    },
    {
     "name": "stdout",
     "output_type": "stream",
     "text": [
      "[15:02:41] WARNING: ../src/learner.cc:1095: Starting in XGBoost 1.3.0, the default evaluation metric used with the objective 'binary:logistic' was changed from 'error' to 'logloss'. Explicitly set eval_metric if you'd like to restore the old behavior.\n"
     ]
    },
    {
     "name": "stderr",
     "output_type": "stream",
     "text": [
      "/opt/conda/lib/python3.7/site-packages/xgboost/data.py:114: UserWarning: Use subset (sliced data) of np.ndarray is not recommended because it will generate extra copies and increase memory consumption\n",
      "  \"because it will generate extra copies and increase \" +\n",
      "/opt/conda/lib/python3.7/site-packages/xgboost/sklearn.py:1146: UserWarning: The use of label encoder in XGBClassifier is deprecated and will be removed in a future release. To remove this warning, do the following: 1) Pass option use_label_encoder=False when constructing XGBClassifier object; and 2) Encode your labels (y) as integers starting with 0, i.e. 0, 1, 2, ..., [num_class - 1].\n",
      "  warnings.warn(label_encoder_deprecation_msg, UserWarning)\n"
     ]
    },
    {
     "name": "stdout",
     "output_type": "stream",
     "text": [
      "[15:02:48] WARNING: ../src/learner.cc:1095: Starting in XGBoost 1.3.0, the default evaluation metric used with the objective 'binary:logistic' was changed from 'error' to 'logloss'. Explicitly set eval_metric if you'd like to restore the old behavior.\n"
     ]
    },
    {
     "name": "stderr",
     "output_type": "stream",
     "text": [
      "/opt/conda/lib/python3.7/site-packages/xgboost/data.py:114: UserWarning: Use subset (sliced data) of np.ndarray is not recommended because it will generate extra copies and increase memory consumption\n",
      "  \"because it will generate extra copies and increase \" +\n",
      "/opt/conda/lib/python3.7/site-packages/xgboost/sklearn.py:1146: UserWarning: The use of label encoder in XGBClassifier is deprecated and will be removed in a future release. To remove this warning, do the following: 1) Pass option use_label_encoder=False when constructing XGBClassifier object; and 2) Encode your labels (y) as integers starting with 0, i.e. 0, 1, 2, ..., [num_class - 1].\n",
      "  warnings.warn(label_encoder_deprecation_msg, UserWarning)\n"
     ]
    },
    {
     "name": "stdout",
     "output_type": "stream",
     "text": [
      "[15:02:56] WARNING: ../src/learner.cc:1095: Starting in XGBoost 1.3.0, the default evaluation metric used with the objective 'binary:logistic' was changed from 'error' to 'logloss'. Explicitly set eval_metric if you'd like to restore the old behavior.\n"
     ]
    },
    {
     "name": "stderr",
     "output_type": "stream",
     "text": [
      "/opt/conda/lib/python3.7/site-packages/xgboost/data.py:114: UserWarning: Use subset (sliced data) of np.ndarray is not recommended because it will generate extra copies and increase memory consumption\n",
      "  \"because it will generate extra copies and increase \" +\n",
      "/opt/conda/lib/python3.7/site-packages/xgboost/sklearn.py:1146: UserWarning: The use of label encoder in XGBClassifier is deprecated and will be removed in a future release. To remove this warning, do the following: 1) Pass option use_label_encoder=False when constructing XGBClassifier object; and 2) Encode your labels (y) as integers starting with 0, i.e. 0, 1, 2, ..., [num_class - 1].\n",
      "  warnings.warn(label_encoder_deprecation_msg, UserWarning)\n"
     ]
    },
    {
     "name": "stdout",
     "output_type": "stream",
     "text": [
      "[15:03:03] WARNING: ../src/learner.cc:1095: Starting in XGBoost 1.3.0, the default evaluation metric used with the objective 'binary:logistic' was changed from 'error' to 'logloss'. Explicitly set eval_metric if you'd like to restore the old behavior.\n"
     ]
    },
    {
     "name": "stderr",
     "output_type": "stream",
     "text": [
      "/opt/conda/lib/python3.7/site-packages/xgboost/data.py:114: UserWarning: Use subset (sliced data) of np.ndarray is not recommended because it will generate extra copies and increase memory consumption\n",
      "  \"because it will generate extra copies and increase \" +\n",
      "/opt/conda/lib/python3.7/site-packages/xgboost/sklearn.py:1146: UserWarning: The use of label encoder in XGBClassifier is deprecated and will be removed in a future release. To remove this warning, do the following: 1) Pass option use_label_encoder=False when constructing XGBClassifier object; and 2) Encode your labels (y) as integers starting with 0, i.e. 0, 1, 2, ..., [num_class - 1].\n",
      "  warnings.warn(label_encoder_deprecation_msg, UserWarning)\n"
     ]
    },
    {
     "name": "stdout",
     "output_type": "stream",
     "text": [
      "[15:03:09] WARNING: ../src/learner.cc:1095: Starting in XGBoost 1.3.0, the default evaluation metric used with the objective 'binary:logistic' was changed from 'error' to 'logloss'. Explicitly set eval_metric if you'd like to restore the old behavior.\n"
     ]
    },
    {
     "name": "stderr",
     "output_type": "stream",
     "text": [
      "/opt/conda/lib/python3.7/site-packages/xgboost/data.py:114: UserWarning: Use subset (sliced data) of np.ndarray is not recommended because it will generate extra copies and increase memory consumption\n",
      "  \"because it will generate extra copies and increase \" +\n"
     ]
    },
    {
     "data": {
      "text/plain": [
       "array([1.        , 1.        , 1.        , 0.99988562, 0.99763611])"
      ]
     },
     "execution_count": 58,
     "metadata": {},
     "output_type": "execute_result"
    }
   ],
   "source": [
    "cv_acc = cross_val_score(model,X,y,cv=5,\n",
    "                         scoring='accuracy')\n",
    "cv_acc"
   ]
  },
  {
   "cell_type": "code",
   "execution_count": 59,
   "id": "widespread-negative",
   "metadata": {
    "execution": {
     "iopub.execute_input": "2021-06-30T15:03:15.129290Z",
     "iopub.status.busy": "2021-06-30T15:03:15.128588Z",
     "iopub.status.idle": "2021-06-30T15:03:15.132235Z",
     "shell.execute_reply": "2021-06-30T15:03:15.131615Z",
     "shell.execute_reply.started": "2021-06-28T00:55:24.886155Z"
    },
    "executionInfo": {
     "elapsed": 11,
     "status": "ok",
     "timestamp": 1624840098422,
     "user": {
      "displayName": "Dave Ng",
      "photoUrl": "https://lh3.googleusercontent.com/a-/AOh14GgonRm27MsGqoj6VBdYHSPgZwrgEH99_VpwU7OMzQ=s64",
      "userId": "11648937927449049695"
     },
     "user_tz": -480
    },
    "id": "HEWJaVm0An4Y",
    "papermill": {
     "duration": 0.122166,
     "end_time": "2021-06-30T15:03:15.132403",
     "exception": false,
     "start_time": "2021-06-30T15:03:15.010237",
     "status": "completed"
    },
    "tags": []
   },
   "outputs": [],
   "source": [
    "cv_acc = cv_acc.mean()"
   ]
  },
  {
   "cell_type": "code",
   "execution_count": 60,
   "id": "homeless-value",
   "metadata": {
    "execution": {
     "iopub.execute_input": "2021-06-30T15:03:15.363031Z",
     "iopub.status.busy": "2021-06-30T15:03:15.362323Z",
     "iopub.status.idle": "2021-06-30T15:03:48.945570Z",
     "shell.execute_reply": "2021-06-30T15:03:48.945026Z",
     "shell.execute_reply.started": "2021-06-28T00:55:24.89386Z"
    },
    "executionInfo": {
     "elapsed": 89027,
     "status": "ok",
     "timestamp": 1624840187441,
     "user": {
      "displayName": "Dave Ng",
      "photoUrl": "https://lh3.googleusercontent.com/a-/AOh14GgonRm27MsGqoj6VBdYHSPgZwrgEH99_VpwU7OMzQ=s64",
      "userId": "11648937927449049695"
     },
     "user_tz": -480
    },
    "id": "XzW5iBEWAn4Y",
    "outputId": "9a35a928-652b-402b-c87a-c0d2ae165043",
    "papermill": {
     "duration": 33.701794,
     "end_time": "2021-06-30T15:03:48.945710",
     "exception": false,
     "start_time": "2021-06-30T15:03:15.243916",
     "status": "completed"
    },
    "tags": []
   },
   "outputs": [
    {
     "name": "stderr",
     "output_type": "stream",
     "text": [
      "/opt/conda/lib/python3.7/site-packages/xgboost/sklearn.py:1146: UserWarning: The use of label encoder in XGBClassifier is deprecated and will be removed in a future release. To remove this warning, do the following: 1) Pass option use_label_encoder=False when constructing XGBClassifier object; and 2) Encode your labels (y) as integers starting with 0, i.e. 0, 1, 2, ..., [num_class - 1].\n",
      "  warnings.warn(label_encoder_deprecation_msg, UserWarning)\n"
     ]
    },
    {
     "name": "stdout",
     "output_type": "stream",
     "text": [
      "[15:03:15] WARNING: ../src/learner.cc:1095: Starting in XGBoost 1.3.0, the default evaluation metric used with the objective 'binary:logistic' was changed from 'error' to 'logloss'. Explicitly set eval_metric if you'd like to restore the old behavior.\n"
     ]
    },
    {
     "name": "stderr",
     "output_type": "stream",
     "text": [
      "/opt/conda/lib/python3.7/site-packages/xgboost/data.py:114: UserWarning: Use subset (sliced data) of np.ndarray is not recommended because it will generate extra copies and increase memory consumption\n",
      "  \"because it will generate extra copies and increase \" +\n",
      "/opt/conda/lib/python3.7/site-packages/xgboost/sklearn.py:1146: UserWarning: The use of label encoder in XGBClassifier is deprecated and will be removed in a future release. To remove this warning, do the following: 1) Pass option use_label_encoder=False when constructing XGBClassifier object; and 2) Encode your labels (y) as integers starting with 0, i.e. 0, 1, 2, ..., [num_class - 1].\n",
      "  warnings.warn(label_encoder_deprecation_msg, UserWarning)\n"
     ]
    },
    {
     "name": "stdout",
     "output_type": "stream",
     "text": [
      "[15:03:22] WARNING: ../src/learner.cc:1095: Starting in XGBoost 1.3.0, the default evaluation metric used with the objective 'binary:logistic' was changed from 'error' to 'logloss'. Explicitly set eval_metric if you'd like to restore the old behavior.\n"
     ]
    },
    {
     "name": "stderr",
     "output_type": "stream",
     "text": [
      "/opt/conda/lib/python3.7/site-packages/xgboost/data.py:114: UserWarning: Use subset (sliced data) of np.ndarray is not recommended because it will generate extra copies and increase memory consumption\n",
      "  \"because it will generate extra copies and increase \" +\n",
      "/opt/conda/lib/python3.7/site-packages/xgboost/sklearn.py:1146: UserWarning: The use of label encoder in XGBClassifier is deprecated and will be removed in a future release. To remove this warning, do the following: 1) Pass option use_label_encoder=False when constructing XGBClassifier object; and 2) Encode your labels (y) as integers starting with 0, i.e. 0, 1, 2, ..., [num_class - 1].\n",
      "  warnings.warn(label_encoder_deprecation_msg, UserWarning)\n"
     ]
    },
    {
     "name": "stdout",
     "output_type": "stream",
     "text": [
      "[15:03:30] WARNING: ../src/learner.cc:1095: Starting in XGBoost 1.3.0, the default evaluation metric used with the objective 'binary:logistic' was changed from 'error' to 'logloss'. Explicitly set eval_metric if you'd like to restore the old behavior.\n"
     ]
    },
    {
     "name": "stderr",
     "output_type": "stream",
     "text": [
      "/opt/conda/lib/python3.7/site-packages/xgboost/data.py:114: UserWarning: Use subset (sliced data) of np.ndarray is not recommended because it will generate extra copies and increase memory consumption\n",
      "  \"because it will generate extra copies and increase \" +\n",
      "/opt/conda/lib/python3.7/site-packages/xgboost/sklearn.py:1146: UserWarning: The use of label encoder in XGBClassifier is deprecated and will be removed in a future release. To remove this warning, do the following: 1) Pass option use_label_encoder=False when constructing XGBClassifier object; and 2) Encode your labels (y) as integers starting with 0, i.e. 0, 1, 2, ..., [num_class - 1].\n",
      "  warnings.warn(label_encoder_deprecation_msg, UserWarning)\n"
     ]
    },
    {
     "name": "stdout",
     "output_type": "stream",
     "text": [
      "[15:03:37] WARNING: ../src/learner.cc:1095: Starting in XGBoost 1.3.0, the default evaluation metric used with the objective 'binary:logistic' was changed from 'error' to 'logloss'. Explicitly set eval_metric if you'd like to restore the old behavior.\n"
     ]
    },
    {
     "name": "stderr",
     "output_type": "stream",
     "text": [
      "/opt/conda/lib/python3.7/site-packages/xgboost/data.py:114: UserWarning: Use subset (sliced data) of np.ndarray is not recommended because it will generate extra copies and increase memory consumption\n",
      "  \"because it will generate extra copies and increase \" +\n",
      "/opt/conda/lib/python3.7/site-packages/xgboost/sklearn.py:1146: UserWarning: The use of label encoder in XGBClassifier is deprecated and will be removed in a future release. To remove this warning, do the following: 1) Pass option use_label_encoder=False when constructing XGBClassifier object; and 2) Encode your labels (y) as integers starting with 0, i.e. 0, 1, 2, ..., [num_class - 1].\n",
      "  warnings.warn(label_encoder_deprecation_msg, UserWarning)\n"
     ]
    },
    {
     "name": "stdout",
     "output_type": "stream",
     "text": [
      "[15:03:43] WARNING: ../src/learner.cc:1095: Starting in XGBoost 1.3.0, the default evaluation metric used with the objective 'binary:logistic' was changed from 'error' to 'logloss'. Explicitly set eval_metric if you'd like to restore the old behavior.\n"
     ]
    },
    {
     "name": "stderr",
     "output_type": "stream",
     "text": [
      "/opt/conda/lib/python3.7/site-packages/xgboost/data.py:114: UserWarning: Use subset (sliced data) of np.ndarray is not recommended because it will generate extra copies and increase memory consumption\n",
      "  \"because it will generate extra copies and increase \" +\n"
     ]
    },
    {
     "data": {
      "text/plain": [
       "array([1.        , 1.        , 1.        , 1.        , 0.36734694])"
      ]
     },
     "execution_count": 60,
     "metadata": {},
     "output_type": "execute_result"
    }
   ],
   "source": [
    "cv_precision = cross_val_score(model,X,y,cv=5,\n",
    "                         scoring='precision')\n",
    "cv_precision"
   ]
  },
  {
   "cell_type": "code",
   "execution_count": 61,
   "id": "antique-replacement",
   "metadata": {
    "execution": {
     "iopub.execute_input": "2021-06-30T15:03:49.213996Z",
     "iopub.status.busy": "2021-06-30T15:03:49.213314Z",
     "iopub.status.idle": "2021-06-30T15:03:49.219546Z",
     "shell.execute_reply": "2021-06-30T15:03:49.218881Z",
     "shell.execute_reply.started": "2021-06-28T00:55:53.729026Z"
    },
    "executionInfo": {
     "elapsed": 11,
     "status": "ok",
     "timestamp": 1624840187442,
     "user": {
      "displayName": "Dave Ng",
      "photoUrl": "https://lh3.googleusercontent.com/a-/AOh14GgonRm27MsGqoj6VBdYHSPgZwrgEH99_VpwU7OMzQ=s64",
      "userId": "11648937927449049695"
     },
     "user_tz": -480
    },
    "id": "tHckphMVAn4Z",
    "outputId": "d3c9daff-bf2a-44b8-9a52-695430f7b456",
    "papermill": {
     "duration": 0.156877,
     "end_time": "2021-06-30T15:03:49.219697",
     "exception": false,
     "start_time": "2021-06-30T15:03:49.062820",
     "status": "completed"
    },
    "tags": []
   },
   "outputs": [
    {
     "data": {
      "text/plain": [
       "0.8734693877551021"
      ]
     },
     "execution_count": 61,
     "metadata": {},
     "output_type": "execute_result"
    }
   ],
   "source": [
    "cv_precision.mean()"
   ]
  },
  {
   "cell_type": "code",
   "execution_count": 62,
   "id": "ethical-remove",
   "metadata": {
    "execution": {
     "iopub.execute_input": "2021-06-30T15:03:49.457323Z",
     "iopub.status.busy": "2021-06-30T15:03:49.456684Z",
     "iopub.status.idle": "2021-06-30T15:04:22.943057Z",
     "shell.execute_reply": "2021-06-30T15:04:22.942498Z",
     "shell.execute_reply.started": "2021-06-28T00:55:53.735512Z"
    },
    "executionInfo": {
     "elapsed": 89226,
     "status": "ok",
     "timestamp": 1624840276662,
     "user": {
      "displayName": "Dave Ng",
      "photoUrl": "https://lh3.googleusercontent.com/a-/AOh14GgonRm27MsGqoj6VBdYHSPgZwrgEH99_VpwU7OMzQ=s64",
      "userId": "11648937927449049695"
     },
     "user_tz": -480
    },
    "id": "wsS6kwB9An4Z",
    "outputId": "39536d08-55bb-4b6c-e64d-09caf9afccb7",
    "papermill": {
     "duration": 33.605681,
     "end_time": "2021-06-30T15:04:22.943208",
     "exception": false,
     "start_time": "2021-06-30T15:03:49.337527",
     "status": "completed"
    },
    "tags": []
   },
   "outputs": [
    {
     "name": "stderr",
     "output_type": "stream",
     "text": [
      "/opt/conda/lib/python3.7/site-packages/xgboost/sklearn.py:1146: UserWarning: The use of label encoder in XGBClassifier is deprecated and will be removed in a future release. To remove this warning, do the following: 1) Pass option use_label_encoder=False when constructing XGBClassifier object; and 2) Encode your labels (y) as integers starting with 0, i.e. 0, 1, 2, ..., [num_class - 1].\n",
      "  warnings.warn(label_encoder_deprecation_msg, UserWarning)\n"
     ]
    },
    {
     "name": "stdout",
     "output_type": "stream",
     "text": [
      "[15:03:49] WARNING: ../src/learner.cc:1095: Starting in XGBoost 1.3.0, the default evaluation metric used with the objective 'binary:logistic' was changed from 'error' to 'logloss'. Explicitly set eval_metric if you'd like to restore the old behavior.\n"
     ]
    },
    {
     "name": "stderr",
     "output_type": "stream",
     "text": [
      "/opt/conda/lib/python3.7/site-packages/xgboost/data.py:114: UserWarning: Use subset (sliced data) of np.ndarray is not recommended because it will generate extra copies and increase memory consumption\n",
      "  \"because it will generate extra copies and increase \" +\n",
      "/opt/conda/lib/python3.7/site-packages/xgboost/sklearn.py:1146: UserWarning: The use of label encoder in XGBClassifier is deprecated and will be removed in a future release. To remove this warning, do the following: 1) Pass option use_label_encoder=False when constructing XGBClassifier object; and 2) Encode your labels (y) as integers starting with 0, i.e. 0, 1, 2, ..., [num_class - 1].\n",
      "  warnings.warn(label_encoder_deprecation_msg, UserWarning)\n"
     ]
    },
    {
     "name": "stdout",
     "output_type": "stream",
     "text": [
      "[15:03:56] WARNING: ../src/learner.cc:1095: Starting in XGBoost 1.3.0, the default evaluation metric used with the objective 'binary:logistic' was changed from 'error' to 'logloss'. Explicitly set eval_metric if you'd like to restore the old behavior.\n"
     ]
    },
    {
     "name": "stderr",
     "output_type": "stream",
     "text": [
      "/opt/conda/lib/python3.7/site-packages/xgboost/data.py:114: UserWarning: Use subset (sliced data) of np.ndarray is not recommended because it will generate extra copies and increase memory consumption\n",
      "  \"because it will generate extra copies and increase \" +\n",
      "/opt/conda/lib/python3.7/site-packages/xgboost/sklearn.py:1146: UserWarning: The use of label encoder in XGBClassifier is deprecated and will be removed in a future release. To remove this warning, do the following: 1) Pass option use_label_encoder=False when constructing XGBClassifier object; and 2) Encode your labels (y) as integers starting with 0, i.e. 0, 1, 2, ..., [num_class - 1].\n",
      "  warnings.warn(label_encoder_deprecation_msg, UserWarning)\n"
     ]
    },
    {
     "name": "stdout",
     "output_type": "stream",
     "text": [
      "[15:04:04] WARNING: ../src/learner.cc:1095: Starting in XGBoost 1.3.0, the default evaluation metric used with the objective 'binary:logistic' was changed from 'error' to 'logloss'. Explicitly set eval_metric if you'd like to restore the old behavior.\n"
     ]
    },
    {
     "name": "stderr",
     "output_type": "stream",
     "text": [
      "/opt/conda/lib/python3.7/site-packages/xgboost/data.py:114: UserWarning: Use subset (sliced data) of np.ndarray is not recommended because it will generate extra copies and increase memory consumption\n",
      "  \"because it will generate extra copies and increase \" +\n",
      "/opt/conda/lib/python3.7/site-packages/xgboost/sklearn.py:1146: UserWarning: The use of label encoder in XGBClassifier is deprecated and will be removed in a future release. To remove this warning, do the following: 1) Pass option use_label_encoder=False when constructing XGBClassifier object; and 2) Encode your labels (y) as integers starting with 0, i.e. 0, 1, 2, ..., [num_class - 1].\n",
      "  warnings.warn(label_encoder_deprecation_msg, UserWarning)\n"
     ]
    },
    {
     "name": "stdout",
     "output_type": "stream",
     "text": [
      "[15:04:11] WARNING: ../src/learner.cc:1095: Starting in XGBoost 1.3.0, the default evaluation metric used with the objective 'binary:logistic' was changed from 'error' to 'logloss'. Explicitly set eval_metric if you'd like to restore the old behavior.\n"
     ]
    },
    {
     "name": "stderr",
     "output_type": "stream",
     "text": [
      "/opt/conda/lib/python3.7/site-packages/xgboost/data.py:114: UserWarning: Use subset (sliced data) of np.ndarray is not recommended because it will generate extra copies and increase memory consumption\n",
      "  \"because it will generate extra copies and increase \" +\n",
      "/opt/conda/lib/python3.7/site-packages/xgboost/sklearn.py:1146: UserWarning: The use of label encoder in XGBClassifier is deprecated and will be removed in a future release. To remove this warning, do the following: 1) Pass option use_label_encoder=False when constructing XGBClassifier object; and 2) Encode your labels (y) as integers starting with 0, i.e. 0, 1, 2, ..., [num_class - 1].\n",
      "  warnings.warn(label_encoder_deprecation_msg, UserWarning)\n"
     ]
    },
    {
     "name": "stdout",
     "output_type": "stream",
     "text": [
      "[15:04:17] WARNING: ../src/learner.cc:1095: Starting in XGBoost 1.3.0, the default evaluation metric used with the objective 'binary:logistic' was changed from 'error' to 'logloss'. Explicitly set eval_metric if you'd like to restore the old behavior.\n"
     ]
    },
    {
     "name": "stderr",
     "output_type": "stream",
     "text": [
      "/opt/conda/lib/python3.7/site-packages/xgboost/data.py:114: UserWarning: Use subset (sliced data) of np.ndarray is not recommended because it will generate extra copies and increase memory consumption\n",
      "  \"because it will generate extra copies and increase \" +\n"
     ]
    },
    {
     "data": {
      "text/plain": [
       "array([1.        , 1.        , 1.        , 0.91666667, 1.        ])"
      ]
     },
     "execution_count": 62,
     "metadata": {},
     "output_type": "execute_result"
    }
   ],
   "source": [
    "cv_recall = cross_val_score(model,X,y,cv=5,\n",
    "                         scoring='recall')\n",
    "cv_recall"
   ]
  },
  {
   "cell_type": "code",
   "execution_count": 63,
   "id": "grand-supplement",
   "metadata": {
    "execution": {
     "iopub.execute_input": "2021-06-30T15:04:23.192704Z",
     "iopub.status.busy": "2021-06-30T15:04:23.191994Z",
     "iopub.status.idle": "2021-06-30T15:04:23.196502Z",
     "shell.execute_reply": "2021-06-30T15:04:23.195821Z",
     "shell.execute_reply.started": "2021-06-28T00:56:22.501503Z"
    },
    "executionInfo": {
     "elapsed": 15,
     "status": "ok",
     "timestamp": 1624840276664,
     "user": {
      "displayName": "Dave Ng",
      "photoUrl": "https://lh3.googleusercontent.com/a-/AOh14GgonRm27MsGqoj6VBdYHSPgZwrgEH99_VpwU7OMzQ=s64",
      "userId": "11648937927449049695"
     },
     "user_tz": -480
    },
    "id": "Urmg3suLAn4a",
    "outputId": "e54d0b7a-19a9-4996-edb4-26c740987499",
    "papermill": {
     "duration": 0.132017,
     "end_time": "2021-06-30T15:04:23.196652",
     "exception": false,
     "start_time": "2021-06-30T15:04:23.064635",
     "status": "completed"
    },
    "tags": []
   },
   "outputs": [
    {
     "data": {
      "text/plain": [
       "0.9833333333333332"
      ]
     },
     "execution_count": 63,
     "metadata": {},
     "output_type": "execute_result"
    }
   ],
   "source": [
    "cv_recall.mean()"
   ]
  },
  {
   "cell_type": "code",
   "execution_count": 64,
   "id": "southern-military",
   "metadata": {
    "execution": {
     "iopub.execute_input": "2021-06-30T15:04:23.444847Z",
     "iopub.status.busy": "2021-06-30T15:04:23.444204Z",
     "iopub.status.idle": "2021-06-30T15:04:56.975865Z",
     "shell.execute_reply": "2021-06-30T15:04:56.975312Z",
     "shell.execute_reply.started": "2021-06-28T00:56:22.510885Z"
    },
    "executionInfo": {
     "elapsed": 88940,
     "status": "ok",
     "timestamp": 1624840365594,
     "user": {
      "displayName": "Dave Ng",
      "photoUrl": "https://lh3.googleusercontent.com/a-/AOh14GgonRm27MsGqoj6VBdYHSPgZwrgEH99_VpwU7OMzQ=s64",
      "userId": "11648937927449049695"
     },
     "user_tz": -480
    },
    "id": "Q0qJnqXXAn4a",
    "outputId": "68cac31d-247a-4c9a-f2c2-6b617648fc43",
    "papermill": {
     "duration": 33.658296,
     "end_time": "2021-06-30T15:04:56.976008",
     "exception": false,
     "start_time": "2021-06-30T15:04:23.317712",
     "status": "completed"
    },
    "tags": []
   },
   "outputs": [
    {
     "name": "stderr",
     "output_type": "stream",
     "text": [
      "/opt/conda/lib/python3.7/site-packages/xgboost/sklearn.py:1146: UserWarning: The use of label encoder in XGBClassifier is deprecated and will be removed in a future release. To remove this warning, do the following: 1) Pass option use_label_encoder=False when constructing XGBClassifier object; and 2) Encode your labels (y) as integers starting with 0, i.e. 0, 1, 2, ..., [num_class - 1].\n",
      "  warnings.warn(label_encoder_deprecation_msg, UserWarning)\n"
     ]
    },
    {
     "name": "stdout",
     "output_type": "stream",
     "text": [
      "[15:04:23] WARNING: ../src/learner.cc:1095: Starting in XGBoost 1.3.0, the default evaluation metric used with the objective 'binary:logistic' was changed from 'error' to 'logloss'. Explicitly set eval_metric if you'd like to restore the old behavior.\n"
     ]
    },
    {
     "name": "stderr",
     "output_type": "stream",
     "text": [
      "/opt/conda/lib/python3.7/site-packages/xgboost/data.py:114: UserWarning: Use subset (sliced data) of np.ndarray is not recommended because it will generate extra copies and increase memory consumption\n",
      "  \"because it will generate extra copies and increase \" +\n",
      "/opt/conda/lib/python3.7/site-packages/xgboost/sklearn.py:1146: UserWarning: The use of label encoder in XGBClassifier is deprecated and will be removed in a future release. To remove this warning, do the following: 1) Pass option use_label_encoder=False when constructing XGBClassifier object; and 2) Encode your labels (y) as integers starting with 0, i.e. 0, 1, 2, ..., [num_class - 1].\n",
      "  warnings.warn(label_encoder_deprecation_msg, UserWarning)\n"
     ]
    },
    {
     "name": "stdout",
     "output_type": "stream",
     "text": [
      "[15:04:30] WARNING: ../src/learner.cc:1095: Starting in XGBoost 1.3.0, the default evaluation metric used with the objective 'binary:logistic' was changed from 'error' to 'logloss'. Explicitly set eval_metric if you'd like to restore the old behavior.\n"
     ]
    },
    {
     "name": "stderr",
     "output_type": "stream",
     "text": [
      "/opt/conda/lib/python3.7/site-packages/xgboost/data.py:114: UserWarning: Use subset (sliced data) of np.ndarray is not recommended because it will generate extra copies and increase memory consumption\n",
      "  \"because it will generate extra copies and increase \" +\n",
      "/opt/conda/lib/python3.7/site-packages/xgboost/sklearn.py:1146: UserWarning: The use of label encoder in XGBClassifier is deprecated and will be removed in a future release. To remove this warning, do the following: 1) Pass option use_label_encoder=False when constructing XGBClassifier object; and 2) Encode your labels (y) as integers starting with 0, i.e. 0, 1, 2, ..., [num_class - 1].\n",
      "  warnings.warn(label_encoder_deprecation_msg, UserWarning)\n"
     ]
    },
    {
     "name": "stdout",
     "output_type": "stream",
     "text": [
      "[15:04:38] WARNING: ../src/learner.cc:1095: Starting in XGBoost 1.3.0, the default evaluation metric used with the objective 'binary:logistic' was changed from 'error' to 'logloss'. Explicitly set eval_metric if you'd like to restore the old behavior.\n"
     ]
    },
    {
     "name": "stderr",
     "output_type": "stream",
     "text": [
      "/opt/conda/lib/python3.7/site-packages/xgboost/data.py:114: UserWarning: Use subset (sliced data) of np.ndarray is not recommended because it will generate extra copies and increase memory consumption\n",
      "  \"because it will generate extra copies and increase \" +\n",
      "/opt/conda/lib/python3.7/site-packages/xgboost/sklearn.py:1146: UserWarning: The use of label encoder in XGBClassifier is deprecated and will be removed in a future release. To remove this warning, do the following: 1) Pass option use_label_encoder=False when constructing XGBClassifier object; and 2) Encode your labels (y) as integers starting with 0, i.e. 0, 1, 2, ..., [num_class - 1].\n",
      "  warnings.warn(label_encoder_deprecation_msg, UserWarning)\n"
     ]
    },
    {
     "name": "stdout",
     "output_type": "stream",
     "text": [
      "[15:04:45] WARNING: ../src/learner.cc:1095: Starting in XGBoost 1.3.0, the default evaluation metric used with the objective 'binary:logistic' was changed from 'error' to 'logloss'. Explicitly set eval_metric if you'd like to restore the old behavior.\n"
     ]
    },
    {
     "name": "stderr",
     "output_type": "stream",
     "text": [
      "/opt/conda/lib/python3.7/site-packages/xgboost/data.py:114: UserWarning: Use subset (sliced data) of np.ndarray is not recommended because it will generate extra copies and increase memory consumption\n",
      "  \"because it will generate extra copies and increase \" +\n",
      "/opt/conda/lib/python3.7/site-packages/xgboost/sklearn.py:1146: UserWarning: The use of label encoder in XGBClassifier is deprecated and will be removed in a future release. To remove this warning, do the following: 1) Pass option use_label_encoder=False when constructing XGBClassifier object; and 2) Encode your labels (y) as integers starting with 0, i.e. 0, 1, 2, ..., [num_class - 1].\n",
      "  warnings.warn(label_encoder_deprecation_msg, UserWarning)\n"
     ]
    },
    {
     "name": "stdout",
     "output_type": "stream",
     "text": [
      "[15:04:51] WARNING: ../src/learner.cc:1095: Starting in XGBoost 1.3.0, the default evaluation metric used with the objective 'binary:logistic' was changed from 'error' to 'logloss'. Explicitly set eval_metric if you'd like to restore the old behavior.\n"
     ]
    },
    {
     "name": "stderr",
     "output_type": "stream",
     "text": [
      "/opt/conda/lib/python3.7/site-packages/xgboost/data.py:114: UserWarning: Use subset (sliced data) of np.ndarray is not recommended because it will generate extra copies and increase memory consumption\n",
      "  \"because it will generate extra copies and increase \" +\n"
     ]
    },
    {
     "data": {
      "text/plain": [
       "array([1.        , 1.        , 1.        , 0.95652174, 0.53731343])"
      ]
     },
     "execution_count": 64,
     "metadata": {},
     "output_type": "execute_result"
    }
   ],
   "source": [
    "cv_f1 = cross_val_score(model,X,y,cv=5,\n",
    "                         scoring='f1')\n",
    "cv_f1"
   ]
  },
  {
   "cell_type": "code",
   "execution_count": 65,
   "id": "civic-awareness",
   "metadata": {
    "execution": {
     "iopub.execute_input": "2021-06-30T15:04:57.229520Z",
     "iopub.status.busy": "2021-06-30T15:04:57.228882Z",
     "iopub.status.idle": "2021-06-30T15:04:57.232280Z",
     "shell.execute_reply": "2021-06-30T15:04:57.232803Z",
     "shell.execute_reply.started": "2021-06-28T00:56:52.927007Z"
    },
    "executionInfo": {
     "elapsed": 27,
     "status": "ok",
     "timestamp": 1624840365596,
     "user": {
      "displayName": "Dave Ng",
      "photoUrl": "https://lh3.googleusercontent.com/a-/AOh14GgonRm27MsGqoj6VBdYHSPgZwrgEH99_VpwU7OMzQ=s64",
      "userId": "11648937927449049695"
     },
     "user_tz": -480
    },
    "id": "bYy0qzCoAn4b",
    "outputId": "44ea6a08-1d6a-40d4-9107-f84e98d1a27f",
    "papermill": {
     "duration": 0.132919,
     "end_time": "2021-06-30T15:04:57.232976",
     "exception": false,
     "start_time": "2021-06-30T15:04:57.100057",
     "status": "completed"
    },
    "tags": []
   },
   "outputs": [
    {
     "data": {
      "text/plain": [
       "0.898767034393251"
      ]
     },
     "execution_count": 65,
     "metadata": {},
     "output_type": "execute_result"
    }
   ],
   "source": [
    "cv_f1.mean()"
   ]
  },
  {
   "cell_type": "code",
   "execution_count": 66,
   "id": "distinguished-rolling",
   "metadata": {
    "execution": {
     "iopub.execute_input": "2021-06-30T15:04:57.484051Z",
     "iopub.status.busy": "2021-06-30T15:04:57.483428Z",
     "iopub.status.idle": "2021-06-30T15:04:57.616444Z",
     "shell.execute_reply": "2021-06-30T15:04:57.616970Z",
     "shell.execute_reply.started": "2021-06-28T00:56:52.935524Z"
    },
    "executionInfo": {
     "elapsed": 24,
     "status": "ok",
     "timestamp": 1624840365598,
     "user": {
      "displayName": "Dave Ng",
      "photoUrl": "https://lh3.googleusercontent.com/a-/AOh14GgonRm27MsGqoj6VBdYHSPgZwrgEH99_VpwU7OMzQ=s64",
      "userId": "11648937927449049695"
     },
     "user_tz": -480
    },
    "id": "2Cg-XfX1An4b",
    "outputId": "48422a3f-e145-49a2-dd1d-e34d450f1090",
    "papermill": {
     "duration": 0.260289,
     "end_time": "2021-06-30T15:04:57.617157",
     "exception": false,
     "start_time": "2021-06-30T15:04:57.356868",
     "status": "completed"
    },
    "tags": []
   },
   "outputs": [
    {
     "data": {
      "text/plain": [
       "Text(0.5, 1.0, 'CV scores')"
      ]
     },
     "execution_count": 66,
     "metadata": {},
     "output_type": "execute_result"
    },
    {
     "data": {
      "image/png": "[encoded data removed]",
      "text/plain": [
       "<Figure size 432x288 with 1 Axes>"
      ]
     },
     "metadata": {
      "needs_background": "light"
     },
     "output_type": "display_data"
    }
   ],
   "source": [
    "cv_merics = pd.DataFrame({'Accuracy': cv_acc.mean(),\n",
    "                         'Precision': cv_precision.mean(),\n",
    "                         'Recall': cv_recall.mean(),\n",
    "                         'f1': cv_recall.mean()},index=[0])\n",
    "sns.barplot(data=cv_merics)\n",
    "plt.title('CV scores')"
   ]
  },
  {
   "cell_type": "code",
   "execution_count": 67,
   "id": "irish-louisville",
   "metadata": {
    "execution": {
     "iopub.execute_input": "2021-06-30T15:04:57.876980Z",
     "iopub.status.busy": "2021-06-30T15:04:57.876304Z",
     "iopub.status.idle": "2021-06-30T15:04:57.888060Z",
     "shell.execute_reply": "2021-06-30T15:04:57.887459Z",
     "shell.execute_reply.started": "2021-06-28T00:56:53.072924Z"
    },
    "executionInfo": {
     "elapsed": 19,
     "status": "ok",
     "timestamp": 1624840365598,
     "user": {
      "displayName": "Dave Ng",
      "photoUrl": "https://lh3.googleusercontent.com/a-/AOh14GgonRm27MsGqoj6VBdYHSPgZwrgEH99_VpwU7OMzQ=s64",
      "userId": "11648937927449049695"
     },
     "user_tz": -480
    },
    "id": "VdG7svbiAn4b",
    "outputId": "8660d5d5-7ee4-415f-d8a6-8a4a1a148b88",
    "papermill": {
     "duration": 0.142886,
     "end_time": "2021-06-30T15:04:57.888213",
     "exception": false,
     "start_time": "2021-06-30T15:04:57.745327",
     "status": "completed"
    },
    "tags": []
   },
   "outputs": [
    {
     "data": {
      "text/html": [
       "<div>\n",
       "<style scoped>\n",
       "    .dataframe tbody tr th:only-of-type {\n",
       "        vertical-align: middle;\n",
       "    }\n",
       "\n",
       "    .dataframe tbody tr th {\n",
       "        vertical-align: top;\n",
       "    }\n",
       "\n",
       "    .dataframe thead th {\n",
       "        text-align: right;\n",
       "    }\n",
       "</style>\n",
       "<table border=\"1\" class=\"dataframe\">\n",
       "  <thead>\n",
       "    <tr style=\"text-align: right;\">\n",
       "      <th></th>\n",
       "      <th>Accuracy</th>\n",
       "      <th>Precision</th>\n",
       "      <th>Recall</th>\n",
       "      <th>f1</th>\n",
       "    </tr>\n",
       "  </thead>\n",
       "  <tbody>\n",
       "    <tr>\n",
       "      <th>0</th>\n",
       "      <td>0.999504</td>\n",
       "      <td>0.873469</td>\n",
       "      <td>0.983333</td>\n",
       "      <td>0.983333</td>\n",
       "    </tr>\n",
       "  </tbody>\n",
       "</table>\n",
       "</div>"
      ],
      "text/plain": [
       "   Accuracy  Precision    Recall        f1\n",
       "0  0.999504   0.873469  0.983333  0.983333"
      ]
     },
     "execution_count": 67,
     "metadata": {},
     "output_type": "execute_result"
    }
   ],
   "source": [
    "cv_merics"
   ]
  },
  {
   "cell_type": "markdown",
   "id": "isolated-david",
   "metadata": {
    "id": "ye0voN5uAn4d",
    "papermill": {
     "duration": 0.128401,
     "end_time": "2021-06-30T15:04:58.146015",
     "exception": false,
     "start_time": "2021-06-30T15:04:58.017614",
     "status": "completed"
    },
    "tags": []
   },
   "source": [
    "### Feature Importances"
   ]
  },
  {
   "cell_type": "code",
   "execution_count": 68,
   "id": "educated-daniel",
   "metadata": {
    "execution": {
     "iopub.execute_input": "2021-06-30T15:04:58.406674Z",
     "iopub.status.busy": "2021-06-30T15:04:58.405974Z",
     "iopub.status.idle": "2021-06-30T15:04:58.413636Z",
     "shell.execute_reply": "2021-06-30T15:04:58.414122Z",
     "shell.execute_reply.started": "2021-06-28T00:56:53.086021Z"
    },
    "executionInfo": {
     "elapsed": 10,
     "status": "ok",
     "timestamp": 1624840366419,
     "user": {
      "displayName": "Dave Ng",
      "photoUrl": "https://lh3.googleusercontent.com/a-/AOh14GgonRm27MsGqoj6VBdYHSPgZwrgEH99_VpwU7OMzQ=s64",
      "userId": "11648937927449049695"
     },
     "user_tz": -480
    },
    "id": "8GiDuc9TAn4d",
    "papermill": {
     "duration": 0.14088,
     "end_time": "2021-06-30T15:04:58.414382",
     "exception": false,
     "start_time": "2021-06-30T15:04:58.273502",
     "status": "completed"
    },
    "tags": []
   },
   "outputs": [],
   "source": [
    "feat_importances = pd.DataFrame(model.feature_importances_, index=X.columns)"
   ]
  },
  {
   "cell_type": "code",
   "execution_count": 69,
   "id": "assisted-diamond",
   "metadata": {
    "execution": {
     "iopub.execute_input": "2021-06-30T15:04:58.669765Z",
     "iopub.status.busy": "2021-06-30T15:04:58.669129Z",
     "iopub.status.idle": "2021-06-30T15:04:59.323680Z",
     "shell.execute_reply": "2021-06-30T15:04:59.323018Z",
     "shell.execute_reply.started": "2021-06-28T00:56:53.10349Z"
    },
    "executionInfo": {
     "elapsed": 1017,
     "status": "ok",
     "timestamp": 1624840367429,
     "user": {
      "displayName": "Dave Ng",
      "photoUrl": "https://lh3.googleusercontent.com/a-/AOh14GgonRm27MsGqoj6VBdYHSPgZwrgEH99_VpwU7OMzQ=s64",
      "userId": "11648937927449049695"
     },
     "user_tz": -480
    },
    "id": "ANqwcjn3An4d",
    "outputId": "2ad0b590-bf05-498f-d245-ad9340f64be9",
    "papermill": {
     "duration": 0.783052,
     "end_time": "2021-06-30T15:04:59.323825",
     "exception": false,
     "start_time": "2021-06-30T15:04:58.540773",
     "status": "completed"
    },
    "tags": []
   },
   "outputs": [
    {
     "data": {
      "image/png": "[encoded data removed]",
      "text/plain": [
       "<Figure size 1440x720 with 1 Axes>"
      ]
     },
     "metadata": {
      "needs_background": "light"
     },
     "output_type": "display_data"
    }
   ],
   "source": [
    "plt.figure(figsize=(20,10))\n",
    "plt.xticks(rotation=90)\n",
    "plt.title('Feature Importances')\n",
    "sns.barplot(data= feat_importances.sort_values(0).T);"
   ]
  },
  {
   "cell_type": "markdown",
   "id": "detected-mistake",
   "metadata": {
    "id": "dfCWfSkchnFX",
    "papermill": {
     "duration": 0.1271,
     "end_time": "2021-06-30T15:04:59.578194",
     "exception": false,
     "start_time": "2021-06-30T15:04:59.451094",
     "status": "completed"
    },
    "tags": []
   },
   "source": [
    "# Saving the model"
   ]
  },
  {
   "cell_type": "code",
   "execution_count": 70,
   "id": "favorite-juice",
   "metadata": {
    "execution": {
     "iopub.execute_input": "2021-06-30T15:04:59.840755Z",
     "iopub.status.busy": "2021-06-30T15:04:59.839763Z",
     "iopub.status.idle": "2021-06-30T15:04:59.842906Z",
     "shell.execute_reply": "2021-06-30T15:04:59.842412Z",
     "shell.execute_reply.started": "2021-06-28T00:56:53.736166Z"
    },
    "executionInfo": {
     "elapsed": 20,
     "status": "ok",
     "timestamp": 1624816280275,
     "user": {
      "displayName": "Dave Ng",
      "photoUrl": "https://lh3.googleusercontent.com/a-/AOh14GgonRm27MsGqoj6VBdYHSPgZwrgEH99_VpwU7OMzQ=s64",
      "userId": "11648937927449049695"
     },
     "user_tz": -480
    },
    "id": "IlFMo0ZAhn5F",
    "papermill": {
     "duration": 0.13774,
     "end_time": "2021-06-30T15:04:59.843056",
     "exception": false,
     "start_time": "2021-06-30T15:04:59.705316",
     "status": "completed"
    },
    "tags": []
   },
   "outputs": [],
   "source": [
    "# import joblib"
   ]
  },
  {
   "cell_type": "code",
   "execution_count": 71,
   "id": "authorized-startup",
   "metadata": {
    "execution": {
     "iopub.execute_input": "2021-06-30T15:05:00.102319Z",
     "iopub.status.busy": "2021-06-30T15:05:00.101689Z",
     "iopub.status.idle": "2021-06-30T15:05:00.104063Z",
     "shell.execute_reply": "2021-06-30T15:05:00.104527Z",
     "shell.execute_reply.started": "2021-06-28T00:56:53.742734Z"
    },
    "executionInfo": {
     "elapsed": 19,
     "status": "ok",
     "timestamp": 1624816280275,
     "user": {
      "displayName": "Dave Ng",
      "photoUrl": "https://lh3.googleusercontent.com/a-/AOh14GgonRm27MsGqoj6VBdYHSPgZwrgEH99_VpwU7OMzQ=s64",
      "userId": "11648937927449049695"
     },
     "user_tz": -480
    },
    "id": "pVWpQQCFhs-V",
    "outputId": "724188c3-ac13-4240-ed62-c094c69591ea",
    "papermill": {
     "duration": 0.135053,
     "end_time": "2021-06-30T15:05:00.104697",
     "exception": false,
     "start_time": "2021-06-30T15:04:59.969644",
     "status": "completed"
    },
    "tags": []
   },
   "outputs": [],
   "source": [
    "# joblib.dump(model, '/content/drive/MyDrive/Colab Notebooks/ML Self-Projects/Asteroids Potential Hazards Prediction /Models/Models.joblib')\n",
    "# joblib.dump(scaler,'/content/drive/MyDrive/Colab Notebooks/ML Self-Projects/Asteroids Potential Hazards Prediction /Models/scaler.joblib')"
   ]
  },
  {
   "cell_type": "markdown",
   "id": "tender-monte",
   "metadata": {
    "id": "3Wx8TY8ajSyN",
    "papermill": {
     "duration": 0.126276,
     "end_time": "2021-06-30T15:05:00.357720",
     "exception": false,
     "start_time": "2021-06-30T15:05:00.231444",
     "status": "completed"
    },
    "tags": []
   },
   "source": [
    "# 7. Experimentation\n",
    "\n",
    "As we can see that both model are performing rather well with just the baseline modeling with out any hyperparameter tuning yet.\n",
    "\n",
    "1. We can try hypertune the model for a slighly better results.\n",
    "\n",
    "2. We can see from the feature importance from both models, diameter, albedo and diameter_sigma used in the models. however in the XGBoost the feature importance for it is lower. Could we instead drop that coloum for us to feed in more data instead?\n",
    "\n",
    "3. or instead, could we find a way to fill the diameter, albedo and diameter_sigma NaN?"
   ]
  }
 ],
 "metadata": {
  "kernelspec": {
   "display_name": "Python 3",
   "language": "python",
   "name": "python3"
  },
  "language_info": {
   "codemirror_mode": {
    "name": "ipython",
    "version": 3
   },
   "file_extension": ".py",
   "mimetype": "text/x-python",
   "name": "python",
   "nbconvert_exporter": "python",
   "pygments_lexer": "ipython3",
   "version": "3.7.10"
  },
  "papermill": {
   "default_parameters": {},
   "duration": 918.179093,
   "end_time": "2021-06-30T15:05:01.698223",
   "environment_variables": {},
   "exception": null,
   "input_path": "__notebook__.ipynb",
   "output_path": "__notebook__.ipynb",
   "parameters": {},
   "start_time": "2021-06-30T14:49:43.519130",
   "version": "2.3.3"
  }
 },
 "nbformat": 4,
 "nbformat_minor": 5
}
